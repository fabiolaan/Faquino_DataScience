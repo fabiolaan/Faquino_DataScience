{
  "nbformat": 4,
  "nbformat_minor": 0,
  "metadata": {
    "colab": {
      "name": "CONHECENDO_OS_DADOS.ipynb",
      "provenance": [],
      "mount_file_id": "1WYEEzbKxYI-8HT5qV-2YoJZvGxW-eeEM",
      "authorship_tag": "ABX9TyP+4vs0MAZZtTw6enHK1jyJ",
      "include_colab_link": true
    },
    "kernelspec": {
      "name": "python3",
      "display_name": "Python 3"
    },
    "language_info": {
      "name": "python"
    }
  },
  "cells": [
    {
      "cell_type": "markdown",
      "metadata": {
        "id": "view-in-github",
        "colab_type": "text"
      },
      "source": [
        "<a href=\"https://colab.research.google.com/github/fabiolaan/Faquino_DataScience/blob/main/CONHECENDO_OS_DADOS.ipynb\" target=\"_parent\"><img src=\"https://colab.research.google.com/assets/colab-badge.svg\" alt=\"Open In Colab\"/></a>"
      ]
    },
    {
      "cell_type": "markdown",
      "metadata": {
        "id": "9VC7Sij-TJu8"
      },
      "source": [
        "####O QUE VAMOS VER?\n",
        "\n",
        "---\n",
        "INÍCIO\n",
        "- Importar bibliotecas\n",
        "- Abrir arquivo csv\n",
        "- Visualizar dataframe\n",
        "- Explorar dataframe\n",
        "- Inserir colunas\n",
        "- Modificar o tipo de dado\n",
        "- Formar novos dataframes a partir de filtros\n",
        "- Substituir elmentos de uma coluna\n",
        "- \n",
        "\n",
        "MEIO\n",
        "- Medidas de tendência central\n",
        "- Medidas de dispersão\n",
        "-Assimetria e curtose\n",
        "\n",
        "FIM\n",
        "- Gráfico de coluna\n",
        "- Gráfico de barras\n",
        "- Gráfico de Setores"
      ]
    },
    {
      "cell_type": "markdown",
      "metadata": {
        "id": "SelwVFkjfnc-"
      },
      "source": [
        "##IMPORTAR DATASET\n",
        "\n",
        "---\n",
        "\n",
        "\n"
      ]
    },
    {
      "cell_type": "code",
      "metadata": {
        "id": "xyl-v7X4n4aF"
      },
      "source": [
        "import pandas as pd\n",
        "import matplotlib.pyplot as plt\n",
        "%matplotlib inline"
      ],
      "execution_count": null,
      "outputs": []
    },
    {
      "cell_type": "markdown",
      "metadata": {
        "id": "_KznZ3XOjUxR"
      },
      "source": [
        "##ABRIR DATASET COMO UM DATAFRAME\n",
        "\n",
        "---\n",
        "\n"
      ]
    },
    {
      "cell_type": "code",
      "metadata": {
        "id": "aPUzs9yCjb_s",
        "colab": {
          "base_uri": "https://localhost:8080/",
          "height": 295
        },
        "outputId": "d607cdfd-f3e6-473a-976a-44fb9d2132cb"
      },
      "source": [
        "df = pd.read_csv('/content/drive/MyDrive/campeonato-brasileiro-full.csv')\n",
        "df.head()"
      ],
      "execution_count": null,
      "outputs": [
        {
          "output_type": "execute_result",
          "data": {
            "text/html": [
              "<div>\n",
              "<style scoped>\n",
              "    .dataframe tbody tr th:only-of-type {\n",
              "        vertical-align: middle;\n",
              "    }\n",
              "\n",
              "    .dataframe tbody tr th {\n",
              "        vertical-align: top;\n",
              "    }\n",
              "\n",
              "    .dataframe thead th {\n",
              "        text-align: right;\n",
              "    }\n",
              "</style>\n",
              "<table border=\"1\" class=\"dataframe\">\n",
              "  <thead>\n",
              "    <tr style=\"text-align: right;\">\n",
              "      <th></th>\n",
              "      <th>ID</th>\n",
              "      <th>Rodada</th>\n",
              "      <th>Data</th>\n",
              "      <th>Horário</th>\n",
              "      <th>Dia</th>\n",
              "      <th>Mandante</th>\n",
              "      <th>Visitante</th>\n",
              "      <th>Vencedor</th>\n",
              "      <th>Arena</th>\n",
              "      <th>Mandante Placar</th>\n",
              "      <th>Visitante Placar</th>\n",
              "      <th>Estado Mandante</th>\n",
              "      <th>Estado Visitante</th>\n",
              "      <th>Estado Vencedor</th>\n",
              "    </tr>\n",
              "  </thead>\n",
              "  <tbody>\n",
              "    <tr>\n",
              "      <th>0</th>\n",
              "      <td>1</td>\n",
              "      <td>1</td>\n",
              "      <td>2000-07-29</td>\n",
              "      <td>16h00</td>\n",
              "      <td>Sábado</td>\n",
              "      <td>Fluminense</td>\n",
              "      <td>Bahia</td>\n",
              "      <td>Fluminense</td>\n",
              "      <td>Maracanã</td>\n",
              "      <td>2</td>\n",
              "      <td>0</td>\n",
              "      <td>RJ</td>\n",
              "      <td>BA</td>\n",
              "      <td>RJ</td>\n",
              "    </tr>\n",
              "    <tr>\n",
              "      <th>1</th>\n",
              "      <td>2</td>\n",
              "      <td>1</td>\n",
              "      <td>2000-07-29</td>\n",
              "      <td>16h00</td>\n",
              "      <td>Sábado</td>\n",
              "      <td>Vasco</td>\n",
              "      <td>Sport</td>\n",
              "      <td>Sport</td>\n",
              "      <td>São Januário</td>\n",
              "      <td>0</td>\n",
              "      <td>2</td>\n",
              "      <td>RJ</td>\n",
              "      <td>PE</td>\n",
              "      <td>PE</td>\n",
              "    </tr>\n",
              "    <tr>\n",
              "      <th>2</th>\n",
              "      <td>3</td>\n",
              "      <td>1</td>\n",
              "      <td>2000-07-29</td>\n",
              "      <td>16h00</td>\n",
              "      <td>Sábado</td>\n",
              "      <td>Vitória</td>\n",
              "      <td>Palmeiras</td>\n",
              "      <td>Vitória</td>\n",
              "      <td>Barradão</td>\n",
              "      <td>4</td>\n",
              "      <td>1</td>\n",
              "      <td>ES</td>\n",
              "      <td>SP</td>\n",
              "      <td>ES</td>\n",
              "    </tr>\n",
              "    <tr>\n",
              "      <th>3</th>\n",
              "      <td>4</td>\n",
              "      <td>1</td>\n",
              "      <td>2000-07-30</td>\n",
              "      <td>17h00</td>\n",
              "      <td>Domingo</td>\n",
              "      <td>Botafogo-RJ</td>\n",
              "      <td>Atlético-MG</td>\n",
              "      <td>-</td>\n",
              "      <td>Caio Martins</td>\n",
              "      <td>0</td>\n",
              "      <td>0</td>\n",
              "      <td>RJ</td>\n",
              "      <td>MG</td>\n",
              "      <td>-</td>\n",
              "    </tr>\n",
              "    <tr>\n",
              "      <th>4</th>\n",
              "      <td>5</td>\n",
              "      <td>1</td>\n",
              "      <td>2000-07-30</td>\n",
              "      <td>18h30</td>\n",
              "      <td>Domingo</td>\n",
              "      <td>Juventude</td>\n",
              "      <td>Flamengo</td>\n",
              "      <td>-</td>\n",
              "      <td>Alfredo Jaconi</td>\n",
              "      <td>1</td>\n",
              "      <td>1</td>\n",
              "      <td>RS</td>\n",
              "      <td>RJ</td>\n",
              "      <td>-</td>\n",
              "    </tr>\n",
              "  </tbody>\n",
              "</table>\n",
              "</div>"
            ],
            "text/plain": [
              "   ID Rodada        Data  ... Estado Mandante Estado Visitante Estado Vencedor\n",
              "0   1      1  2000-07-29  ...              RJ               BA              RJ\n",
              "1   2      1  2000-07-29  ...              RJ               PE              PE\n",
              "2   3      1  2000-07-29  ...              ES               SP              ES\n",
              "3   4      1  2000-07-30  ...              RJ               MG               -\n",
              "4   5      1  2000-07-30  ...              RS               RJ               -\n",
              "\n",
              "[5 rows x 14 columns]"
            ]
          },
          "metadata": {
            "tags": []
          },
          "execution_count": 2
        }
      ]
    },
    {
      "cell_type": "markdown",
      "metadata": {
        "id": "mhoYMVP1lUzh"
      },
      "source": [
        "##CONHECENDO OS DADOS\n",
        "\n",
        "---\n",
        "\n"
      ]
    },
    {
      "cell_type": "code",
      "metadata": {
        "id": "AtFUuUlvrHpZ"
      },
      "source": [
        "#Listar as colunas presentes no Dataframe\n",
        "df.columns"
      ],
      "execution_count": null,
      "outputs": []
    },
    {
      "cell_type": "code",
      "metadata": {
        "id": "OI9zZuZRBs5A"
      },
      "source": [
        "#informações sobre dataset\n",
        "df.info()"
      ],
      "execution_count": null,
      "outputs": []
    },
    {
      "cell_type": "code",
      "metadata": {
        "id": "GzHKF3YnGi43",
        "colab": {
          "base_uri": "https://localhost:8080/"
        },
        "outputId": "a9d2f30a-9219-441b-d83a-aaa86ccc3473"
      },
      "source": [
        "#utilizar a função to_datetime do Pandas e passamos a coluna Data do nosso DataFrame\n",
        "df['Data'] =  pd.to_datetime(df['Data'])\n",
        "df.info()"
      ],
      "execution_count": null,
      "outputs": [
        {
          "output_type": "stream",
          "text": [
            "<class 'pandas.core.frame.DataFrame'>\n",
            "RangeIndex: 8319 entries, 0 to 8318\n",
            "Data columns (total 16 columns):\n",
            " #   Column            Non-Null Count  Dtype         \n",
            "---  ------            --------------  -----         \n",
            " 0   ID                8319 non-null   int64         \n",
            " 1   Rodada            8319 non-null   object        \n",
            " 2   Data              8319 non-null   datetime64[ns]\n",
            " 3   Horário           7962 non-null   object        \n",
            " 4   Dia               8319 non-null   object        \n",
            " 5   Mandante          8319 non-null   object        \n",
            " 6   Visitante         8319 non-null   object        \n",
            " 7   Vencedor          8319 non-null   object        \n",
            " 8   Arena             8319 non-null   object        \n",
            " 9   Mandante Placar   8319 non-null   int64         \n",
            " 10  Visitante Placar  8319 non-null   int64         \n",
            " 11  Estado Mandante   8319 non-null   object        \n",
            " 12  Estado Visitante  8319 non-null   object        \n",
            " 13  Estado Vencedor   8319 non-null   object        \n",
            " 14  Total_gols        8319 non-null   int64         \n",
            " 15  total_gools       8319 non-null   int64         \n",
            "dtypes: datetime64[ns](1), int64(5), object(10)\n",
            "memory usage: 1.0+ MB\n"
          ],
          "name": "stdout"
        }
      ]
    },
    {
      "cell_type": "code",
      "metadata": {
        "id": "Y7ONLp7ZlbQT",
        "colab": {
          "base_uri": "https://localhost:8080/"
        },
        "outputId": "68a7bbac-00d6-4372-9adf-40fa7ae7cbf4"
      },
      "source": [
        "#Quantidade de linhas e colunas do DataFrame\n",
        "df.shape"
      ],
      "execution_count": null,
      "outputs": [
        {
          "output_type": "execute_result",
          "data": {
            "text/plain": [
              "(8319, 14)"
            ]
          },
          "metadata": {
            "tags": []
          },
          "execution_count": 84
        }
      ]
    },
    {
      "cell_type": "code",
      "metadata": {
        "colab": {
          "base_uri": "https://localhost:8080/",
          "height": 296
        },
        "id": "I7KVl0mj5azP",
        "outputId": "5276da25-6b4c-4abf-c872-0d7aae5192e9"
      },
      "source": [
        "df['Total_gols']= df['Mandante Placar']+df['Visitante Placar']\n",
        "df.head()"
      ],
      "execution_count": null,
      "outputs": [
        {
          "output_type": "execute_result",
          "data": {
            "text/html": [
              "<div>\n",
              "<style scoped>\n",
              "    .dataframe tbody tr th:only-of-type {\n",
              "        vertical-align: middle;\n",
              "    }\n",
              "\n",
              "    .dataframe tbody tr th {\n",
              "        vertical-align: top;\n",
              "    }\n",
              "\n",
              "    .dataframe thead th {\n",
              "        text-align: right;\n",
              "    }\n",
              "</style>\n",
              "<table border=\"1\" class=\"dataframe\">\n",
              "  <thead>\n",
              "    <tr style=\"text-align: right;\">\n",
              "      <th></th>\n",
              "      <th>ID</th>\n",
              "      <th>Rodada</th>\n",
              "      <th>Data</th>\n",
              "      <th>Horário</th>\n",
              "      <th>Dia</th>\n",
              "      <th>Mandante</th>\n",
              "      <th>Visitante</th>\n",
              "      <th>Vencedor</th>\n",
              "      <th>Arena</th>\n",
              "      <th>Mandante Placar</th>\n",
              "      <th>Visitante Placar</th>\n",
              "      <th>Estado Mandante</th>\n",
              "      <th>Estado Visitante</th>\n",
              "      <th>Estado Vencedor</th>\n",
              "      <th>Total_gols</th>\n",
              "    </tr>\n",
              "  </thead>\n",
              "  <tbody>\n",
              "    <tr>\n",
              "      <th>0</th>\n",
              "      <td>1</td>\n",
              "      <td>1</td>\n",
              "      <td>2000-07-29</td>\n",
              "      <td>16h00</td>\n",
              "      <td>Sábado</td>\n",
              "      <td>Fluminense</td>\n",
              "      <td>Bahia</td>\n",
              "      <td>Fluminense</td>\n",
              "      <td>Maracanã</td>\n",
              "      <td>2</td>\n",
              "      <td>0</td>\n",
              "      <td>RJ</td>\n",
              "      <td>BA</td>\n",
              "      <td>RJ</td>\n",
              "      <td>2</td>\n",
              "    </tr>\n",
              "    <tr>\n",
              "      <th>1</th>\n",
              "      <td>2</td>\n",
              "      <td>1</td>\n",
              "      <td>2000-07-29</td>\n",
              "      <td>16h00</td>\n",
              "      <td>Sábado</td>\n",
              "      <td>Vasco</td>\n",
              "      <td>Sport</td>\n",
              "      <td>Sport</td>\n",
              "      <td>São Januário</td>\n",
              "      <td>0</td>\n",
              "      <td>2</td>\n",
              "      <td>RJ</td>\n",
              "      <td>PE</td>\n",
              "      <td>PE</td>\n",
              "      <td>2</td>\n",
              "    </tr>\n",
              "    <tr>\n",
              "      <th>2</th>\n",
              "      <td>3</td>\n",
              "      <td>1</td>\n",
              "      <td>2000-07-29</td>\n",
              "      <td>16h00</td>\n",
              "      <td>Sábado</td>\n",
              "      <td>Vitória</td>\n",
              "      <td>Palmeiras</td>\n",
              "      <td>Vitória</td>\n",
              "      <td>Barradão</td>\n",
              "      <td>4</td>\n",
              "      <td>1</td>\n",
              "      <td>ES</td>\n",
              "      <td>SP</td>\n",
              "      <td>ES</td>\n",
              "      <td>5</td>\n",
              "    </tr>\n",
              "    <tr>\n",
              "      <th>3</th>\n",
              "      <td>4</td>\n",
              "      <td>1</td>\n",
              "      <td>2000-07-30</td>\n",
              "      <td>17h00</td>\n",
              "      <td>Domingo</td>\n",
              "      <td>Botafogo-RJ</td>\n",
              "      <td>Atlético-MG</td>\n",
              "      <td>-</td>\n",
              "      <td>Caio Martins</td>\n",
              "      <td>0</td>\n",
              "      <td>0</td>\n",
              "      <td>RJ</td>\n",
              "      <td>MG</td>\n",
              "      <td>-</td>\n",
              "      <td>0</td>\n",
              "    </tr>\n",
              "    <tr>\n",
              "      <th>4</th>\n",
              "      <td>5</td>\n",
              "      <td>1</td>\n",
              "      <td>2000-07-30</td>\n",
              "      <td>18h30</td>\n",
              "      <td>Domingo</td>\n",
              "      <td>Juventude</td>\n",
              "      <td>Flamengo</td>\n",
              "      <td>-</td>\n",
              "      <td>Alfredo Jaconi</td>\n",
              "      <td>1</td>\n",
              "      <td>1</td>\n",
              "      <td>RS</td>\n",
              "      <td>RJ</td>\n",
              "      <td>-</td>\n",
              "      <td>2</td>\n",
              "    </tr>\n",
              "  </tbody>\n",
              "</table>\n",
              "</div>"
            ],
            "text/plain": [
              "   ID Rodada       Data  ... Estado Visitante Estado Vencedor Total_gols\n",
              "0   1      1 2000-07-29  ...               BA              RJ          2\n",
              "1   2      1 2000-07-29  ...               PE              PE          2\n",
              "2   3      1 2000-07-29  ...               SP              ES          5\n",
              "3   4      1 2000-07-30  ...               MG               -          0\n",
              "4   5      1 2000-07-30  ...               RJ               -          2\n",
              "\n",
              "[5 rows x 15 columns]"
            ]
          },
          "metadata": {
            "tags": []
          },
          "execution_count": 93
        }
      ]
    },
    {
      "cell_type": "code",
      "metadata": {
        "id": "3WjmqPZxKxsJ",
        "colab": {
          "base_uri": "https://localhost:8080/",
          "height": 295
        },
        "outputId": "6d039a25-1f13-4386-a1dd-be25b8c847ef"
      },
      "source": [
        "#Substituir elementos de uma determinada coluna\n",
        "df['Vencedor']=df.Vencedor.str.replace('-','Empate')\n",
        "df.head()"
      ],
      "execution_count": null,
      "outputs": [
        {
          "output_type": "execute_result",
          "data": {
            "text/html": [
              "<div>\n",
              "<style scoped>\n",
              "    .dataframe tbody tr th:only-of-type {\n",
              "        vertical-align: middle;\n",
              "    }\n",
              "\n",
              "    .dataframe tbody tr th {\n",
              "        vertical-align: top;\n",
              "    }\n",
              "\n",
              "    .dataframe thead th {\n",
              "        text-align: right;\n",
              "    }\n",
              "</style>\n",
              "<table border=\"1\" class=\"dataframe\">\n",
              "  <thead>\n",
              "    <tr style=\"text-align: right;\">\n",
              "      <th></th>\n",
              "      <th>ID</th>\n",
              "      <th>Rodada</th>\n",
              "      <th>Data</th>\n",
              "      <th>Horário</th>\n",
              "      <th>Dia</th>\n",
              "      <th>Mandante</th>\n",
              "      <th>Visitante</th>\n",
              "      <th>Vencedor</th>\n",
              "      <th>Arena</th>\n",
              "      <th>Mandante Placar</th>\n",
              "      <th>Visitante Placar</th>\n",
              "      <th>Estado Mandante</th>\n",
              "      <th>Estado Visitante</th>\n",
              "      <th>Estado Vencedor</th>\n",
              "      <th>Total_gols</th>\n",
              "      <th>total_gools</th>\n",
              "    </tr>\n",
              "  </thead>\n",
              "  <tbody>\n",
              "    <tr>\n",
              "      <th>0</th>\n",
              "      <td>1</td>\n",
              "      <td>1</td>\n",
              "      <td>2000-07-29</td>\n",
              "      <td>16h00</td>\n",
              "      <td>sábado</td>\n",
              "      <td>Fluminense</td>\n",
              "      <td>BAHIA</td>\n",
              "      <td>Fluminense</td>\n",
              "      <td>Maracanã</td>\n",
              "      <td>2</td>\n",
              "      <td>0</td>\n",
              "      <td>RJ</td>\n",
              "      <td>BA</td>\n",
              "      <td>RJ</td>\n",
              "      <td>2</td>\n",
              "      <td>2</td>\n",
              "    </tr>\n",
              "    <tr>\n",
              "      <th>1</th>\n",
              "      <td>2</td>\n",
              "      <td>1</td>\n",
              "      <td>2000-07-29</td>\n",
              "      <td>16h00</td>\n",
              "      <td>sábado</td>\n",
              "      <td>Vasco</td>\n",
              "      <td>SPORT</td>\n",
              "      <td>Sport</td>\n",
              "      <td>São Januário</td>\n",
              "      <td>0</td>\n",
              "      <td>2</td>\n",
              "      <td>RJ</td>\n",
              "      <td>PE</td>\n",
              "      <td>PE</td>\n",
              "      <td>2</td>\n",
              "      <td>2</td>\n",
              "    </tr>\n",
              "    <tr>\n",
              "      <th>2</th>\n",
              "      <td>3</td>\n",
              "      <td>1</td>\n",
              "      <td>2000-07-29</td>\n",
              "      <td>16h00</td>\n",
              "      <td>sábado</td>\n",
              "      <td>Vitória</td>\n",
              "      <td>PALMEIRAS</td>\n",
              "      <td>Vitória</td>\n",
              "      <td>Barradão</td>\n",
              "      <td>4</td>\n",
              "      <td>1</td>\n",
              "      <td>ES</td>\n",
              "      <td>SP</td>\n",
              "      <td>ES</td>\n",
              "      <td>5</td>\n",
              "      <td>5</td>\n",
              "    </tr>\n",
              "    <tr>\n",
              "      <th>3</th>\n",
              "      <td>4</td>\n",
              "      <td>1</td>\n",
              "      <td>2000-07-30</td>\n",
              "      <td>17h00</td>\n",
              "      <td>domingo</td>\n",
              "      <td>Botafogo-rj</td>\n",
              "      <td>ATLÉTICO-MG</td>\n",
              "      <td>Empate</td>\n",
              "      <td>Caio Martins</td>\n",
              "      <td>0</td>\n",
              "      <td>0</td>\n",
              "      <td>RJ</td>\n",
              "      <td>MG</td>\n",
              "      <td>-</td>\n",
              "      <td>0</td>\n",
              "      <td>0</td>\n",
              "    </tr>\n",
              "    <tr>\n",
              "      <th>4</th>\n",
              "      <td>5</td>\n",
              "      <td>1</td>\n",
              "      <td>2000-07-30</td>\n",
              "      <td>18h30</td>\n",
              "      <td>domingo</td>\n",
              "      <td>Juventude</td>\n",
              "      <td>FLAMENGO</td>\n",
              "      <td>Empate</td>\n",
              "      <td>Alfredo Jaconi</td>\n",
              "      <td>1</td>\n",
              "      <td>1</td>\n",
              "      <td>RS</td>\n",
              "      <td>RJ</td>\n",
              "      <td>-</td>\n",
              "      <td>2</td>\n",
              "      <td>2</td>\n",
              "    </tr>\n",
              "  </tbody>\n",
              "</table>\n",
              "</div>"
            ],
            "text/plain": [
              "   ID Rodada       Data  ... Estado Vencedor Total_gols total_gools\n",
              "0   1      1 2000-07-29  ...              RJ          2           2\n",
              "1   2      1 2000-07-29  ...              PE          2           2\n",
              "2   3      1 2000-07-29  ...              ES          5           5\n",
              "3   4      1 2000-07-30  ...               -          0           0\n",
              "4   5      1 2000-07-30  ...               -          2           2\n",
              "\n",
              "[5 rows x 16 columns]"
            ]
          },
          "metadata": {
            "tags": []
          },
          "execution_count": 23
        }
      ]
    },
    {
      "cell_type": "code",
      "metadata": {
        "id": "WsQ_PwkWT98B",
        "colab": {
          "base_uri": "https://localhost:8080/",
          "height": 295
        },
        "outputId": "317fcf91-5662-46cc-8451-06f12e18989d"
      },
      "source": [
        "#inserir nova coluna com o ano do campeonato\n",
        "df['Ano']=df['Data'].dt.year\n",
        "df.head()"
      ],
      "execution_count": null,
      "outputs": [
        {
          "output_type": "execute_result",
          "data": {
            "text/html": [
              "<div>\n",
              "<style scoped>\n",
              "    .dataframe tbody tr th:only-of-type {\n",
              "        vertical-align: middle;\n",
              "    }\n",
              "\n",
              "    .dataframe tbody tr th {\n",
              "        vertical-align: top;\n",
              "    }\n",
              "\n",
              "    .dataframe thead th {\n",
              "        text-align: right;\n",
              "    }\n",
              "</style>\n",
              "<table border=\"1\" class=\"dataframe\">\n",
              "  <thead>\n",
              "    <tr style=\"text-align: right;\">\n",
              "      <th></th>\n",
              "      <th>ID</th>\n",
              "      <th>Rodada</th>\n",
              "      <th>Data</th>\n",
              "      <th>Horário</th>\n",
              "      <th>Dia</th>\n",
              "      <th>Mandante</th>\n",
              "      <th>Visitante</th>\n",
              "      <th>Vencedor</th>\n",
              "      <th>Arena</th>\n",
              "      <th>Mandante Placar</th>\n",
              "      <th>Visitante Placar</th>\n",
              "      <th>Estado Mandante</th>\n",
              "      <th>Estado Visitante</th>\n",
              "      <th>Estado Vencedor</th>\n",
              "      <th>Total_gols</th>\n",
              "      <th>total_gools</th>\n",
              "      <th>Ano</th>\n",
              "    </tr>\n",
              "  </thead>\n",
              "  <tbody>\n",
              "    <tr>\n",
              "      <th>0</th>\n",
              "      <td>1</td>\n",
              "      <td>1</td>\n",
              "      <td>2000-07-29</td>\n",
              "      <td>16h00</td>\n",
              "      <td>sábado</td>\n",
              "      <td>Fluminense</td>\n",
              "      <td>BAHIA</td>\n",
              "      <td>Fluminense</td>\n",
              "      <td>Maracanã</td>\n",
              "      <td>2</td>\n",
              "      <td>0</td>\n",
              "      <td>RJ</td>\n",
              "      <td>BA</td>\n",
              "      <td>RJ</td>\n",
              "      <td>2</td>\n",
              "      <td>2</td>\n",
              "      <td>2000</td>\n",
              "    </tr>\n",
              "    <tr>\n",
              "      <th>1</th>\n",
              "      <td>2</td>\n",
              "      <td>1</td>\n",
              "      <td>2000-07-29</td>\n",
              "      <td>16h00</td>\n",
              "      <td>sábado</td>\n",
              "      <td>Vasco</td>\n",
              "      <td>SPORT</td>\n",
              "      <td>Sport</td>\n",
              "      <td>São Januário</td>\n",
              "      <td>0</td>\n",
              "      <td>2</td>\n",
              "      <td>RJ</td>\n",
              "      <td>PE</td>\n",
              "      <td>PE</td>\n",
              "      <td>2</td>\n",
              "      <td>2</td>\n",
              "      <td>2000</td>\n",
              "    </tr>\n",
              "    <tr>\n",
              "      <th>2</th>\n",
              "      <td>3</td>\n",
              "      <td>1</td>\n",
              "      <td>2000-07-29</td>\n",
              "      <td>16h00</td>\n",
              "      <td>sábado</td>\n",
              "      <td>Vitória</td>\n",
              "      <td>PALMEIRAS</td>\n",
              "      <td>Vitória</td>\n",
              "      <td>Barradão</td>\n",
              "      <td>4</td>\n",
              "      <td>1</td>\n",
              "      <td>ES</td>\n",
              "      <td>SP</td>\n",
              "      <td>ES</td>\n",
              "      <td>5</td>\n",
              "      <td>5</td>\n",
              "      <td>2000</td>\n",
              "    </tr>\n",
              "    <tr>\n",
              "      <th>3</th>\n",
              "      <td>4</td>\n",
              "      <td>1</td>\n",
              "      <td>2000-07-30</td>\n",
              "      <td>17h00</td>\n",
              "      <td>domingo</td>\n",
              "      <td>Botafogo-rj</td>\n",
              "      <td>ATLÉTICO-MG</td>\n",
              "      <td>Empate</td>\n",
              "      <td>Caio Martins</td>\n",
              "      <td>0</td>\n",
              "      <td>0</td>\n",
              "      <td>RJ</td>\n",
              "      <td>MG</td>\n",
              "      <td>-</td>\n",
              "      <td>0</td>\n",
              "      <td>0</td>\n",
              "      <td>2000</td>\n",
              "    </tr>\n",
              "    <tr>\n",
              "      <th>4</th>\n",
              "      <td>5</td>\n",
              "      <td>1</td>\n",
              "      <td>2000-07-30</td>\n",
              "      <td>18h30</td>\n",
              "      <td>domingo</td>\n",
              "      <td>Juventude</td>\n",
              "      <td>FLAMENGO</td>\n",
              "      <td>Empate</td>\n",
              "      <td>Alfredo Jaconi</td>\n",
              "      <td>1</td>\n",
              "      <td>1</td>\n",
              "      <td>RS</td>\n",
              "      <td>RJ</td>\n",
              "      <td>-</td>\n",
              "      <td>2</td>\n",
              "      <td>2</td>\n",
              "      <td>2000</td>\n",
              "    </tr>\n",
              "  </tbody>\n",
              "</table>\n",
              "</div>"
            ],
            "text/plain": [
              "   ID Rodada       Data Horário  ... Estado Vencedor Total_gols total_gools   Ano\n",
              "0   1      1 2000-07-29   16h00  ...              RJ          2           2  2000\n",
              "1   2      1 2000-07-29   16h00  ...              PE          2           2  2000\n",
              "2   3      1 2000-07-29   16h00  ...              ES          5           5  2000\n",
              "3   4      1 2000-07-30   17h00  ...               -          0           0  2000\n",
              "4   5      1 2000-07-30   18h30  ...               -          2           2  2000\n",
              "\n",
              "[5 rows x 17 columns]"
            ]
          },
          "metadata": {
            "tags": []
          },
          "execution_count": 24
        }
      ]
    },
    {
      "cell_type": "code",
      "metadata": {
        "id": "oUC-JVkfJWTs",
        "colab": {
          "base_uri": "https://localhost:8080/",
          "height": 295
        },
        "outputId": "fd9cdbfc-d5d2-405a-9b9e-6a066325ff0b"
      },
      "source": [
        "#Inserir nova coluna total de gols\n",
        "df['Total_gols'] = df['Mandante Placar'] + df['Visitante Placar']\n",
        "df.head()"
      ],
      "execution_count": null,
      "outputs": [
        {
          "output_type": "execute_result",
          "data": {
            "text/html": [
              "<div>\n",
              "<style scoped>\n",
              "    .dataframe tbody tr th:only-of-type {\n",
              "        vertical-align: middle;\n",
              "    }\n",
              "\n",
              "    .dataframe tbody tr th {\n",
              "        vertical-align: top;\n",
              "    }\n",
              "\n",
              "    .dataframe thead th {\n",
              "        text-align: right;\n",
              "    }\n",
              "</style>\n",
              "<table border=\"1\" class=\"dataframe\">\n",
              "  <thead>\n",
              "    <tr style=\"text-align: right;\">\n",
              "      <th></th>\n",
              "      <th>ID</th>\n",
              "      <th>Rodada</th>\n",
              "      <th>Data</th>\n",
              "      <th>Horário</th>\n",
              "      <th>Dia</th>\n",
              "      <th>Mandante</th>\n",
              "      <th>Visitante</th>\n",
              "      <th>Vencedor</th>\n",
              "      <th>Arena</th>\n",
              "      <th>Mandante Placar</th>\n",
              "      <th>Visitante Placar</th>\n",
              "      <th>Estado Mandante</th>\n",
              "      <th>Estado Visitante</th>\n",
              "      <th>Estado Vencedor</th>\n",
              "      <th>Total_gols</th>\n",
              "    </tr>\n",
              "  </thead>\n",
              "  <tbody>\n",
              "    <tr>\n",
              "      <th>0</th>\n",
              "      <td>1</td>\n",
              "      <td>1</td>\n",
              "      <td>2000-07-29</td>\n",
              "      <td>16h00</td>\n",
              "      <td>sábado</td>\n",
              "      <td>FLUMINENSE</td>\n",
              "      <td>BAHIA</td>\n",
              "      <td>Fluminense</td>\n",
              "      <td>Maracanã</td>\n",
              "      <td>2</td>\n",
              "      <td>0</td>\n",
              "      <td>RJ</td>\n",
              "      <td>BA</td>\n",
              "      <td>RJ</td>\n",
              "      <td>2</td>\n",
              "    </tr>\n",
              "    <tr>\n",
              "      <th>1</th>\n",
              "      <td>2</td>\n",
              "      <td>1</td>\n",
              "      <td>2000-07-29</td>\n",
              "      <td>16h00</td>\n",
              "      <td>sábado</td>\n",
              "      <td>VASCO</td>\n",
              "      <td>SPORT</td>\n",
              "      <td>Sport</td>\n",
              "      <td>São Januário</td>\n",
              "      <td>0</td>\n",
              "      <td>2</td>\n",
              "      <td>RJ</td>\n",
              "      <td>PE</td>\n",
              "      <td>PE</td>\n",
              "      <td>2</td>\n",
              "    </tr>\n",
              "    <tr>\n",
              "      <th>2</th>\n",
              "      <td>3</td>\n",
              "      <td>1</td>\n",
              "      <td>2000-07-29</td>\n",
              "      <td>16h00</td>\n",
              "      <td>sábado</td>\n",
              "      <td>VITÓRIA</td>\n",
              "      <td>PALMEIRAS</td>\n",
              "      <td>Vitória</td>\n",
              "      <td>Barradão</td>\n",
              "      <td>4</td>\n",
              "      <td>1</td>\n",
              "      <td>ES</td>\n",
              "      <td>SP</td>\n",
              "      <td>ES</td>\n",
              "      <td>5</td>\n",
              "    </tr>\n",
              "    <tr>\n",
              "      <th>3</th>\n",
              "      <td>4</td>\n",
              "      <td>1</td>\n",
              "      <td>2000-07-30</td>\n",
              "      <td>17h00</td>\n",
              "      <td>domingo</td>\n",
              "      <td>BOTAFOGO-RJ</td>\n",
              "      <td>ATLÉTICO-MG</td>\n",
              "      <td>-</td>\n",
              "      <td>Caio Martins</td>\n",
              "      <td>0</td>\n",
              "      <td>0</td>\n",
              "      <td>RJ</td>\n",
              "      <td>MG</td>\n",
              "      <td>-</td>\n",
              "      <td>0</td>\n",
              "    </tr>\n",
              "    <tr>\n",
              "      <th>4</th>\n",
              "      <td>5</td>\n",
              "      <td>1</td>\n",
              "      <td>2000-07-30</td>\n",
              "      <td>18h30</td>\n",
              "      <td>domingo</td>\n",
              "      <td>JUVENTUDE</td>\n",
              "      <td>FLAMENGO</td>\n",
              "      <td>-</td>\n",
              "      <td>Alfredo Jaconi</td>\n",
              "      <td>1</td>\n",
              "      <td>1</td>\n",
              "      <td>RS</td>\n",
              "      <td>RJ</td>\n",
              "      <td>-</td>\n",
              "      <td>2</td>\n",
              "    </tr>\n",
              "  </tbody>\n",
              "</table>\n",
              "</div>"
            ],
            "text/plain": [
              "   ID Rodada        Data  ... Estado Visitante Estado Vencedor Total_gols\n",
              "0   1      1  2000-07-29  ...               BA              RJ          2\n",
              "1   2      1  2000-07-29  ...               PE              PE          2\n",
              "2   3      1  2000-07-29  ...               SP              ES          5\n",
              "3   4      1  2000-07-30  ...               MG               -          0\n",
              "4   5      1  2000-07-30  ...               RJ               -          2\n",
              "\n",
              "[5 rows x 15 columns]"
            ]
          },
          "metadata": {
            "tags": []
          },
          "execution_count": 10
        }
      ]
    },
    {
      "cell_type": "code",
      "metadata": {
        "id": "QunKwxDx4CeZ"
      },
      "source": [
        "#Inserir nova coluna total de gools por jogo\n",
        "df['total_gools']=df['Mandante Placar'] + df['Visitante Placar']"
      ],
      "execution_count": null,
      "outputs": []
    },
    {
      "cell_type": "code",
      "metadata": {
        "id": "dsWKiTdqqWS9",
        "colab": {
          "base_uri": "https://localhost:8080/"
        },
        "outputId": "3a982f34-164d-4e49-be6d-bd072baee905"
      },
      "source": [
        "#Contagem de valores nulos\n",
        "df.isnull().sum()"
      ],
      "execution_count": null,
      "outputs": [
        {
          "output_type": "execute_result",
          "data": {
            "text/plain": [
              "ID                    0\n",
              "Rodada                0\n",
              "Data                  0\n",
              "Horário             357\n",
              "Dia                   0\n",
              "Mandante              0\n",
              "Visitante             0\n",
              "Vencedor              0\n",
              "Arena                 0\n",
              "Mandante Placar       0\n",
              "Visitante Placar      0\n",
              "Estado Mandante       0\n",
              "Estado Visitante      0\n",
              "Estado Vencedor       0\n",
              "Total_gols            0\n",
              "total_gools           0\n",
              "dtype: int64"
            ]
          },
          "metadata": {
            "tags": []
          },
          "execution_count": 14
        }
      ]
    },
    {
      "cell_type": "code",
      "metadata": {
        "id": "4mSh_6onmQfY",
        "colab": {
          "base_uri": "https://localhost:8080/"
        },
        "outputId": "ad57cedb-73b4-4462-fc07-fb2f45f25acb"
      },
      "source": [
        "#Elementos que aparecem em uma determinada coluna\n",
        "df.Mandante.unique()"
      ],
      "execution_count": null,
      "outputs": [
        {
          "output_type": "execute_result",
          "data": {
            "text/plain": [
              "array(['FLUMINENSE', 'VASCO', 'VITÓRIA', 'BOTAFOGO-RJ', 'JUVENTUDE',\n",
              "       'GUARANI', 'CRUZEIRO', 'AMÉRICA-MG', 'GOIÁS', 'CORITIBA', 'BAHIA',\n",
              "       'FLAMENGO', 'GAMA', 'INTERNACIONAL', 'PONTE PRETA', 'SANTOS',\n",
              "       'PALMEIRAS', 'ATHLÉTICO-PR', 'CORINTHIANS', 'ATLÉTICO-MG',\n",
              "       'PORTUGUESA', 'GRÊMIO', 'SÃO PAULO', 'SANTA CRUZ', 'SPORT',\n",
              "       'PARANÁ', 'REMO', 'SÃO CAETANO', 'MALUTROM', 'BOTAFOGO-SP',\n",
              "       'FIGUEIRENSE', 'PAYSANDU', 'FORTALEZA', 'CRICIÚMA', 'BRASILIENSE',\n",
              "       'AMÉRICA-RN', 'NÁUTICO', 'IPATINGA', 'AVAÍ', 'SANTO ANDRÉ',\n",
              "       'BARUERI', 'ATLÉTICO-GO', 'CEARÁ', 'GRÊMIO PRUDENTE',\n",
              "       'CHAPECOENSE', 'JOINVILLE', 'CSA', 'BRAGANTINO'], dtype=object)"
            ]
          },
          "metadata": {
            "tags": []
          },
          "execution_count": 15
        }
      ]
    },
    {
      "cell_type": "code",
      "metadata": {
        "colab": {
          "base_uri": "https://localhost:8080/"
        },
        "id": "MRDLGjgpgKsB",
        "outputId": "2faee7ee-4c94-44cc-f0d1-e38c2b084176"
      },
      "source": [
        "df['Dia']=df.Dia.str.lower()\n",
        "df.Dia.unique()"
      ],
      "execution_count": null,
      "outputs": [
        {
          "output_type": "execute_result",
          "data": {
            "text/plain": [
              "array(['sábado', 'domingo', 'quarta-feira', 'quinta-feira', 'sexta-feira',\n",
              "       'terça-feira', 'segunda-feira'], dtype=object)"
            ]
          },
          "metadata": {
            "tags": []
          },
          "execution_count": 16
        }
      ]
    },
    {
      "cell_type": "code",
      "metadata": {
        "colab": {
          "base_uri": "https://localhost:8080/"
        },
        "id": "u0Z7hEwdglKL",
        "outputId": "568349d7-e2ef-4eb4-9ab8-0b344189a121"
      },
      "source": [
        "df['Mandante']=df.Mandante.str.upper()\n",
        "df.Mandante.unique()"
      ],
      "execution_count": null,
      "outputs": [
        {
          "output_type": "execute_result",
          "data": {
            "text/plain": [
              "array(['FLUMINENSE', 'VASCO', 'VITÓRIA', 'BOTAFOGO-RJ', 'JUVENTUDE',\n",
              "       'GUARANI', 'CRUZEIRO', 'AMÉRICA-MG', 'GOIÁS', 'CORITIBA', 'BAHIA',\n",
              "       'FLAMENGO', 'GAMA', 'INTERNACIONAL', 'PONTE PRETA', 'SANTOS',\n",
              "       'PALMEIRAS', 'ATHLÉTICO-PR', 'CORINTHIANS', 'ATLÉTICO-MG',\n",
              "       'PORTUGUESA', 'GRÊMIO', 'SÃO PAULO', 'SANTA CRUZ', 'SPORT',\n",
              "       'PARANÁ', 'REMO', 'SÃO CAETANO', 'MALUTROM', 'BOTAFOGO-SP',\n",
              "       'FIGUEIRENSE', 'PAYSANDU', 'FORTALEZA', 'CRICIÚMA', 'BRASILIENSE',\n",
              "       'AMÉRICA-RN', 'NÁUTICO', 'IPATINGA', 'AVAÍ', 'SANTO ANDRÉ',\n",
              "       'BARUERI', 'ATLÉTICO-GO', 'CEARÁ', 'GRÊMIO PRUDENTE',\n",
              "       'CHAPECOENSE', 'JOINVILLE', 'CSA', 'BRAGANTINO'], dtype=object)"
            ]
          },
          "metadata": {
            "tags": []
          },
          "execution_count": 17
        }
      ]
    },
    {
      "cell_type": "code",
      "metadata": {
        "colab": {
          "base_uri": "https://localhost:8080/"
        },
        "id": "LbkIrTEggzyK",
        "outputId": "7d685cf7-67b0-4e60-aafb-054813c33f12"
      },
      "source": [
        "df['Visitante']=df.Visitante.str.upper()\n",
        "df.Visitante.unique()"
      ],
      "execution_count": null,
      "outputs": [
        {
          "output_type": "execute_result",
          "data": {
            "text/plain": [
              "array(['BAHIA', 'SPORT', 'PALMEIRAS', 'ATLÉTICO-MG', 'FLAMENGO',\n",
              "       'SANTA CRUZ', 'ATHLÉTICO-PR', 'GAMA', 'CORINTHIANS', 'GRÊMIO',\n",
              "       'FLUMINENSE', 'GOIÁS', 'AMÉRICA-MG', 'VITÓRIA', 'BOTAFOGO-RJ',\n",
              "       'SANTOS', 'CRUZEIRO', 'PONTE PRETA', 'GUARANI', 'SÃO PAULO',\n",
              "       'PORTUGUESA', 'CORITIBA', 'INTERNACIONAL', 'JUVENTUDE', 'VASCO',\n",
              "       'PARANÁ', 'MALUTROM', 'SÃO CAETANO', 'REMO', 'BOTAFOGO-SP',\n",
              "       'PAYSANDU', 'FIGUEIRENSE', 'FORTALEZA', 'CRICIÚMA', 'BRASILIENSE',\n",
              "       'NÁUTICO', 'AMÉRICA-RN', 'IPATINGA', 'BARUERI', 'AVAÍ',\n",
              "       'SANTO ANDRÉ', 'GRÊMIO PRUDENTE', 'ATLÉTICO-GO', 'CEARÁ',\n",
              "       'CHAPECOENSE', 'JOINVILLE', 'CSA', 'BRAGANTINO'], dtype=object)"
            ]
          },
          "metadata": {
            "tags": []
          },
          "execution_count": 18
        }
      ]
    },
    {
      "cell_type": "code",
      "metadata": {
        "id": "Md6LzIoRDCgz"
      },
      "source": [
        "#letras minúsculas\n",
        "df['Dia']=df.Dia.str.lower()\n",
        "df['Mandante']=df.Mandante.str.capitalize()\n",
        "df['Visitante']=df.Visitante.str.upper()"
      ],
      "execution_count": null,
      "outputs": []
    },
    {
      "cell_type": "code",
      "metadata": {
        "id": "ngkjjVwkDn37",
        "colab": {
          "base_uri": "https://localhost:8080/"
        },
        "outputId": "c13b5ea7-d243-48b3-f606-9da564766f49"
      },
      "source": [
        "df.Visitante.unique()"
      ],
      "execution_count": null,
      "outputs": [
        {
          "output_type": "execute_result",
          "data": {
            "text/plain": [
              "array(['BAHIA', 'SPORT', 'PALMEIRAS', 'ATLÉTICO-MG', 'FLAMENGO',\n",
              "       'SANTA CRUZ', 'ATHLÉTICO-PR', 'GAMA', 'CORINTHIANS', 'GRÊMIO',\n",
              "       'FLUMINENSE', 'GOIÁS', 'AMÉRICA-MG', 'VITÓRIA', 'BOTAFOGO-RJ',\n",
              "       'SANTOS', 'CRUZEIRO', 'PONTE PRETA', 'GUARANI', 'SÃO PAULO',\n",
              "       'PORTUGUESA', 'CORITIBA', 'INTERNACIONAL', 'JUVENTUDE', 'VASCO',\n",
              "       'PARANÁ', 'MALUTROM', 'SÃO CAETANO', 'REMO', 'BOTAFOGO-SP',\n",
              "       'PAYSANDU', 'FIGUEIRENSE', 'FORTALEZA', 'CRICIÚMA', 'BRASILIENSE',\n",
              "       'NÁUTICO', 'AMÉRICA-RN', 'IPATINGA', 'BARUERI', 'AVAÍ',\n",
              "       'SANTO ANDRÉ', 'GRÊMIO PRUDENTE', 'ATLÉTICO-GO', 'CEARÁ',\n",
              "       'CHAPECOENSE', 'JOINVILLE', 'CSA', 'BRAGANTINO'], dtype=object)"
            ]
          },
          "metadata": {
            "tags": []
          },
          "execution_count": 20
        }
      ]
    },
    {
      "cell_type": "code",
      "metadata": {
        "id": "FZBuNZhZ08qr",
        "colab": {
          "base_uri": "https://localhost:8080/",
          "height": 261
        },
        "outputId": "81fe40e9-43ce-4b03-daac-dd3ba332cd4d"
      },
      "source": [
        "#filtrar informações na coluna\n",
        "ano = df[(df['Ano']==2019) | (df['Ano']==2020)]\n",
        "ano.head()"
      ],
      "execution_count": null,
      "outputs": [
        {
          "output_type": "execute_result",
          "data": {
            "text/html": [
              "<div>\n",
              "<style scoped>\n",
              "    .dataframe tbody tr th:only-of-type {\n",
              "        vertical-align: middle;\n",
              "    }\n",
              "\n",
              "    .dataframe tbody tr th {\n",
              "        vertical-align: top;\n",
              "    }\n",
              "\n",
              "    .dataframe thead th {\n",
              "        text-align: right;\n",
              "    }\n",
              "</style>\n",
              "<table border=\"1\" class=\"dataframe\">\n",
              "  <thead>\n",
              "    <tr style=\"text-align: right;\">\n",
              "      <th></th>\n",
              "      <th>ID</th>\n",
              "      <th>Rodada</th>\n",
              "      <th>Data</th>\n",
              "      <th>Horário</th>\n",
              "      <th>Dia</th>\n",
              "      <th>Mandante</th>\n",
              "      <th>Visitante</th>\n",
              "      <th>Vencedor</th>\n",
              "      <th>Arena</th>\n",
              "      <th>Mandante Placar</th>\n",
              "      <th>Visitante Placar</th>\n",
              "      <th>Estado Mandante</th>\n",
              "      <th>Estado Visitante</th>\n",
              "      <th>Estado Vencedor</th>\n",
              "      <th>Total_gols</th>\n",
              "      <th>total_gools</th>\n",
              "      <th>Ano</th>\n",
              "    </tr>\n",
              "  </thead>\n",
              "  <tbody>\n",
              "    <tr>\n",
              "      <th>7559</th>\n",
              "      <td>7560</td>\n",
              "      <td>1</td>\n",
              "      <td>2019-04-27</td>\n",
              "      <td>19:00</td>\n",
              "      <td>sábado</td>\n",
              "      <td>Atlético-mg</td>\n",
              "      <td>AVAÍ</td>\n",
              "      <td>AtléticoEmpateMG</td>\n",
              "      <td>Independência</td>\n",
              "      <td>2</td>\n",
              "      <td>1</td>\n",
              "      <td>MG</td>\n",
              "      <td>SC</td>\n",
              "      <td>MG</td>\n",
              "      <td>3</td>\n",
              "      <td>3</td>\n",
              "      <td>2019</td>\n",
              "    </tr>\n",
              "    <tr>\n",
              "      <th>7560</th>\n",
              "      <td>7561</td>\n",
              "      <td>1</td>\n",
              "      <td>2019-04-27</td>\n",
              "      <td>19:00</td>\n",
              "      <td>sábado</td>\n",
              "      <td>Chapecoense</td>\n",
              "      <td>INTERNACIONAL</td>\n",
              "      <td>Chapecoense</td>\n",
              "      <td>Arena Condá</td>\n",
              "      <td>2</td>\n",
              "      <td>0</td>\n",
              "      <td>SC</td>\n",
              "      <td>RS</td>\n",
              "      <td>SC</td>\n",
              "      <td>2</td>\n",
              "      <td>2</td>\n",
              "      <td>2019</td>\n",
              "    </tr>\n",
              "    <tr>\n",
              "      <th>7561</th>\n",
              "      <td>7562</td>\n",
              "      <td>1</td>\n",
              "      <td>2019-04-27</td>\n",
              "      <td>21:00</td>\n",
              "      <td>sábado</td>\n",
              "      <td>Flamengo</td>\n",
              "      <td>CRUZEIRO</td>\n",
              "      <td>Flamengo</td>\n",
              "      <td>Maracanã</td>\n",
              "      <td>3</td>\n",
              "      <td>1</td>\n",
              "      <td>RJ</td>\n",
              "      <td>MG</td>\n",
              "      <td>RJ</td>\n",
              "      <td>4</td>\n",
              "      <td>4</td>\n",
              "      <td>2019</td>\n",
              "    </tr>\n",
              "    <tr>\n",
              "      <th>7562</th>\n",
              "      <td>7563</td>\n",
              "      <td>1</td>\n",
              "      <td>2019-04-27</td>\n",
              "      <td>16:00</td>\n",
              "      <td>sábado</td>\n",
              "      <td>São paulo</td>\n",
              "      <td>BOTAFOGO-RJ</td>\n",
              "      <td>São Paulo</td>\n",
              "      <td>Morumbi</td>\n",
              "      <td>2</td>\n",
              "      <td>0</td>\n",
              "      <td>SP</td>\n",
              "      <td>RJ</td>\n",
              "      <td>SP</td>\n",
              "      <td>2</td>\n",
              "      <td>2</td>\n",
              "      <td>2019</td>\n",
              "    </tr>\n",
              "    <tr>\n",
              "      <th>7563</th>\n",
              "      <td>7564</td>\n",
              "      <td>1</td>\n",
              "      <td>2019-04-28</td>\n",
              "      <td>16:00</td>\n",
              "      <td>domingo</td>\n",
              "      <td>Athlético-pr</td>\n",
              "      <td>VASCO</td>\n",
              "      <td>AthléticoEmpatePR</td>\n",
              "      <td>Arena da Baixada</td>\n",
              "      <td>4</td>\n",
              "      <td>1</td>\n",
              "      <td>PR</td>\n",
              "      <td>RJ</td>\n",
              "      <td>PR</td>\n",
              "      <td>5</td>\n",
              "      <td>5</td>\n",
              "      <td>2019</td>\n",
              "    </tr>\n",
              "  </tbody>\n",
              "</table>\n",
              "</div>"
            ],
            "text/plain": [
              "        ID Rodada       Data  ... Total_gols total_gools   Ano\n",
              "7559  7560      1 2019-04-27  ...          3           3  2019\n",
              "7560  7561      1 2019-04-27  ...          2           2  2019\n",
              "7561  7562      1 2019-04-27  ...          4           4  2019\n",
              "7562  7563      1 2019-04-27  ...          2           2  2019\n",
              "7563  7564      1 2019-04-28  ...          5           5  2019\n",
              "\n",
              "[5 rows x 17 columns]"
            ]
          },
          "metadata": {
            "tags": []
          },
          "execution_count": 25
        }
      ]
    },
    {
      "cell_type": "markdown",
      "metadata": {
        "id": "0jqa6lLZBBPg"
      },
      "source": [
        ""
      ]
    },
    {
      "cell_type": "markdown",
      "metadata": {
        "id": "ZnAX22DFtErm"
      },
      "source": [
        "##ESTATÍSTICA DESCRTIVA\n",
        "\n"
      ]
    },
    {
      "cell_type": "markdown",
      "metadata": {
        "id": "y6xZXp75xUV8"
      },
      "source": [
        "MEDIDAS DE TENDÊNCIA CENTRAL"
      ]
    },
    {
      "cell_type": "code",
      "metadata": {
        "id": "Q5XTmxFMKcWi",
        "colab": {
          "base_uri": "https://localhost:8080/"
        },
        "outputId": "a3914c1c-8412-4028-af50-8c87c76e5edf"
      },
      "source": [
        "#Média\n",
        "df['Total_gols'].mean()"
      ],
      "execution_count": null,
      "outputs": [
        {
          "output_type": "execute_result",
          "data": {
            "text/plain": [
              "2.641783868253396"
            ]
          },
          "metadata": {
            "tags": []
          },
          "execution_count": 106
        }
      ]
    },
    {
      "cell_type": "code",
      "metadata": {
        "id": "EZzAynQ9tt8u",
        "colab": {
          "base_uri": "https://localhost:8080/"
        },
        "outputId": "8b0af8fb-ff64-4fa5-ccd9-61b571d6e3f6"
      },
      "source": [
        "#Medina\n",
        "df['Total_gols'].median()"
      ],
      "execution_count": null,
      "outputs": [
        {
          "output_type": "execute_result",
          "data": {
            "text/plain": [
              "2.0"
            ]
          },
          "metadata": {
            "tags": []
          },
          "execution_count": 107
        }
      ]
    },
    {
      "cell_type": "code",
      "metadata": {
        "id": "lSi99Nxdt2Ly",
        "colab": {
          "base_uri": "https://localhost:8080/"
        },
        "outputId": "87424b9c-845d-4dd1-f670-c800e4d283ef"
      },
      "source": [
        "#Moda\n",
        "df['Total_gols'].mode()"
      ],
      "execution_count": null,
      "outputs": [
        {
          "output_type": "execute_result",
          "data": {
            "text/plain": [
              "0    2\n",
              "dtype: int64"
            ]
          },
          "metadata": {
            "tags": []
          },
          "execution_count": 108
        }
      ]
    },
    {
      "cell_type": "code",
      "metadata": {
        "colab": {
          "base_uri": "https://localhost:8080/",
          "height": 300
        },
        "id": "i8V3mKyTh_8E",
        "outputId": "9038d7bf-d57c-4fe2-9c1f-687a60f5a9d4"
      },
      "source": [
        "df.describe()"
      ],
      "execution_count": null,
      "outputs": [
        {
          "output_type": "execute_result",
          "data": {
            "text/html": [
              "<div>\n",
              "<style scoped>\n",
              "    .dataframe tbody tr th:only-of-type {\n",
              "        vertical-align: middle;\n",
              "    }\n",
              "\n",
              "    .dataframe tbody tr th {\n",
              "        vertical-align: top;\n",
              "    }\n",
              "\n",
              "    .dataframe thead th {\n",
              "        text-align: right;\n",
              "    }\n",
              "</style>\n",
              "<table border=\"1\" class=\"dataframe\">\n",
              "  <thead>\n",
              "    <tr style=\"text-align: right;\">\n",
              "      <th></th>\n",
              "      <th>ID</th>\n",
              "      <th>Mandante Placar</th>\n",
              "      <th>Visitante Placar</th>\n",
              "      <th>Total_gols</th>\n",
              "      <th>Ano</th>\n",
              "    </tr>\n",
              "  </thead>\n",
              "  <tbody>\n",
              "    <tr>\n",
              "      <th>count</th>\n",
              "      <td>8319.000000</td>\n",
              "      <td>8319.000000</td>\n",
              "      <td>8319.000000</td>\n",
              "      <td>8319.000000</td>\n",
              "      <td>8319.000000</td>\n",
              "    </tr>\n",
              "    <tr>\n",
              "      <th>mean</th>\n",
              "      <td>4160.000000</td>\n",
              "      <td>1.588292</td>\n",
              "      <td>1.053492</td>\n",
              "      <td>2.641784</td>\n",
              "      <td>2009.790119</td>\n",
              "    </tr>\n",
              "    <tr>\n",
              "      <th>std</th>\n",
              "      <td>2401.632778</td>\n",
              "      <td>1.245473</td>\n",
              "      <td>1.040604</td>\n",
              "      <td>1.666918</td>\n",
              "      <td>6.045288</td>\n",
              "    </tr>\n",
              "    <tr>\n",
              "      <th>min</th>\n",
              "      <td>1.000000</td>\n",
              "      <td>0.000000</td>\n",
              "      <td>0.000000</td>\n",
              "      <td>0.000000</td>\n",
              "      <td>2000.000000</td>\n",
              "    </tr>\n",
              "    <tr>\n",
              "      <th>25%</th>\n",
              "      <td>2080.500000</td>\n",
              "      <td>1.000000</td>\n",
              "      <td>0.000000</td>\n",
              "      <td>1.000000</td>\n",
              "      <td>2004.000000</td>\n",
              "    </tr>\n",
              "    <tr>\n",
              "      <th>50%</th>\n",
              "      <td>4160.000000</td>\n",
              "      <td>1.000000</td>\n",
              "      <td>1.000000</td>\n",
              "      <td>2.000000</td>\n",
              "      <td>2010.000000</td>\n",
              "    </tr>\n",
              "    <tr>\n",
              "      <th>75%</th>\n",
              "      <td>6239.500000</td>\n",
              "      <td>2.000000</td>\n",
              "      <td>2.000000</td>\n",
              "      <td>4.000000</td>\n",
              "      <td>2015.000000</td>\n",
              "    </tr>\n",
              "    <tr>\n",
              "      <th>max</th>\n",
              "      <td>8319.000000</td>\n",
              "      <td>7.000000</td>\n",
              "      <td>7.000000</td>\n",
              "      <td>11.000000</td>\n",
              "      <td>2021.000000</td>\n",
              "    </tr>\n",
              "  </tbody>\n",
              "</table>\n",
              "</div>"
            ],
            "text/plain": [
              "                ID  Mandante Placar  Visitante Placar   Total_gols          Ano\n",
              "count  8319.000000      8319.000000       8319.000000  8319.000000  8319.000000\n",
              "mean   4160.000000         1.588292          1.053492     2.641784  2009.790119\n",
              "std    2401.632778         1.245473          1.040604     1.666918     6.045288\n",
              "min       1.000000         0.000000          0.000000     0.000000  2000.000000\n",
              "25%    2080.500000         1.000000          0.000000     1.000000  2004.000000\n",
              "50%    4160.000000         1.000000          1.000000     2.000000  2010.000000\n",
              "75%    6239.500000         2.000000          2.000000     4.000000  2015.000000\n",
              "max    8319.000000         7.000000          7.000000    11.000000  2021.000000"
            ]
          },
          "metadata": {
            "tags": []
          },
          "execution_count": 109
        }
      ]
    },
    {
      "cell_type": "markdown",
      "metadata": {
        "id": "R7qccAtAxYA9"
      },
      "source": [
        "MEDIDAS DE DISPERSÃO"
      ]
    },
    {
      "cell_type": "code",
      "metadata": {
        "id": "YfALeQg7t-zI",
        "colab": {
          "base_uri": "https://localhost:8080/"
        },
        "outputId": "400a6e3c-5387-4eb7-8c82-28b64a7f8c96"
      },
      "source": [
        "#Variância\n",
        "df['Total_gols'].var()"
      ],
      "execution_count": null,
      "outputs": [
        {
          "output_type": "execute_result",
          "data": {
            "text/plain": [
              "2.7786145620817533"
            ]
          },
          "metadata": {
            "tags": []
          },
          "execution_count": 110
        }
      ]
    },
    {
      "cell_type": "code",
      "metadata": {
        "id": "GsC-neBguOuw",
        "colab": {
          "base_uri": "https://localhost:8080/"
        },
        "outputId": "8a2f1715-7fda-4484-b8d2-b4427d0bd608"
      },
      "source": [
        "#Desvio Padrão \n",
        "df['Total_gols'].std()\n"
      ],
      "execution_count": null,
      "outputs": [
        {
          "output_type": "execute_result",
          "data": {
            "text/plain": [
              "1.6669176830550911"
            ]
          },
          "metadata": {
            "tags": []
          },
          "execution_count": 111
        }
      ]
    },
    {
      "cell_type": "markdown",
      "metadata": {
        "id": "btudj8Yhvkhx"
      },
      "source": [
        "CURTOSE\n",
        "- Se o valor encontrado é igual 0, você tem uma distribuição mesocúrtica; \n",
        "- Se maior que 0, leptocúrtica, correspondendo a uma curva mais pontuda; \n",
        "- Se menor que 0, platicúrtica, ou seja, uma curva mais achatada, com maior variabilidade dos dados.\n",
        "\n",
        "![image.png](data:image/png;base64,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)"
      ]
    },
    {
      "cell_type": "code",
      "metadata": {
        "id": "uNxnE9O3vTA2",
        "colab": {
          "base_uri": "https://localhost:8080/"
        },
        "outputId": "df509d49-7af3-4e57-aca5-9c9e01615971"
      },
      "source": [
        "#Curtose\n",
        "df.Total_gols.kurtosis()"
      ],
      "execution_count": null,
      "outputs": [
        {
          "output_type": "execute_result",
          "data": {
            "text/plain": [
              "0.4479355612394378"
            ]
          },
          "metadata": {
            "tags": []
          },
          "execution_count": 112
        }
      ]
    },
    {
      "cell_type": "markdown",
      "metadata": {
        "id": "0z-_9rtxwCT7"
      },
      "source": [
        "ASSIMETRIA\n",
        "\n",
        "- Para dados normalmente distribuídos, a assimetria é bem próxima de zero.\n",
        "\n",
        "- Uma assimetria positiva, com valor > 0, significa que a cauda da distribuição está mais para a direita. Ou seja, que os valores de moda < mediana < média.\n",
        "\n",
        "- Uma assimetria negativa, com valor < 0, significa que a cauda da distribuição está mais para a esquerda. Ou seja, que os valores de média < mediana < moda.\n",
        "\n",
        "![image.png](data:image/png;base64,iVBORw0KGgoAAAANSUhEUgAAAlgAAADnCAYAAADCZShVAAAgAElEQVR4nOydd3hVVbr/549bfveZmTt3xgYBkpBCKgSIEDAFApjQkSJFqhRRAVFEkSAgRUBFwTYDKIoijjQFkREREQTpIlVpUgOhppxe9t6f3x+Zd2WdI44g3BuFvZ/n+5zknH32Wfvda633u962fsc/D8uysCwL/Qj/3z7swz7s42oOwzAACAQC6j3TNDEMI2R+MU1TnSOfGYZBMBjE7Xbj8/nUefp35Bputzvku/K3/D5AcXExXq/3R+2xD/uwD/v4JYc+h1mWhWmaIfPS74RY6R/okPdt2LBh42oRDAYxDAOPxxOyiAsEAooAuVwugsEgXq8XwzAIBAIEg0FMs5xMyavP58Pn8+F2uzEMQ71/6dIlNcl5PB68Xi+lpaUEg0ECgQCmaXLu3Dl1zsWLFwHwer2VLh8bNmz8tqFzJZnTQgiW/kFlN9aGDRs3DkpLS9XqzuVy4fV6efjhh4mPj2fPnj2KOAGsWrWKiIgIRo4cCcC5c+fw+/1cunQJv99PWVmZIklCtC5cuACUW6eExPn9fkW29NeysjJFrjwejyJfNmzYsPFLcTmCZZrmlRGscIuWDRs2bFwpTNNU1ighOq1bt+YPf/gDBQUFuFwu/H4/gUCAPn368Kc//YmHH344xAwvrkIhVvr/gCJuYu1yOBzqvLKyMkXgfD4flmUp65kQPxs2bNj4JbhigvVTjMw+7MM+7OOXHpZl4XA4cLlc+Hw+/H4/ffr0Ydq0aTRs2JCSkhIuXbrE5s2b6dChAyNGjGDo0KFcuHABwzAoLCxk3LhxtGrVinHjxlFYWIhpmhQVFfHcc88xaNAgunfvzmuvvcaFCxfwer0UFxfz+uuvc+jQIV5++WVatmzJkiVLFMHz+/3KdWkf9mEf9vFLD+FK8rfOoQB+d7kPbNiwYeN6QT9cLheZmZm8++67PPnkkwwfPhyALl268Oabb/Lkk0/Sp08fAAoLC0lJSWH06NEsW7aMjh07kpubSyAQ4PDhw7Rq1YqpU6fy1ltv0bRpU9q0aQPA7t27qVq1Ks2aNWPIkCGMHj2aW265hc8//xzDMPB6vSr+qrJlY8OGjd82dLJlEywbNmz8n8E0TcrKyvD7/ViWhc/no1mzZrz33nt8//331K9fn02bNtGsWTMABg4cSP/+/QkEAnTr1o1p06bhcDiUS7Bx48YsW7ZMWZ8k3mrnzp385S9/weVycfjwYapUqcLevXuVO7Fbt24MGjRIWeUli7Cy5WPDho3fLsI502WD3OVEm2DZsGHjekIOp9MJlMdB5ebm8sYbb2CaJvfddx81a9Zk6tSpeDweHnzwQXr37o1hGDRp0oTu3bszfPhwhg0bxhNPPEHVqlV54403cDqdLFy4kM6dO9O0aVPq169PVlYWR44c4fjx46Smpqog+WAwyFNPPUX//v3x+XyKZHm93kqXjw0bNn67+NkYLFnFyZuWFWry+rVDJu+fqrcT/r+86vf7c5BVsL76tSwLt9td6fdvw8avGfDjelTNmzfnr3/9KwAffPABSUlJ/PDDDwQCAQYPHswDDzwAQFJSEhMnTmThwoW88847LFq0iLlz5+J0Onn77be57bbbePHFFzl69CjLly8nMTGRCxcu8P3335OcnMzp06fVeB0+fDjdunULmQvsBaWNGwGXi6GWQxI8AKXDRC/Kd3Xd6HQ68fl8Sm/Kq1iK5Xv64XK51Pf9fn9IwsnPtf3njsqW7ZVAb6twC3n/N0+wLMsKeaA+n49gMKhq5kjHkvo4cp4EvF6N8CRuQ9wVlX3fNmz82qEnyni9XoLBIM2bN+edd95Rk/bmzZvVOQMGDKBbt24EAgFyc3OZOXMmwWAQh8MBoOpmtWrVimnTpqkJ/ty5c9SqVYvCwkIOHDhASkqKIlgATzzxBF27diUQCFBWVmaPYRs3FMIXDOEkxev1Kje91JqTpBPRmfr3pIacECwhZ1LaRL4rZU8MwwipR3eli5efOypbrldzD/IcbiiCpVupdNOc3jHk0FOz9cKH/wp+v1/JRc9CutLv27BxMwPKa06Jq840TbKzs3n77bfVuDIMQ1Vi79evH507dwbg7bffJiIigkWLFmEYBqdOnWLSpEls376d++67j5YtW1JcXMyhQ4cYMGAAiYmJFBYWKgtWYWGhUiyjRo2iX79+ACEFTStbPjZs/G8gXIfrC4rwXQx08qQTJMMwVGmTcOuYnGuaJi6XC4/Ho4iFWLTk/ytpp02wfqXQH6KwcNM01epYXqUz6FWir2SC1UmaZVmqZo9ct7Lv34aNXzMMwwgZg6WlpfTq1Yu///3vBAIBtWiRVfTEiRMpKChQ1udXXnmFJk2akJyczF133UV2djYOh4OTJ0+SnZ1NUlIS2dnZTJw4kbvuuotLly6xZ88eWrVqxZkzZ9T4HTduHAMHDlSWbSlaWtnysWHjfxOir0Tx625Cy6oIypayJcFgMMQoEU6qRPe5XK4fETT5W///59pnE6xfOXTrlVioxI0nq2Kv16sm8mAwqCb8K2HY4loM91WLibWy79+GjV8zZLJ2u92K1Jw9ezZkDIrbz+Px4Ha78fv9ynIsroqTJ09y4cIFNeYMw8DhcHD06FFFziRbEeDMmTPqurqCgYpFlx2DZeNGh9/vD4lPFvLjdrvVFlW6wUD3AolLUcawPh7lmsFgkJKSEvV9t9utDB03C25ogiUPXxi1Hq8RbsWSFbPcr3SafwX5fklJiSJsEgSorwautcy+DRs3IvSFjc/nC4mDlLErY1HGF6BcDnK+ZVXEjuiujEAgwPnz50PIWviGzroykMrxdoKKjRsZol+k70vGrOjKcKuyHHpQvHxHFjUyhkQvnjlzRo1Zy6rYokrGtSySbnT9d0MTLJlAhVRt3LiRmTNnsm/fvpCHfenSJWbNmsXixYtDJt+f6wCySezMmTN59NFH8fl8LF68mOeeey6kI9sEy4aNH0MCYsOJlvzv9Xq5ePFiyCpbt1JJEG74Vl4OhyMkcUXOvdyKXM9ykldxFVa2fGzYuB4I19m6fjlw4ACvvPKKSiYRXRkIBJg/fz7z5s3Dsiy1OJGxJNcVoiTkzOv14nK5+Pvf/84DDzyAy+Vi9erVjBkzRiWy6DGXN7r+u+EJlt7+ESNG8G//9m+MHTsWt9utHvjKlSv5j//4D3Jycn4UFP9zFiy3283w4cPp3r07AJMnT2bgwIHXZXPsypafDRv/F9DHqU6K9HkmGAyqz/Tz5fB4PCrGQwiaTPrhaeUSImBZVki8pJAvey9CGzcKwg/LClX0M2fO5He/+x1DhgxR7jvDMNiyZQv/9V//RWpqasgixzRN5c6X8ap7c2ScPf/88+Tk5ADw/vvvq50UwuOeb3T9d0MTLMuylMvOsiwGDRpE165dadCgAYWFhWpF2717d+6++266deuGaZpqki0uLuarr77i+PHjqkPI5O10OtmxYwdOp5OCgoKQStDirjBNk+LiYnbs2MH+/fvx+/2qqKJkT5mmyQ8//MCePXtCJvoriQGzYePXjPCFij7BivVKxptpViSWFBcXq//Dz5VrmKZJSUmJmtD1OEtxX5hmeRaTuCpKS0uV1TrcBSkWKz1pRb6nZxXq91DZ8rVh40qh6219Q/RJkybRsmVLMjIy2L17t7IiP/TQQ+Tl5ZGXl4fL5aK4uFiNlU8++YTjx4//aFxfvHiRb7/9losXLzJ79mxat26NaZo4nc4Qg4TT6WT//v1s2rRJjaXweMgzZ85w8ODBEL0rHOS3NP5ueIJlWRUka9iwYQwdOpQxY8ZQUFCAaZqsWbOGzp0788orr5Cdna0m248++oisrCxatGhB7dq1GTlypIoTWb9+PYmJiaSlpdG0aVMSEhIYOnQoAC+++CI9evTA7/ezdOlS0tPTufPOO8nOzqZBgwZs2LAB0zT58MMPyc3NZeTIkWRnZxMdHU3v3r1VYVSbYNn4rUMmRz3eQ0iTBLyKZcqyLDUZywJEYqr0vQFlLOvuPN1Kde7cOc6ePRviFgQoLi5W85ZM0BIAr8egyPmykNIXS3L8liZ4GzYs6/IEy+/3M2PGDLp378706dPVPp+HDh2iZcuWzJ8/n3r16nHhwgUAVq1aRUZGBnl5eaSlpTFw4EA8Hg8ul4vTp0+TmZlJQkICmZmZREdH06NHDwzDYPHixXTp0gXLsjh58iSxsbFKJ6akpLBw4UI8Hg8HDx4kNzeXESNGkJWVRbVq1cjJyVELqbKyMizLCrFA/9pxQxMsfUXr9/vVlhq7du0iKSkJn89H//79+eCDD1i6dCkpKSkAbNu2jbi4OHbv3o3T6aSkpIT69euzevVqDMPg9ttv59VXXwXKs566d+/OkCFDsCyLgoICOnfujGEYnDhxgrVr1yqGPnHiRDIyMvD7/WzcuJHo6GieffZZzp49y+7du6lRowYfffSRWnlXtvxs2LgWCMGyrIqxKHPJuXPneOSRR1RBULfbrc5ZsmQJffv2ZdeuXSHVovVYLcsqL5AogbemaeL1ejl79ixJSUmcPn0ap9NJy5Yt2bRpk6qnJRYzt9v9o9o+ko4uRRHlN2VSFJIlf1e2fG3YuFJcjmCZpsnEiRPp378/p06dIioqiosXLzJlyhQmT57M+vXriY+Px+v1cvToURITE1mxYoUap82bN2fGjBl4PB4SExMZMmQIUB7HNWLECNq3bw/AW2+9RXx8PIFAgMLCQrZt26baNHv2bFJSUrAsi2+++Yb4+HiGDRtGUVERFy9epF69erz00kshW1dJnFhly/Rq5X5DEizLspR7YdCgQYoItWnThjFjxtCkSRP8fj/PPfccd999NwAPPvgggwYNwuv1cuDAAYqLi7nnnnsYNmwYCxYsICcnh9LSUuWDfuSRR+jbty+lpaVMnTpVWbAkGHDDhg0sW7aMxx9/nNTUVILBIP/4xz/Izc2lqKhIyTQ3N5cxY8bgdDorXXY2bFwrLkewLKt8BXrs2DEiIiKIiIhg7969akVdVlZGnTp1+NOf/sSSJUuUBUtew+vxlJSUYFmWIkhFRUVERkZy5MgRfD4fTz/9NFu3bgUIyVSUvyUUQNoq1mMhbhKXJZ/pJMuGjd8KLkewAMaOHauK9w4cOJDhw4fTrFkzzp49yyeffEJ8fDwAEydOpGPHjpSVlSnDw1NPPUWXLl3YsmULtWvXBlCLk5dffpkWLVoAMG/ePPLz80Pir7Zs2cKCBQuYOXMm1apVCykCLPrP5XLRr18/Bg0apBJS9MVUZcv0auV+wxEsy7JUyQSA/v37M2jQIACWLl3K7373O2bMmAHAa6+9RlJSEsFgkF69epGWlkaHDh3o2LEjbdu2pUGDBvz1r39l1KhR3H///WrCBxg5ciRDhw7FsiyeffZZtZ3H1q1bqVOnDo0aNWLw4MH06NGDRo0aEQgEWLVqFU2bNlUdMhAI0KZNGyZMmACUrwIqW3Y2bFwLoCLGSZ8/gsEgBw8eJCsri44dO/Lwww9jWeXzzHvvvUdeXh45OTl8+OGHykplmibLly9n5syZFBcXq7IKpllet2fRokW89957bN++nZSUFE6cOIHD4eD8+fPKTXn06FGWLl3KrFmz+Oqrr0JKNJw+fRq3282BAwdYsGABO3bsUONbtyaLcqps2dqwcTW4HMEyDINXXnmFFi1aYJomO3fu5A9/+AMPPfQQACtWrCAmJgaHw8GkSZNITEyke/fuZGdn07ZtW5o2bcqLL77I888/T/PmzVWsJMBLL71E+/btMQyD2bNnk5eXh8/nY9euXTRq1Ijs7GwGDhxIjx49iIuLo6ysjCNHjlCzZk21ETvAs88+S+fOndW1JZP4t8JBbmiCJcRFVp2DBw9m6NChGIaB0+lkzJgxHDt2DKfTyeuvv07z5s1V0Pu4ceNCVrmiLEaNGkWrVq0AVI2dUaNG0bNnT5xOJ1OnTqVdu3b4/X7uuusuRowYAZSvmNesWUPdunXx+XysXLmSxMREoDxg3u/3069fP0aPHm1v1WHjhoCMP32Csazy+eTAgQNkZWWxfv160tPTOXDgAKZp0rJlS9auXUvTpk1ZsGABlmWxY8cOGjVqRKdOnejSpQuRkZF88sknmKbJ2bNnyczMpHHjxnTo0IEmTZpQs2ZNjh49SjAYJDU1lZ07d1JaWkrTpk3Jy8ujdevW1KlTh65du6qYxzZt2pCVlUWHDh3IzMwkIiKCOXPmhJSA0Cd2e3za+C3hcgTLNE1eeukl7rnnHqA87nDkyJHs3LkTr9fLRx99RK1atTAMgyFDhtCzZ88Qy64kl8ybN48GDRrg9XpVaZU33niDtm3bYpom7777Ljk5OZimSY8ePejWrZtKKvnhhx9ITEykqKiIrVu3kpqaisfjoaysDK/Xy8MPP0zPnj2V9Upc/ZUtz18i9xuOYOltNwyDwYMH89BDD4VM+lJI7W9/+xu5ubn4/X5mzZpFUlKScjtYVnlg7JkzZ/jggw9o3Lix2sgyEAhw3333MXDgQCzLYvz48fTu3RuA9PR05s2bp2JH5s2bR1paGj6fjxUrVpCbm6sqTJumSfv27XnyySeveLNpGzZ+zZCFhRx6Cvbhw4dJTk6mqKiIhx56iOeee461a9fSqlUrLMsiNTWVBQsW4PP56NChAy+88IK6zvLly7nzzjsBuO+++2jXrh1QbvXdu3cvdevW5eDBg7hcLpKTk9myZQuGYfDDDz+oawQCAWJiYli+fDkA2dnZDB48mJKSEgKBAC+99BKNGjVSKekSF6l/v7Lla8PGleJyBMuyLCZMmECXLl0AQpJCLMsKcRGuXr2aP//5z5w4cQKXy6UIUlFREatXr6ZmzZoUFhaq3xoyZAgtW7bEsizeeustNV5zcnJ44YUXlG5ds2YNkZGRnD9/njNnzlC3bl1luDBNk6FDh/LEE0/8KEzgtxIDeUMTLD1FPBAIMGDAAHr27IllWSp4VUylU6ZMISUlRWUVdezYkdTUVJ599lnGjx9P7dq1+dvf/oZpmtSuXZumTZsycuRIOnfuTGRkJP379ycQCPD000+Tm5uLaZo88sgjxMXFMWXKFHr27Em9evVITEzENE1WrlxJQkKCypoKBoO0adOG4cOHq1o+lS0/GzauFXrtKj079ujRoyQkJHD69Gm+/fZbmjRpQqdOnZg/fz4AqampfP755xw8eJBatWqxcOFCPvroIz755BMWLFjA7bffzrZt20hPT+fLL79UbrzCwkJiY2M5ffo0hmFQu3ZtvvjiCzVnffDBB4wfP56RI0dSq1Yt5s+fj9PppHXr1rz11luKEH711VfExcVRUlISElwP/GbiP2zYEFyOYHm9XmbOnElubq4KHBevTTAYZNGiRVStWpXi4mICgQCPPPIIKSkpjBs3jokTJ5KWlsbjjz+uFjqxsbGMHj2ae++9l/j4eO655x5M02TWrFmkp6cDMHXqVCIiInjssccYOnQojRs3plq1apw5c4a9e/dy2223cf78eRVn2b9/fzp16qT0uMwnvxU3/Q1NsPSKs6WlpWzatIkNGzaotE99u5xNmzbxySefqIxDgAULFvD4448zYsQI3nvvPcWsDxw4wAsvvMDgwYNZtWoVGzZsYM2aNQSDQTZt2sSqVauUufS1117j4YcfZubMmRw5coTFixfj8/k4ePAg7733XkjK+Lp161i7dq292ayNGwIyCQoxEXe9ZVl8//33xMXFcfr0abxeL/n5+aSnp6sK7HXq1GH58uV89913JCQkMGDAAAYMGMBDDz1Ev379eOKJJ9ixYweRkZEq29CyLI4ePUpSUhJFRUW43W4SEhLYtWsXhmGQn59PVlYWBQUFvPbaa6SkpDB79mxM0yQvL49Zs2apyXvdunXUqlWLoqKikJIQQhQrW7Y2bFwrgsEgW7du5csvv1SlGLxeryJb+/btY8mSJWo/QYmDfPTRRxk9ejTz58/n7NmzAFy8eJFp06bx0EMPsWLFCr766isWLVqEaZrqOsIjXn/9dR544AFmz57Nt99+y/vvv4/T6aSoqIh58+aFlJFYu3Ytq1evVrHKunuzsuV3JbihCZZMlhJD5XQ6lcVI/Mcyafr9fvUQJZ1b9i7U71svmBYIBEIsUF6vV21IK4dkREjnENeiXpm6tLQ0JHgP7CB3GzcGpN/rr6Zp8v3335OQkMDhw4exrPJM25UrV2JZFmVlZdSvX58VK1Zw9OhR/vu//1uNFZn8pfhheno6X3/9tbr+Dz/8QOPGjdm3bx9ut5u6dety4sQJ3n77bZKTk9X2Vg6Hg+zsbObOnYtlWWRlZfHGG28oN8TmzZtJTU1V8ZF67StZuNmw8VuGECrx5uilSuRzybDV68JJ3KKQIBmTcp6+oBJdV1ZWFpJU4na7lb7T9Z7UupJDL6ciW1hJOypbflcqY5k3bjiCpW8iq8d/6B1GzP1yLlRUirasimBWqYkj5EuP7bKs8lIQujVKJmrJgJLaP5YVWr9HOqMoHp30Vbb8bNi4HtC34BB3/YEDB0hKSuLYsWMh1dTFDZCenq72Bs3MzOSxxx4LKQL61VdfUVxcTE5ODo888ogqXLp8+XL+9Kc/qcrP0dHRnDp1infffZfk5GQ15r799luSk5OV1So3N5e3335b7e6wbds2atSooeKuRKnoc0hly9WGjWtBuE4XXakHsEvdOF1nXe4QY4Toy4sXL2JZVkh9O4fDQWlpqfpNfV9Qp9OpxpreDl0/hrehsuV3JbihCZYeiKpbmPQgdz2uQt+4Uh6urF71By3X1hWD0+lUk3N45WfJetD3TpPfEKInVaXtDEIbNwpkzhCTvowZv9/PiRMniImJ4dChQ0CF6R/Ka1slJCTwwQcfALBnzx6SkpJo2LAhffv2pW7dutx1110AbN68mRo1atCkSRM6duxIVlYWSUlJHDhwAMuyiIiIYOvWrVy4cIHk5GQaN25M+/btad++PVWqVGHu3Lk4nU6aNWvG888/r8bmypUrSUlJ4fDhwyF1t2T825tB2/itwzAM5ZLXY5XDrVj6gl/Ij1Rwh/IFj8QM64dsOSc6UX5TiJJeX07Gv178V35P19l64tlvATc0wdIJjb7q1N/XO5d0FrlXPUBXmLzemUpLS1XmhOxbJruJS30e+a7uppQVgSgWPXhPZGy7IWzcCNDnCyFapmlSWlqq9vKUMadvlbN9+3aOHz8e4lZYvHgxb775JmvXrqWkpEStcvfv38/rr7/OihUrcLlcbNu2TY3D3bt3q0zhM2fO8O677zJr1iy8Xi8HDx7kxIkTBAIBdu7cSVFRkVIePp+P7du3h8wVohQsy67kbuO3D71vi+fEsiqsS5ZlKdIlY0L/jn4NOTcYDHLq1KkQ96AeeynXl0M3akg7ZOsrnWyFb8Juuwh/BRD2LJYoab9ukRJ2LOeJJSq8E+gWK7nO9OnT6dq1q9qcVt9ZPLzj6Z1XD66X80X4JSUlId+1YeO3Cn3OsKwKgmVZlpp0ZbESXjFdj7WQeER930CZfGXTdInr0MeWtANC9zHTa/nI5263O6QMg74JrSx+9DnEziS08VuHbgmSRb9lVVithDDpY0X3soSPg0AgwLvvvsvdd98dsmiyrNDipmLF9vl8as9R/TwZzw6HQ+lH0cHSvsqW3ZXihiZYOtHRmbRM5PrWGfp35BwRijB36VRCyMaPH6+21xHhBQIBLl26pCZo3XImf8uKWq6lKwbdRVnZ8rNh41qgTygyWYfHQuqB7/q+goCyZskq2rIstZKVc/SMW6lhJePLMAxKS0tDrut2uxUp0zOG5ZAJXp83RClI+ro9Pm3cCBAiJbWl5D0ZK5ZlKfe4fr6+UHI4HErvmabJokWLSE1NVYRIyFFZWdmPauLpJRfkCH9PnytkfNpZhL8i6MTlcuni+gOVDiFCECImD1g6oky+L7zwArm5uSqoXZ+UdYUhvm7dbKozd3lPiJwdRGvjRoD0Yb0vy1iUcSjERSZisSTrAa6BQACXyxUyLi3LCrEKS+kV+Vwfb2IBk3gOGZPym8FgUAXf6ltgias/3NL1W3FP2LDxr6DrOsuqIFN63BSEWrNEn+rZ+WI9NgyDZcuWkZKSosZZuI7TidPlCJOQED0xRtqqt/23MgZveIJ1PQUlshAhTZs2jebNm4d0hptRNjZs/BLocYiWVeFSlFUyoDZVh4qSJ+KKt6wKJaG7KuS7+spYgnllcpfP9CxgaUO44rFh42aESSjCP9fLrwSDQTAtFn2wkHppdfF77SQQy7IJ1lUJSmRhEywbNq4dQnIk9kksSUKCdLeg1OPRS6FIkLtOiOQQq5dpmpSVlanfcjgcykUYCARUXSy99IpY1ipbPjZsVCZsgnXtsAnWVQhKZGETLBs2rh16QLocn3/+OStXrgQI2XGhpKSEjz/+mD179oSUNpExFx7LaFmh7sjnn3+el19++UdufP08PU7MHsc2bnbYBOvaYROsqxCUyMImWDZsXDskzkpQVlZGTk4Of/jDH1i7dq2ybvn9fh5//HF+//vf88wzz1BcXBxCyqQOnWVVuAwlS8nlchEMBunSpQtPPvkkhmGorF89mF7iSOxadDZslMMmWNcOm2BdhaBEFjbBsmHj+kDGi2xT1bFjR3JzcxkwYAAA58+fp7S0lBYtWtCoUSOefvppNak7HA6Ki4s5c+aMKvfgcDiU28+yLOVa7N69O0888UTI/HX69GlKSkrURtFiLbPHsA0bNsG6HrAJ1lUISmRhEywbNq4dhmEoy5PUxMrIyGD+/PlkZWWxdetWAEaMGMGjjz7K/fffz9ChQ9WkPm3aNDIzM7nzzjtp06YN3377rQpkX716NY0bNyY5OZlmzZrRrFkzxo4di8PhwOfz8cwzz5CXl0dKSgqZmZkcOXKES5cuqcxfey9QGzc7bIJ17bAJ1lUISmRhEywbNq4dusUIyl11jRs3Zvfu3YwZM4YBA0NAgqAAACAASURBVAbgdrtp1qwZJ0+epE+fPowePRqv18u0adOIj49n586dnDt3jsmTJxMTE4PX6+XcuXPUrFmTMWPGUFRUxM6dO8nIyOCZZ54B4LHHHqNt27acO3cOwzB49tlnufPOO4HyWCyp7VPZ8rFhozJhE6xrh02wrkJQIgubYNmwce0QgqUX8MzKyuKjjz7izJkzZGVlMXXqVDp16kQwGCQvL4+nnnoKgJSUFN5//31KS0tVLFVsbCwff/wx77zzDo0bNw6pRTdw4EAKCgpwOBzUr1+fzz//XFWSPn36NHFxcWzZsiVkz7PKlo8NG5UJm2BdO2yCdRWCElnYBMuGjesD/QgEAjRp0oS///3vAAwaNIh///d/Z/PmzRiGwb333ktBQQFlZWWkpKSwadOmiskd6NGjB1OmTOGxxx6jf//+AJw9exbLsujXrx8FBQV4PB4SEhJo0aIFLVq0oF27dtx9992kpaWxZcsWFctlb4Vj42aHTbCuHTbBugpBiSxsgmXDxrVD32DdssrrYjVq1IglS5ZgWRbr1q1j8ODBagPmNm3aKAtWlSpV2LZtG4ZhcO7cOYLBIFlZWbz22muMHz+eBx54QFmvgsEgDz/8MBMmTODEiRNERkayb98+HA4HZ86coaSkhEuXLoXUy9L3abNh42aETbCuHTbBugpBiSxsgmXDxrVDXHESUA6Qnp6u6mAZhqH2GgTo3Lkzjz/+OADZ2dmMGjVKjbmysjLq1KnDxo0bmT17NmlpaWpCKysro1evXowZM0ZZyWbMmKHiv6QSvM/nw+/32wHuNmxYNsG6HrAJ1lUISmRhEywbNq4desV02Yg5PT2dDz/8ELfbrciVWKiaN2/OgAEDCAaDLFmyhOjoaCZNmsSsWbPIy8ujdevWqnxDYmIi9913H3PmzOHhhx/mj3/8I5MmTcLn8/Hmm29SpUoVRowYwbx58ygoKKB+/fp89913qm22i9DGzQ6bYF07bIJ1FYISWdgEy4aN6wNxx8nrjBkz2LNnj7IuySayQoyWLVumxtmGDRvo1asX99xzD+PHj1cbQgeDQXbs2MGgQYPIz89n4cKFzJ07l1WrVqn5a/fu3QwaNIhu3brRv39/li5dqvYjdDgc9ji2cdPDJljXDptgXYWgRBY2wbJh49ohMVi6G9Dv96txJJM3lFdrDwQCam9BqaGlfy/8O/K5Pi5LS0vxeDy43W615Y5llcd/eb1e3G63+q3Klo8NG5UJm2BdO2yCdRWCElnYBMuGjWuH0+nENE38fj+maXLx4kVFjAzDwOVy4fP5VLC61+sN2TNQtrQxDAOPx6PcjELS5H0pA+F2u4HybMVAIKCuK1vlyP+VLRcbNn4NsAnWtcMmWFchKJGFTbBs2Lh2iGVKxozUoNItS0BIPSvTNCktLVXzkMvlUpYwIWsy6cv7uoXL7/fjcrnU+TpJ069nFxq1cbPDJljXjmsmWD6fL2QCDAQCKq1aNl2VCdPr9Sozv6wy9WvK5q8hD+2fh8fjCZk8ddeBmPelXRJDIatSOVf/TZnM5Xv6PVyOKP0SgiUT9k/dg36vl1MMslq3rHIXhshR7k1W5ZZlKSuAvhIHlJVAvhOuvOR8kYfEoeiFFuUedGtCaWlppXdeGzc3ZMzK/1K0NHzs2rBRGdD1l/RLyVgVPSmH3+/Hsiylz3SdaFmWcqPLq8zD8lpWVhbiQtf1megWp9Op5nmx5sr40RcZ0hbDMjEsEwvwBwNKd4gO/DmCpesvHfJ+uK4T/S96TA5ZBOmHWKVFhsI3gsEgfr9ffV/0o2VZSk6yEbzME/qG83JfuszkWqIHdT0s8pN2yzPUdaz8fdUES2+ICEg6gH6u3LzsVg+oBoly14mYrCJFqMXFxep6IlDpeDqB0Tdt1R+IECDdNSAPTQiivpK9XMfQ7/lqLFjBYDCkOrS0W+9cetyJ/rB1Aibnyua14XLXyZPf71eDTc4RVwmUkyP9QcurLkvZLkTa5PV61fMuKir60X3asPF/DX1SlX4u0ImXDRuVAdM0FZkS3RVOHiROUJS76EvLshQJko3QRVfJ93WdGU4sdDe5PkZKSkpCLLt6rKGuL3w+HyYWpY4yTCwCRjBEX4lektdfQrDk0HWvZVVYrfVzwgmYyBMqEmHkCCefos90PS1/64RWZGhZ5Yu1nTt3cvToURwOh3oWpaWlSu56W3TSJs9d7kV05S+yYEmDpIHSkE2bNrFz504sq4LJS8fZsGEDe/fuVdeQz6UD6uRIOoBMpp999hmTJk1SwhaGKm4DvXihCEE6hN5OuWH5fZ29yipD7xS6LK6UYMm9SBvlt+W+hOjpRQ3DVy/6SmfHjh20a9eOJ598UmVWycN98skn6dKlC9u3b1f3IzLQO5H+PT12RWQWDAZDXCjSWeRceb+srKzSJzAbNzfEEi6WVRmXoogqu302bm7oiReWVd5fT5w4wbp160KsrTLPb926le+++w4gJB7Rssr7tOhHubb0eZ3oSBKHZVUQFSEY8r/oOsuyQoiJGAMkgcSwTDw+LyYW/mBA6XpdV8rv/hKCJXXnRMfLtYQc6txCSJiQGt2D1bdvXzp27EhxcbG6ntfrZcmSJTRu3JiZM2eG8BMx2Ai5lbABIU6iB1u2bMkTTzyhdLW0X/SnJMSIPPT26n/rz/+qCJYuEJ3NBQIBRo4cyb//+7/z/vvvhzzwJUuW8J//+Z90795dNVyCWkXg0glEIDrZmTBhAvn5+apTyo3qNy4EITwTSCdacsMieN3cKO/r39VlcTUuQr1T6r+hd2rgR4xYl7HI5JNPPuHPf/4zSUlJHDlyRFmm9uzZQ3R0NP/zP//Djh07sCwrhNTJfUsxRf1Z6iZokeeFCxfw+/0hmVbSNtn7zY5RsVHZkD4tffxyoQA2bFQWRBfpnoEuXbpw6623snz5cjXne71e3n//ff74xz/SvXt3pVcNw6C4uDjE3SefyVxtWeVzt1xL3hMPhhTylcW+GCJ0Y4KcF24hsv6JgBEsR5hX6HpZsMKtWeHkRPcC6cYYwzC4ePEidevW5dZbb+XNN98MCUdq3749v/vd75gzZw4Oh0N5fyzLCgmt0a8LFe7THj16MGnSJKDc8iefyXORuUYsjEBISJJ+D3LfV02w9Ielu7+6detGvXr16N27N1De0bxeL/feey/16tWjb9++6hoi4HPnzqk4JYkNks/ENPf222+TmZkJoKwzllXhKtRvVq6tW5KcTqe6vhAOYe3SES/nXtBlcaUES1yfcv+y4taJnO62k3boqxUhmYZhsGHDBpo1a0a/fv0YNWqUeqBPPfUUQ4YMISMjg2+++UZ1+G+//Zbhw4czYcIEdu3apQbX7t27mTFjBqNHj+bFF19k+/btqo379u3j+++/Z9++fUyYMIHXX3+dCxcuqPvSLXCVPYHZuLkh85KMG6mDFW4VtmGjMqBbsM6fPw9A3759ueuuu2jfvn2I/mzXrh2NGzemX79+lJSUYFlWiCdBLDNCgKSvS7yzTqBEP4lVxrJC44x0kiW6UBYlsmgHCJoGXn+5q9Dr94W0Rbci/VKCJf+Lbpa4KiFUupdK9I6EIMlvl5SUkJeXx9ChQ7n77rvVtRctWkTnzp3p2LEjBQUFSm5FRUVMnjyZMWPGqB0jhAcALF26lLFjx/LWW2/RoUMHxo8fr57jkSNHePHFFxkxYgT/+Mc/FMnS3a7helEOue+rdhHqbFQemGmadOvWjaeffpqWLVvy4YcfYpomX3zxBd26deOxxx6jQ4cOykS3atUqcnJyaN68OZ06dWLjxo3qd86cOcPIkSNJTU2ldevW9OrVi1atWinh79y5kzZt2tC4cWPat2/Ptm3bcDgcOJ1OZRHTO7t0VDl0EqcH3l0PF6Hb7VYrCf03xbyrB+TKd6UDizz1wMSVK1eSk5PDypUrSU1N5fz581y8eJGMjAy2b99OQkICa9euxTAM3n//fWrXrs2oUaMYM2YMERERrFy5EpfLxWOPPUaLFi14+umnuffee6levTqLFy/GsiweeeQRIiMj6datG3379iUjI4Pc3Fy8Xi9erxe/368C5yt7ArNxc0MmXXF/QGgchQ0blQko32xcL5rbunVrxo0bR/PmzVm2bBkAy5Yto3v37jz99NN07txZKfv9+/fTpk0bsrOzad68OV988QVOp5PCwkIGDRpEWloabdq0IT8/ny1btgDlRopRo0bx/vvv07NnT+Lj4+nbty8OhyNEB4lXSdop+kZf1AeMoLJiub0V8b0S63ytBEtP+pKxK+0R44TOOySOW/dceb1eGjZsyOrVq2nWrBlvvvkmAC1btmTJkiV06tSJF198ESg3LNSoUYM+ffowZswY4uPjKSgoUG3o06cPERERDBw4kAEDBlClShXGjRuHYRhs27aNpKQkRo0axeOPP07t2rV59tlnFYexLCuEW1wXF6F8Fi6YYDBIp06deOONN5g7dy6tW7fGNE1atWrFsmXLmDJlCu3atSMYDLJ582bi4+N57rnnOHbsGE899RS33nor33//PYZh0LVrV+rUqcNnn33G5s2byczMpHPnzvj9fnbt2kVkZCRvvPEGFy5cYMqUKdSqVYuzZ8+qmwQ4efIkCxcuZMOGDXz66ad88sknrFq1ijVr1qi/V65cyWeffcaKFSsum4mky+JqXIT636tXr2bfvn1KTlBO8D788EPWrFnDp59+yooVK1i5ciVr1qz5keJYvnw5DRo0wDRN7rvvPmbPns0bb7zBww8/jMPhICoqiqNHj3L+/Hni4uI4evSoWg2sWLGC9PT0EPIoK5X777+fgQMHAjB+/HiysrLUiuvAgQNUq1aNY8eOhUwU4fKxYeP/Gnrm01dffaX6pdvtthcANiodMr/L/O1wOOjRowdLlixh+vTp3HPPPQB06NCBTz/9lHHjxtGuXTsADh48SFRUFO+88w6HDx9m7ty5xMbGcujQIbxeL2PHjmXjxo3s3LmTZ555hnr16lFcXIzD4SAuLo4mTZqwcOFC1q9fT3JyMiNGjADKLUBOp5Pjx4/z0Ucf8emnn/Lpp5/y2WefsWTJErZt2waUL/Qtyq1Yi5Ys5szZ0MQmITzy+ktdhN988w3/+Mc/WLduHV9++aVqz6pVq/jss8/48ssvWbt2LStXrmT16tU/Ii8Oh4PY2Fi+++47lixZQrt27di9ezdNmjTBsizatGnDyJEj8fl8ZGZmMmTIENWG/fv3c8stt3D+/HmWLl1KcnIyJ06cUPfVvXt3Jk2ahGEYZGRksHjxYuVZO3PmDHFxcRw6dEjJy+/3h7gcpY2/mGDpVhePx6MmPMMw6NixI9OnTycQCJCWlsbixYtp1qwZpmkyduxYWrZsCZT7OcXvLA3o2rUrI0eOZN++fdxxxx3KFFdWVsb8+fPJzc0lGAzSuXNnJk2ahGVVmECbN2/OrFmzVPZGMBjkzTff5JZbbqFWrVrExsYSFxdHYmIiNWvWpFatWtSpU4caNWoQGxtLrVq12Lp163UjWOKCdLlcNGvWjEcffVSxcMuy2LRpExERESQkJBATE0N8fDwJCQnEx8ezf/9+fD4fly5dwjAMNm3aRK1atQD4+OOPSU9PJzMzk4MHD1JSUkL16tX57rvvWLNmDQkJCbz44otMnDiRGTNm8MADDxAVFaWSBWbPnk3fvn3JyckhIyODQYMG4XK5ePrpp5X7VgICk5OTWbduHSUlJapz20HuNiobUJEy3ahRI9555x3lMrEXADZ+DQDU/A+Ql5fH5MmTsSyLunXrsnDhQlq2bInb7WbEiBG0bdsW0zTp378/jz/+uPpeMBjk3nvvVQleevba2rVrqVq1KkeOHMHlchEbG8vWrVuVW2z8+PF06tRJFeEFGDRokNI7NWvWJDExkYiICKUHgsEghmWye+8ebrntVr7evAnLskIsNNdKsILBIMOGDeOWW24hKiqK1NRUoqKiiIyMJCEhgdjYWFJSUoiPj6dKlSrk5eWFlAqSxKt69erxxRdfYBgG2dnZNGjQgJdffhmA+vXrM3XqVACioqL4+uuvFTGzLIuMjAzmzZvHiBEj6NOnD1Aeg2yaJl27duXpp5/G7XaTkJDAE088wZQpU3juueeYMGECt99+O3v37lXB7tKm8Of/iwkWhGb+WVaFK65Tp048++yzeDweCgoK+K//+i+mT58OwNixY8nLy8MwDJo3b87LL7+M1+tV5rZnnnmGvn37smDBAho3bqyC4YPBIHPmzKFJkyaYpkmTJk3IyckhPz+fe+65h/bt2xMZGcnzzz+vbkjMnSUlJVy6dIni4mJKSkooKSnh4sWL6j2n08n27duJiori0KFD6rt6pxASKETySutgyco6KyuL8ePHK7Io13K5XKo9epvkekJm1q1bR2pqqvK/Z2Rk0K1bN6DcPxwdHc3+/ftZtGgRqampTJ48mRdffJHx48czdepU5s2bh9PppFevXqSkpDBjxgzWrVvHvffey5AhQ1Q8V8+ePdX9lpWVkZiYyNq1a1WQuxDHyp68bNzckNUkQFpaGq+99pqKobSD3G1UNvQsQSH9bdq0YcaMGSrz+7bbbuPVV1/F5/Px4IMP0qNHDzweD61btyYzM5OOHTvSokULunfvTmJiImPGjAFg9OjRNG7cmKysLPLz84mMjOTAgQN4vV5iYmLYs2ePIkPTpk3j7rvvVvrLssoTwi5evMiFCxc4f/48Fy5coKSkRMU7WZaFBZQ5HURGR7H9mx2KSMg1fo5gWVZovJUcolsBBg8eTM+ePfF4PJSWloboweLiYoXS0lKcTqcKbpdre71eUlNTWbJkCQAjRoygevXqSucKofX5fMTExChXqhx5eXm89tprDBs2jBEjRihC6/f76dWrF+PHj+fkyZPExsYyfvx4JkyYwAsvvMDzzz/PX//6V44eParuSV6vW5B7eAkE0zSVdaZt27aK6Ozbt4+GDRty7tw5jhw5wtixY+nUqRMAd955J6+++qrqjD6fj4kTJ9K5c2cWLlxIeno6UFH/6aWXXqJVq1ZA+ar1lVde4fTp02zbto19+/Zx+PDhkCByuSkx30nwnP6/BPrt2rWLmJgYjhw5ou5PBssvIVh6wG0gEKBly5aKYF0uhTc8s0My+WS1sHHjRtLT01Vs2Z49e5Qr9YcffiA2NpZjx46xY8cOatasqX5D2hsIBNixYwd/+tOfQlZG48aN495778Xj8TB8+HCGDRtGcXGxKtlQt25dNmzYECJLO8jdRmVD4ki8Xi8ZGRnMmTNH9XM7DstGZUPmdvHuANx9991MnDgRn8/H5s2badiwIadPnyYQCDBs2DAV/N6kSRNGjRpFWVkZe/bsYePGjezZswfTNJk8eTK1atXi66+/xul0UlRURFRUFMeOHeP06dOkp6ezfft2pUemTZtGfn5+SHatbuXVdY+u5z0+L0eO/kBcrXi++HKt0iWiN64HwXrwwQfp06dPiF7RA/rDdbVY5eQeHA4Hd955J+vWrQOgsLCQjRs3qnbm5eUpL1dMTAxr1qxRcWSBQIDU1FSWL1/OyJEjlXtWLHgdOnRg6tSpOBwOkpOTOXnypLpn0eGWVeE9012f19VFaFkVBbvkBzp27KiYo8fjCUlVHT58OO3atcPv9zNixAjatGkTIvQ2bdowbtw4duzYQUJCAidPnlTXnTx5MnfffbcSQL9+/ZRQgJA9ycLLHuhH+L0A7Nmzh9jYWA4fPvyjTKRfQrD02lOBQID8/HwmTJgAEOLCvJxs9XZLzNSaNWuoXr16yPYgllVutt2/fz/VqlVj48aNOJ1OMjIyGDBggIrj+v7773nuuef49ttviY2NZfXq1RiGwc6dO0lNTWXgwIH4fD4mTJhAhw4d1G+XlpZSpUoVPv/885Csx8qevGzYkPEjBOvdd99VC6jKbpsNG6IrdLd1t27deOWVV9T8qmfIPfHEE/Tu3Zvz588zcOBA7rvvPpXZblkVHqPs7GyVRe7xeCgqKiI+Pp5Tp07hdDpJTU1l7969She++uqrtGnTRukiuZa0M1zvCLGxgBOnThJXK54v15cTGIfDoRb+10qwLMti8ODB9OnTB8sKrcn1UzpbN5pYVvkckJKSwsqVK0PcdJIg1r59ewoKCigqKuKBBx6gefPmqi2zZ88mJiaG4uJivvzyS6Kjo9m5cyder5ft27dTp04dCgoK8Hq9dOnShSZNmiAWqzNnzjBnzhwKCwvVc5HnqHv0wtt+VQRLr1yq15EoKysjPz+f6dOnh1imSktLcblcjBo1imbNmgGwYcMG6tSpw4QJE9i9ezejR4+matWqHD58GNM0SU9Pp3PnzqxevZrp06eTkpJCXl6eqrQaGRnJ0KFDWb9+PStWrKBr164sWLDgR51JP6S9+sMyTZPdu3cTExNz3QiW/LYw3ezsbCZOnEgwGFS1v36KXBmGoVJS5ZzPP/+cnJwcVYRO35Pt7NmzNGzYkLVry1ca69evp2XLlqSlpVGvXj0aNGjAkCFDMAyDxx57jCpVqtCoUSM6d+5My5YtGTJkCKZpMnLkSIYMGcK5c+eA8qyUzMxMRcjkOV+6dKnSJzAbNzdkYgNITU1l7ty5IfEpld0+Gzc3gB9lmeXm5jJu3DhM01QFL2Ue7969O/n5+RiGwcmTJ4mLi+P+++/nm2++4dNPPyU/P5/ly5czd+5cIiMj+fjjj1m6dCnt2rWjevXqbN++naKiIiIiIlSskdvt5tlnnyUjIyOkkChUWKGkrbp+NAwDCzhztog7qlZhy7atiljJcT0I1gMPPEDv3r1DdLKc+69iuOQ3i4qKaN68Of/4xz+wLEslE8jRoEEDXn31VQBOnTpFhw4dSEhIIDc3l6SkJObNm6f4yYMPPkh8fDz169enffv2ZGZmqrCm0tJSunbtSnp6Og0aNKBRo0a0a9dOxWvLwi48tOhyel3e/1mCpZsL5TPxN0+ePJn58+f/aH8/gHfeeUcxcIfDwapVq2jVqhWZmZm0bduWrVu3qt89fvw43bp1IykpieHDhzN//nzGjh2rOs/evXvp2bMnjRo1om3btgwfPlxl6oU/VB16NVp5sLt37yY2Nva6uQj1+DSXy0WnTp2YPn16yF5G4Uf4AJXfkvIIx48fByosdhIL5fF4OHTokBoAkpa7c+dONmzYwJEjR4AKa9j+/ftZs2aNaqdY1IqLizl58mTIbxw9elSZVMN9zDZsVCYk6LVp06bMmTNHxSvaMVg2Khti8Rc9EwgEmDRpEgsXLlR6SN9l46233uLRRx8Fyhewe/bsoXfv3mRmZpKfn8+DDz7IsWPH8Pl8PProozRo0IC2bdvy/vvv069fP44fP45hGAwaNIgTJ04o/bFs2TLGjBlzWT3+r/RQwAhy4tRJ7srKVARL9GBJScl1i8Hq06dPiF4N19HhXiiRr+izAwcOAKFbB4kF6fz588rKJGE3+/fv57PPPlPEVgwgLpeL3bt3K3JaWlqq6oqJsePYsWOsX7+e/fv3q8WdXkdM5p3r4iKUi+sbHgpjP3funBKSCFOUvyhq3W0oGQHye+Jflc6mV7KVKH95wIWFhViWpXyrutD0Gwtn6/J5uAXr0KFD18WCFdL5gEOHDqmKsGfPng0heAJd1nq2obhC5Jr6vlOyz5IcUqhOTxk1jIpCqjLYpa1+v19t3izvSQyWXlhUH1D6Jpo2bFQG9DiS9evXqyLDMrdUdvts3NyQ/ul0OpVeFLe2ridkgSs6Rp9rZf7WLWGWVa6PZD6HipATXefov6l7O8KPy8X/mqaJ1+/DAnbt2Y3L41a6RdcDITruf8GCdTm56oYS0af6zi6WZSl9JvKRuCpA6VWfz6f4gmVV7Bssmf9yvrzv8XjU/esESieeetFS/Z6lLVcdgxVukteVvR4IJ5lverEzKCcHXq9XfS7CEgIhGwtDuetR32omGAyqSdWyKirX+v1+laWn39hPMWH5bNeuXdSsWZODBw8qcqE/VHnoV0qwdKaum2N1QYd3Ql3Gcsg9S6alyFAPXtdX7roPWIiVnC/t0WOp9HszTVMNTEB1wvAaWD/V+W3Y+L+C9MOysrKQfh2uwGzYqCwAqjSOrt/0OVyUvNvtVqEZllWu8EWPiQ7xeDwhxTZ9Ph/nz59Xhg4JPdHne/m+6GbDMEL06OXaDGBYJkGz3FXoC1QkTIl+vlaCZZomgwYNolevXiFcQs6V9oR7n/RryrXEwuT3+0P2XZT2SXtFbvoWW1CeRKcXMJWjqKhIESYpsC2HPDen08mlS5d+xBH0e5a2XrUFSy6oPzBdUJLxdrldv8P3xdNZtE5a9Ew6abhcz+fzUVZWFkJuwjd3vtyhE4TLxWCF+1J/aQyWbrKU837ORahb5xwOR8hqRu5J2qEf0hEk4zLcdSvvyfuSJSjv69mXulVN71T6dyp78rJxc0P6pl6bJ7ySsg0blQWZdy2rIqNczzyTgrhQEU+r61K5hmVZytWoz/Pi8tIX8aL7dL2jbw2nGz3CF8lCXJRX5Z9b5ViUk63wcJ/r7SLU46Iv166f4iB6OQx9P2L5DV0Wukco/D6gImZO17s6odUzG/Vq83KeWBWvWyX33zqEtAWDQXbv3k1iYiIHDx5UDyT84eorkZ8jWHopBnm4P9W5bdiwEQq1T4dpgWlhBg2C/gBGIKjeN4OGOs/jcoMFAZ+//D1tQrSsioWJHUNow8ZPQ8WHBfzKihUwKjLi9VCVnyNYOl8ID4cxTZPBgwczcODAEPJ4I1mgb2qCpd9sMBhk//79qtBoeFyTzuyvJgZLSJbX6+Wpp55i7ty5auPqyr5/GzZ+1TDMCpL1UzDLidiUyc+ydfMWsMAIBDGDPw5f0INRK/3ebNj4lUIZFCjPIuzWozu79uwOCR25kjINYpUSa094iI7P52PgwIH06tVLZVSGB4n/1nFTE6zweI1vv/2WuLg4yyO1sAAAIABJREFUjh07hmVZyncunUT3hfv9/isqNFpWVqaSAHJzc1UdLNuCZcPGv4ZunbIMEyMQxAgECfoDeN0eMC0sw8Tn8RIXE8ucWbMJ+gOKdEloQXh8ox4jYcOGjVDoQe7nL14gono19uzbi8vlUuEhuifnpwiWbpywrIowIKnablkWjzzyCA8++KBa+IjOvVE4xk1NsABVCA5Qe/199913qmPIER6Ublk/vxehHrfl9/tp3rw5BQUFGIZhbzVjw8bPQCdWQX/gRxYtv9en/r6zfjrz33lXfccyzJC5KjyLuLLvzYaNXytULJZlcrLwFDFxsXzx5Vq1KJHY6Z8jWOEV2MOz+P1+P/fffz/dunXD4/EoY4cYJipbDtcDNzXBkqwMqXgrLkKpgyXBbbqbwev14nA4cLlcV2TBkkO2DxILlpSksGHDxuWBaSmrlW7J8rjclJWUKkuVGTRITU5hzqzZ+Dze8vgPo7xUgygDGZd6/Edl358NG79GqLhjLI6fPEFavbqsWv2Z0mXiKvw5gqXrP6go6SRlEACGDh1Kv379sCzrR1l6lS2H64GbmmDpN+v1ejl16hSxsbEUFhaGZGroJEy/958jWIFAICQboUmTJkyePFkRrsq+fxs2fs0IdxEG/YEQF6AQMCxonNGIZR9+pAgX1k+74fVsZBs2bIRCCJY/GOB00Rkio6PYuOlrpSclK+/nCJaecadbs/RSQg8++CC9evUKsV5JdmVly+F64KYmWHq5iJ07d/LXv/6VO+64g3nz5rFjx46QkvtSaEyKwnk8nisKchei5vV6ycnJYfz48Vy6dMkOcrdh42cg5MoMGvg83orsQNPC43Jz/uw5tmzazKIPFpKUkMjwYY/wyccr2LNrNx6XO6QoopSKudFWyDZsXG/oQe6ni85we5U7WLX6s5Bi31dSB0vO00tMQHk9y1OnTrF69Wq6dOlCfn4+q1evpri4+EdGjN86bmqC5XA4mDlzJhkZGcTFxREZGUl8fDxRUVFERERQr149pkyZolyG0pmkE1xJHSwRqATFr1mzRhUyq+z7t2HjVw3DrCjF8E+r1fmz55j31tt079qNeml1qVGtOhFVqpIQX4vI6jWIia5JfGwcuU2aMnnyZNatWxdSJ0dfKVf6/dmw8SuEECyPz4sFjHzyCY4c/UHV8dILeP4rgqXXkgS4ePEiy5cvp0+fPkRHR1O9enViY2OJj4+nRo0apKSk8MADD/D111/bWYSV3fArvTndLOlyuVTneO+990hJSaFatWrExMSQlJRE7dq1iYmJITk5meTkZOLj47njjjtITExk8eLFIZ3L5/Px3HPPkZubqyxUeqE0yYiQ98JL9dsTvI2bHZddBVNR2kQPcrcMk9deeZW7GjXm1r/cQo1q1UlOTCI5MYmkhETSatchJSmZlKRkkhOTiI+NIyEhgd///vf06dOHQ4cO4fP5QgoZhxcilHFtEzAbNiwswOFyYgEen1ftY6sXuJZC4lBuaf5wyVJSkpIJ+Mp1pRS9vnjxIj169KBKlSrKkJGSkkJSUhKpqakkJiYqfRsdHc2wYcPUDg2SuSi6Vy8kHo7wupWVjRuaYPl8vh9VxXW5XPTo0YPExEQaNGhAbGwsUVFRpKSkcNttt1G3bl3i4uKIiooiNjaWtLQ0atWqRbVq1XjyySdDYrNeffVVMjMz1QOVh68H1uqrZ/meZVm2i9DGTQ/JrgVCFifBYJCSkhIVrL5/7z6aZOcQVSOS2265lYwGDUmrXYca1apTMyqa2Jox3HHb7dxx2+1ER0ZRJ7U2NapVJzo6mpycHKKiovh//+//8dprr6kxalnl88H58+fV+BSidSPFgNiw8UthWCYBI4g/GMCwKqqV/+i8f5IGM2jw0dIPqVsnrTxW8p/HF198QXx8PBEREcTExFCzZk3q1q1L9erVqVmzprJkJSQkcOedd1KzZk0iIyNJS0tj/fr1WFa5t0nmCtl/8F+1/dcyfm9ogiUrUY/HQyAQoLCwkLy8PGJjY4mIiFDuwOjoaJo1a0bv3r1p1KgRPXv2pHnz5kRGRlK9enXS09OJj48nOjqaoUOHKmvVtGnTaNiwYQhxCg/ik8lcCpdKpkRly8aGjcqGZCO53e6QLS5kUeLzeHnrzbncfutt1IyKJiUpmQbpdxITXZPbb72N7MwsenTrzlNPjmLOrNlMf/4FHn1kOHkt7iYmunziTk1NJTk5mTp16lClShXy8/M5duwYpmly4cIFRa4sywop2SKrdRs2blb4gwEswOVx4wtULEq8Xm/IIkQ2mrYMk0UfLKRunTR8nvJs+82bN1OnTh2qVq1KUlISTZs2Vbp3yJAh3HPPPeTk5NC/f3+Sk5O5/fbbqVGjBrVr1yY6OpoqVarw9ttvK3Ilexbr2+z9mnFDEyxZETudTvbv309GRoYyTzZo0IDq1auTkZHB7NmzMQyD48ePExUVpTaQ/vDDD6lXrx4xMTGkpKSQmppK1apVeeaZZ/D7/UyfPp3s7Gwsy1Il/sP903JIGYjjx4/bE7gNG1b5XKJvXi6xiYFAALfbzfBhj/DH3/+BtNp1aJB+JxFVqlKjWnWa5zZj3ltvU3jylNoap6ykVFVxd5SWsWvntwwePJj4+Hhq1qxJzZo1qV27NgkJCaSkpLB//35M01QWLBmz+n5ulS0fGzYqE26vBwtYveZzypyOkH0UZZzK3ommWV6j7t1579CoYQZYcPz4cRXbXLt2bVJSUvjP//xPRo4cycmTJzEMg8cee4zu3bsDsGvXLvr3769ch2lpaTRs2JBbbrmFsWPHqnnCsio4ya/JHXg53NAES/y/P/zwA8nJycTExFCnTh2Sk5P585//TO/evdUq1uPxsHfvXv7yl79w4MABDMPA6XRy8eJFmjRpQnR0NLVq1SI6Opro6GiWLFnCq6++SqtWrRSD14mVWLDEf1xWVkZ+fj4FBQUqFqyy5WPDRmVC33ZKXHTyWb9+/YiqEUlKUjLp9epTOyWVGtWqM3niJBWXhWnhLHOAadGiWXPemD1HVXe3jPLJbMeOHbRr144aNWoQGRlJXFwcKSkpVK1alS+++EKRPMkmhvKNXitbNjZsVDZMLE6dLqRWYgJbtm0NcemXlZUpa6/KzP0nwcq6K5NTJ07StGlToqKiqFu3LrVq1SIlJYV58+ap2EuHw0FBQUFImQan08k777xDVFQUkZGRREVFUb9+fW655RamTJkSEgemE6xfqz69oQkWwNmzZ8nIyOCOO+4gNTVVxVcVFBRgWZbaAduyyrfKSUtL49ChQyqg3efz4Xa7yczMJDIykgYNGhAREcFdd91Fz549adWqlcp40LMm9PRw6YCZmZmqDpZdaNTGzQ6J55BJR1x0jz76KH/5y19U0Hr1iGrUTkll/959IZs6u50uVYg0OTGJN+e8oYhXWUmpWvB4PB5Gjx5NdHQ0ycnJKq4yPT2dLVu2qPEo4xWwd1qwcdMjYAQp+v/svXeYVdXZPvzP98v1vokKzJzee69zZgakRQPSbSRBE1vUGN/4WpCQRCwRDFIllqgRjARFIgIBG3awV3yjAUWlKSAgbfrpZ6/7++P4rLP2SGAiM+ecGfa5rvsaypy91157Pc+611P3f40aVS3e/2ADTxRjrNQFBSi1jgMDHn9sOZx2B377m6kwGo3w+/0wmUywWq1YsWIFL31EhOrqq6/Geeedx0smkcx+9NFHqKurQyAQgMlkQjQahdFoxIIFC/g++++sWNXEUfo0wTp06BDOOOMM6HQ6eL1exGIxOBwO3H777fwlk1uiUCjgww8/hNfrxT//+U++gGhB7dmzB+FwmPuHg8EgLBYLxo4dy+dFXCTi6ZyyBkeNGoXZs2fza1d6fhQoqCSI2Igp2b/5zW+gVqsRCoUQCYWhUalxzllnF5s3Z7LIZ3P8J9XJSnUkMXTwEDz6yFJZ8VGK16DP3/72N26BDoVCMBgMcDqd2LFjB1paioRM/E6l50eBgkpCAsO+/V8jGA7hldde5XsbFc8WM+qTyeKhZ80/VkNVUwuXwwmTyYRBgwbBbDZj9uzZ3HKVy+X43njZZZfh0ksv5f9OHp90Oo0tW7YgFAohHo/D6XQiEongBz/4AVavXs1ra4kki8ZdTRylTxOs888/H3a7HS6XC9FoFAaDAbNnzwZjjFuWyOxJBMtut+Orr76SNbOkgLpXX30VRqMRbrcbgUAAFosFEydOlJlKxfRuIm60gYwePRo33XQTgCNnYyhQcCKBGqGTUp07dy7UajWcTifi8TjUtSpcdMGFRYvVN8VFxV6EvNK7xDCocSD+9tBiXoyUspgYY6U0cknCI488ArvdjlAohIaGBpjNZgwePBiHDx8GY4zXyuordXgUKPjOALB7z1fwBwN48umn+H7W2bpL9bFYQcITq9fA5XAWE1IaGjBgwAD8+te/loXOiF6diy66CJdffjm3hlEpFfLw7Ny5kwe8h0Ih1NXVQavV4v333z8iwRI/FZ8/1ssJFk0wsV/x5Pm73/0Oer0eXq8X0WgUarUaN998M7cuiQHp9HI3btwIm83GC4vmCnnkCnlkcllk80Wf74wZM6DT6eDxeODz+eDz+bBx48bi4skXUMjlkUmli6dolIobFgoF/OhHP8LMmTN5QHyl50+Bgp4EKVSxAjTpEpH0ZLNZrFq1CgaDAV6vFy6XCwaDAT//+c/x9ddf8xMtUHKtk0svl8shk8kgEolgxYoVyOVy3BpFsk4HJPrdVatWQaPR8IOSw+HAmWeeya/HGONjpp+dy6woLkQFfR4Adu7eBaPZhFdee5XLA2OlEBhR1pLtHbj6qv+FRqVGPBqD3W5HXV0dj3MWZYn+/Otf/xoXXnghv2bnGOZcLoetW7ciEonwGpVOpxPhcBhffJMNDMhrSxIXqPj8sV5OsMSsBsYYf9lLliyBxWKB1+tFKBSCSqXCVVddxWM86OUdi2AVmIS8VOCH5lQqhfb2dkyYMAEWi4UHy55zzjlF1t2RLFaf/uYL5B6kDeL888/HrFmzlEruCk4IEFk5kkWIenwWCgVs3LgRXq8XdrudW5rHjh3LM26pKTvJkZiyTfLb0NCABx54gBMxKuwrHqTo5969e3H//fdDpVLB5/PxOndz5syBJElcj9C9xCKopMgV+VXQ10HNniOxKN55711ks1m0trZymaQDD32eXPMEr0Pncbmh1+vx9NNPAyi1qmKM8f3vWASL5LWpqQlvv/02jEYjPxC53W5MnDgRjDG+p3fWDZWeP8Z6OcGiCU2n0zzde/PmzYhEItyk6HQ6MW7cOG5FIsUpKtxjWbDIikWfN954AwaDAeFwGH6/HzqdDsuXLwcY0NbSWoz/aGvnplC6744dO7Bnz57itZUYLAV9HLwiO0qWIfozdTcAgAkTJsBut8Pr9cLj8WDgwIGy4HMiYuK1OhfyXb16Nb766iswVioySHqLviuWYEgmk5g6dSrMZjOcTiecTic0Gg1Wr14NoJjNROM9YpX5KtGBChT0FApMggSGTZ98jKaWYnHPlpYWLg8kv21tbdi/fz+GDx0Gi8mMcDAEo96Aa665hssoY6XODeRmPBbBou+R3C1btgynnHIKQqEQ/H4/amtrcdttt/F6egB42EG1yGevJlii8iPG+6Mf/QhGo5GTK7/fj927d/OS/vTdrliwGIBsPodcIQ+GUlA8Yww33HAD1Go1IpEIPB4PGhsbsX/f17x/GivI62GRgqZFWem5U6CgpyHqDNGCRYSJMYbZs2fje9/7HsLhMBobG6FSqbBq1SowVlTIRHQoLkPUP6R4ReIkKmn6PTrhSpKEZDLJ5b2trQ3jx4+H3+9HIBCAx+NBKBTCnj17uJtBJGk8HR1KkoqCvo8Ck3ibnFyhlLxFP8XGzLNmzYJGpUYsEoXZaEI8GsOXX36JXC4nq7xOckqyfDSCxVgxUU0kT3/4wx9gMpng8/kQjUZx8skn46WXXuIt8UgfVEsITq8nWK2trfylTZkyBSqVCsFgEG530UT54osv8tYbgLwNxrEIFlWyzUsF5Ap5WfzFoUOHcOqpp/I4Dp1Ohz/cfAvAwIseinPX2a1RLQtAgYKehHj4EbscAMArr7yCfv368azcmpoaXsZEbHFFGbmZTOZbfdCAUhwI6QIx8JXkW3QTUiAtYwyffvopgsEgotEo3G43vF4vL3yYTqf5iZ3ux1hpI6j03CpQ0JPISwVOsjpSSVkBXt4eR5K4DIUCQXhcbnhcbvz57nv4fkuyRLInxmQeKwaLsVLvQ7JojRkzBjqdDrFYDHq9HoMGDcL27dt5CQjGmOIi7A6QYi0UClixYgVqamoQi8Xg9XphNpsxd+5c2emTXnZra+u3FPCRCBZVsk1nM2hpK/qeU6kUJ0nz58+HVqvlxUtdDic2fvQvsIKEdLLU6FlcZDSHdDJXoKAvgw4Sndf/7t27eSFCqjE3cuRILs+MMVlbDDo5k8yKLn9yI9L/kXyK7jzxQNM5O/ixxx5Dv379uBXLbDbjgQce4N8jOSaFr1R6V3AiIJ3NcAMDJXmJ8ZAUU3XllVfCbDbD5/HC6/Zg8KBT0dLUzA8yADj5IfkkeT4awRKtZYwx7kHatm0bYrEYtFotwuEw1Go1Lr74YmSzWc4JqsWA0asJFintdDoNn8+HeDyOaDSKfv364cc//jEYY9wlwBiTnYAPHz7cJRdhJpdFXiogLxW4r7etrQ2ZTAYPPfQQvv/97yORSMDr9cJkMGLK5OuL6eNScYzUB5ExhltuuQUrVqzgyr/S86dAQU+ic/o0HTQOHDiA22+/HSeffDJisRjcbjcsFgu2bt3Ks/7S6bQslkJ014kKmP797rvvxkcffcTv01mZ0XUpq5eu09bWhlwuh9/+9rfQ6XS8GLHf78e//vUvTvhEeVWC3BWcCMjksjjc3ISfX3gBvtj5JRhjvP4UyeD69evhdDrh8XjgtDvgcbkxbMhQSPkCtybTHigedkgXHCsGCygaI4isEVF7/PHH4XK5uHFDrVZj3rx5PFyg0nNH6NUEi17eVVddBaPRCI/HA4/Hg3g8jk8//ZQr6EKhwF9Wa2srz4Q4FsFKZzPI5nNIZdI8BotYOwDceeedMJlMqK+vLwbVB4LQqNR44bnnUcjlZYGxqVQKI0eOxG233YaWlpaqLe2vQEF3gVxzYlA7Ywxvv/02HA4H7zem0+nw5z//mRMe0i90gCI5YqzkLhSVdaFQgMfjwX333Ser8EyyJxIikntyV5KOaG1t5WSPGkNff/31fDyktMnqpbgIFfR5APhi55fQ6LR4ad3LXA4AcKvyT3/6U2g0mqKb3x+A3+tDQ6IemVT6iFbn9vZ2WYzksWKwSP4ZK/VAFAPk1Wo14vE4bDYbfD4fPv30U1lHlUqj6gkWKcEj1dPJ5/NYsWIFVCoVAoEAIpEIamtrsXDhQv5AR+tT1JUsQgnFdNUCK52cSTnffvvtGDt2LG688UaYTCZ43R5YzRacfeZZgMT4hkGLZtiwYTwVXHERKujr6Kw/SGbHjx8PnU6HhoYG9O/fHz//+c+5bIm9xrpyfToJR6NRPPzww2CMdVm2SC/QpvHMM89Ao9HA5XIhHo/DYrHgiSee4HqnublZtmlUen4VKOhJ5KUC9uzbi1AkjGeeXfut/ezhhx+Gy+VCOByGyWTC0MFDcNv0GRjUOBCZVFGOj1QEVHT/HY1giR/xWvR7+XwejY2NsNlsSCQS0Ov1OPfcc3ldTKB4QKOQAbGZfLnkt6oJlkh+yDRJpsJcLof9+/dj6NChvOinWq3GpZdeygNie5pgzZ49G+PGjcNHH30Et9uNRLwOXnfRVLpi+eM845AI4dixYzFjxgzs37+/rCRVgYJKoFAo8MbmQDFmY+nSpTx2wufzwel0YsOGDbykCX2vK4U8xbircDiMBx98EIyx/0iBUvAtuTHoVJxIJOBwODB+/Hi0trby8ACKP1E6MSjo80CxkrvRbMIH//w/2X7Z3NyMESNGwOl0wm63w2az4Y558/H8s88hFAginy0ekHqSYKVSKWzYsIHrk7q6Ouh0OixcuBAAuKcKKMVS0vjLNYdVTbAYK54uxYKiQDFriLFitXatVstjJkKhEDZv3swJTU8TrJkzZ2LixIlIpVKYPXs2rGYLvG4PLCYzTv/had/q/D1q1CjMmzcPjFVPloMCBT0FkpNUKoVMJoP9+/fD4/HAZrMhEomgpqaG9wUVm8gS6enK9UnGotEoli5dKrN0H+v7pE8OHjzI7/3ZZ58hGo3yuBKVSoU77riDkyoaX6XnVoGCHgeAPfv2whfw4+X163jfUAD485//DK1WC4/Hwyu2t7W04uknn0I8GkM6WQyl6U6CJV6PyEo6ncb06dPRv39/hEIhhEIh2Gw27Ny5kxMr+inGb5aLw1Q1wSJLFTFRMZ5i3bp10Ol08Pv9SCQSGDBgAFasWIFsNou2tjZZr8GeIljz5s3DaaedBsYY9u/fj1gkCp/HC5/HC4NOj7vvvlummBsaGjBlyhQAShahgr4P+pDFdvLkyTCbzQgEArDZbBg2bBhaWlqQTCZ5YLoYY9WV65MCtdlsuPfee/k9uxIjJZZOEbOj/vKXv6CmpgbhcJj3HP3iiy84UaTfq/T8KlDQowCw66vd0Op1ePb55wAU3eSHDx9GIBCAz+dDLBaDWq3GokWLAAY8+shSRMORHrFgiRCt4gcPHuQZyZFIBHq9HpdddhnfZzuXiqDrl2MOq5pgiYqS+hJR6vaoUaNgtVoRDodhsVgwadIkmfIjhd2TBGv+/PkYPnw4//cli/8Gk8EIn8cLj8sNn8+H/fv3o6OjA7lcDrNnz8bSpUtlQbsKFPRVAKWYjQ0bNkClUvHCvBaLBWvWrOHyR1ZeIj1dMeNTKEA2m8UVV1yBZ599FtlslmchduX7dD+ylGcyGbS3t+OMM86A0+lEIpGARqPB1VdfDaCYAUnjrPT8KlDQk8jmc2hqacbkKddj247tXCanT5/OZdlqtWLYsGEoFApoOnQYT6xeA5/Hy+tAdhfBOtJ+SdcAigYXg8GAYDDIswpJvxDBogNSV/VLd6CqCRYNiu5H5Onuu++GVqtFKBSCz+eDRqPB5s2bedwGTWBPE6y5c+di7NixPKMim85g1MgzeLsAu92O3/3ud/wliyUjqiXLQYGCngIRHQA4//zzefsqlUqFiy66SGY1InkQE1qOdX2x2OGBAwe4bhKLlB4L1GqLsaLeoIDYtWvXwmQywWazIRaLwWg04q233uKKWskiVNDXkSvkkZcK6EglkUwX4x03bdrEM4BdLhf0ej1Wr15dzN7N5bF61T8QDoZQyBXluTsJVucPVW0nT9f//M//wGazweVywev1YvDgwTx2Usx+pOuXYw6rmmAR8SElnMlk8Mknn8Dj8cDv9/Omj3PmzOEvJplM8onvaYJ15513YujQoQC+aYkjMTy39lm4HE74vT643W6o1Wps2rRJlqpKtXgqLUAKFPQkSJn94x//gNvthsPhwNChQ2EymXivQSJhYkkHCl4/1vWphhXJL/2ZLFHH+r54f9IxZCHP5/O49NJLYbFYEA6HYTAYcN555yGfz8tKSShQ0FeRlwrI5LJIZdLI5IohNxdddBFMJhOCwSAsFgt++ctfIpVKFQt8MuDxx5YjGo4gmy7KX08SLPpd8mx99dVX8Pl8vDPEgAEDcOeddyKVSvFDl2j1KsccVjXBElOiKQ7rqquuglar5VWXBw4cyActNn0UX25PEawFCxZwF2E6nQYkhlwmi5/++CcwG02IRCJwOp2YNGkSv0+5GbQCBZUCUDwcjRkzBiaTiZvuf//738v6hjHGZL1Cu1opHYCscjNZn7oqX2Jbnc6p3QDwwQcf8IbuHo8HJpMJL7zwAgAlhlJB3wf14KU6kOvWrYPFYuFJZUajES+//HKJtHwTg1VflyiLBYss3XT9XC6Hhx9+mBcwDoVC0Ol02L59u6xHYTmNG1VJsOilQGLIZ3MAAwq5PF5//XXU1tbyFG+VSoX169eXXAooVl4n1t2V+xyNYIkvQgyOE+tgjRgxgl+Dguj+7//+D0ajEYFAAH6/HzqdDi+88AIOHjyIAwcOfCsAXyFbCnojiIiIrnnx3wDggQce4AHjpJh37drVLWseKJn+Dx8+zHUTHbS+yzVFmQTAM5Xr6+vh8XgwdOhQXtld1B2iu5P+Xun3o0DB0dD5wxiTrX3a5zZv3oympiaMHj0aDocDXq8XNpsNU6dO5UWz6TuPPPIIGhsbeUHu4yFYXX0OsR1Xe3s7Jk2aBL1ej3g8DpVKhV/96le8rIpYuqEc+29VE6xMKg0woL21DVK+gHHjxsHr9SIej8NoNGLKlCnYtWtXScmj2DdJAgPrwhiPl2DNnTsXp59+Ov8dWhxNTU2YNm0adDodgsEgzGYzRowYgVGjRuHWW2/l41UIloLeDDFdmuSCSE8ul0NTUxNOP/10XqfOarVi5syZ3XaKJJksFAoYOXIkHn74YW7R+q5BrKJM5nI5bNmyBcFgEB6Ph2cULl68mD+nJEkyYkXuxUq/GwUKjgWx6wFjpcLAolzv2bMHsVgMU6dO5bFNlFhGraREa/Ty5cuRSCQ4oelpgtU5PAAAXn75ZZhMJrjdbjQ0NEClUmHdunWyMB1xbCcswQIDJ1mL//oQVCoVotEoXC4XAoEANm3axMeUTqdRYBJ355WDYFEWIS0KsUXHZ599hrq6OthsNtTV1SEej0OtVmPmzJmyOVUIloLeClFZEakiWQSA++67D2q1Gj6fD3a7HUOGDMHu3btLB6LjvD8prFQqhUQigSVLlkCSJF7c9Ltek0BkbdasWaitrUU8HofZbMbQoUPR0dHBexuKMiz2TKz0+1Gg4Gjo3N+zMwGSJAm7du2Cz+eD2WyGy+XiGcBz586V/S7J4cqVKxGPx8tlvgKkAAAgAElEQVRiwSIjBR12xD342muvhcVi4e79IUOG8BAdsYH7iU2wJIZMKo3W5hZEw8WmjtFoFP3798fMmTNlTDubzXLrVa6QL/qPu3Cf4yVYP/zhD2UneCqYKEkS7rnnHpx00knw+/1wu93Q6XS47777kM1m+SagECwFvRWiMqTgcDq57t69mx+GwuEwVCoVr7BM/ci6cxyxWAwPPfTQccuU+P18Po90Oo0DBw5g8ODBvM9pTU0N7r//fv4sQKksDH0UK5aC3oDOBECMR6TSJYlEgu9hkUgEiUSCJ5i0t7fzdZ9MJrF69WrEYrGyESy6Lu3B1Onl888/h8vlQjAYhN/vh1qtxuLFi79VePSEJljpZAqQGObMmg2TwYhgMAiXy4XGxkYcPHgQgDxlmghWXiqUhWDNmzcPI0aMkI85neYvPplMYvz48Tyl1ePx4Fe/+hWAUtEzhWAp6M0g5UYKlaw+c+fOhVqt5h0WBg0axMshUBxEd9yfFGYikcCyZctkwerf5XqdY7DolLxkyRKoVCrEYjE4nU7E43Hs27ePb0RUa4f0iSLTCqodtMYZKzVRF5M+AODNN9+ESqVCKBSC2+2G0WjE6tWr+fdI3ujn6tWrEY1Gy+IiBEqWK0mSeHYvxX/Onz8fGo0GkUiEH/RaWlp4PawTnmCBAR9v3ISAzw+fxwuv1wuVSoVly5bxMYg1bLL5XFljsGbPno2RI0fKyvDThkNm09WrV6N///5cMVssFjzzzDOKi1BBrwcdFEQ3Q6FQwK5duxCPxxEIBOB2u3mXBVKIZHE+3vsTsZMkCZFIBKtWrUI+n0dzc3O3ECxydSaTSbS2tqKhoQFGoxENDQ3Q6/WYN28e1wn0XGLx0kq/HwUKjgZx36H9Stzfs9ksxowZg2AwyHv9/vjHPwYgL3cg6oDly5fD7/fzGMieJljiPkrEKp1OI5/Po729HdFoFD6fD4FAAAaDAdOnTwdjpT6mJzTByqYz+M31U2DUG+ByOOHz+XDWWWchk8mgra1N5v9lrOgazOZzRXJVBoI1Z84cjBw5klujxMkTq7VPmjSJV7DW6/X4yU9+Isu+UAiWgt4IkYQwVlKQc+bMgVarRSwWg8PhwJAhQwAUkz9IgXZHPz9RyVutVixatAhNTU0AvnuMlyiTYlwHACxatAhmsxlerxcejwexWIz3Ps1ms0ilUjzwXSFYCnoDaE8TyZUkFRM3lixZgtraWsRiMcTjcbhcLmzevJlboInIiO62FStWwOfzyYoA9xTBEn+XZI5q2tHh69lnn8X3vvc9DB48GIFAAFqtFnv27OlSIfLumt+qJVgb3nsfPo8Xfq8PAZ8fWq0WL730kuwlEXOVJIlnETKgGOjehfscD8G64447MGrUKL7JUFVoUsrE7Pfs2QONRoO6ujoEAgH069cPCxYsUAiWgl4NOjGSYksmkzh48CAPLPX5fNDpdHj88ce5TJB1t7t0CF1r+fLlsgav39VC1jkGi07CdCI//fTT4XA4EIvFUFtbi7vvvpvHaonKvlytOBQo+K4gGeyc1dvR0YF9+/YhFArx8BaVSoW5c+fyGGPGmIyYkaFj7dq1CAaDZXURiuMWXYaEiRMn8nAFo9GI//3f//3W7/TkHFeMYJGCzufzPIaBfMGMMZw/6Tw47Q74vT5YzRZcfPHFnEwdKUiWioISjnX/7rBgjRgxgv8eLQ76DgX9AsCCBQugVquRSCRgs9ngdrt5mitQatFB7o2eJrEKFHQHiDCRLE+bNg16vZ5Xej7rrLPAGJO50borALyzgqTDFmPd04qKXH5inZ3HHnsMBoMBgUCAx4Nu2bKFbxhkxerOIH4FCnoCtO/R4Ufcg3/5y19Cp9PB7/fD6XSisbGRe2rEAuD0XZKR5cuXIxaLcQt1TxKsrj7fq6++CoPBgFAoxEuuvPHGG/x+YsHhf8ctvisqSrBEwkKF+uilvfzyy/C43HA7XfB7fbBZrHjvvfeOavqvNoJF121paUGhUMDpp58Os9mMRCIBvV6P888/X1agUGxGqRAsBdUO0R3W3t6Ozz77DLFYDG63G36/HxqNBqtWreJycTzB50dCZ3dja2srV5rddQ+RvOVyOTQ3N2PcuHGw2+0IBoPQ6/WYPXs2V9QkvxT0r0BBNUPcexgr7snLli2D0+lEIBBAfX09VCoVVq5cCcYYd4V3jrusRoJFZLGlpQW/+MUvYDAY4HQ6Ybfbcdlll/EsSHFMokWuO+a3ogSLXhgpSaAYUJrJZHDeeedBp9GiLhaHVq3B76b+llu2UqnUERVYtREs+g494xtvvMHrYgWDQVnqOvVjo4WnuBgUVDtEZZTP5zFjxgz069cPdXV1sFgsGDdunCz4VEwE6Q4FSinZJC+iPHeH/NDmQc9Kz/HEE09gwIABCAQCsNvt8Hg82Lt3r6xVl1KmQUG1g9YpeU0KhQIOHDiAU089FSaTCV6vFxaLBddddx3/Xdr7egPBEi3r77zzDqxWK+8mYTab8corr3DSIz5Xdx7SKkqwxBOfWEdmzZo1xVYzPj/8Xh9cDid2bNvO0zDF8YioRoJFAYHJZBKPPPIIhgwZAq1Wi2g0yqtDb9y4kY9D3DAqLYAKFBwNdHjI5/PYsWMHgsEgvF4vQqEQzGYz1q5dyw8PYhDtv5Pf/xQi6fnrX/+KTz75hMdkdIeCFLODaRPp6OhAPp/n1ujGxkaccsop+NOf/sQ3IbIKVPr9KFBwNIjJGE1NTcjn85g8eTJsNhsCgQBCoRAsFgsuv/xy7N69W0YOxANNtRKsXC6HZDLJLVPXXXcdTCYTGhoaYLFYuAepo6ND1l6rO+W3ogRLTGsuFAo4fPgwGGMYOXIkLBYLGhL10KjUmHHrdLBCKej032XpVBvBYozJMh6HDh2KG264AWPHjoXVakU0GoXBYMCFF17Ir0sZHIqCVlDtoEQOAJg+fToGDBiAhoYG1NTU4NxzzwVjxbpYYkuO7j48kA6Jx+NYvHix7BB2vNcmsiYqfLruk08+CYvFAqfTiVAohFAohD179nBLdKXfjQIFxwLJJO1/L7zwAlQqFcLhMKLRKIxGI+666y4YDAa89tprvFsDY/KehdVKsADwvTSdTmPLli3weDzweDwIhULQ6/V46qmnAMj7l1IsWnfMcUUJljipdO3HHnsMJpMJPp8PPo8XAZ8fX2zfAbBS6QPKWOp8rWojWPRJJpNob2/Hj370I9x33314/fXXYbVa4XA4EAwGYTQacc899/BnEzuEK1BQrSDl9fnnnyMSicBmsyEUCkGj0eDpp58GAFlRUZKzIx1EvgtE3eF2u/G3v/0NjJVch8d7fZJH+jO5SMjyftZZZ6Ffv378oER9RrszS1KBgp6CKIuHDh3CkCFD4PP54Ha7odfrceGFF6K9vR0ejwfvvvsuz84lOa52gkVjovY4QDEJp6amBpFIBGazGaNGjZJlHdOz9AkXYecJbWpqwvDhw3mKt8lgxG3TZ0DKFwAGzizp1Nr5etVGsEgh0z3OOOMM3HrrrWCM4ZprruHBwF6vF06nE++88w53pyinYAXVDnIPTps2DWazGcFgEDabDRdffDFSqRQ3zxPpEGvjdJcOIat2Y2Mjli5dCkkqVXQ+3msDkKV+53I5ThgBYOXKlfB4PLDZbAiHw/D7/fj888+VQqMKegXEve/yyy/HySefjIaGBn5Q2rt3L5qbm+H1evH666/zdZ9KpY7oPmesuggWGWEoQz+VSmHr1q2or6/nbX80Gg2WL1/+LWted+2/FSVYdEM6CT/yyCPQ6/Ww2WyIRqMIB0NoOnQYYEBHW9GEd/jw4V7jIuzsEhk5ciRmz54NSSoWaIxGowiFQqirq4NKpcI555wDoFTqv9ICqEDB0QAAW7duhd1u59WStVotN7uLxfzEw1F3nQ5FORkyZAgefPBBWQ+1470+ZTWLDWIByE67Y8aMgdPphMPh4E1waQOp9PtRoOBooAPE0qVLYTQaEY1G4ff7odPp8PDDD0OSJBw8eBAOhwMffvghWltbZVnu1U6wAPDDFvVOBICpU6dCo9EgGAzC6XTijDPO4P8nlo7qrjkuK8ESa9fQw7S2tkKSJDQ0NPDS9lqtFnfccQdnn1TgjF5MdyjpcrgIxe8OGzYMt9xyC19gb731FlQqFVwuFwYNGgSVSoUbb7wRADj7Fjcl8d8VF6KCnoaoDIhYkMIimbnmmmtgsVgQiUSg1+tx5plnctkuxxjpNB2NRrFo0SIwVnJFlmN+Vq1aBb1ez/sThkIh7N+/X2a5o7kjXUbzV+n3q6Bvg7Jpxb2DZINiJzdu3Ai/38/bWtlsNlx44YVF+QGw48svYLXb8Myza7+VqUvXJYIFiWHF8scRj8aQTRflv5IEq8AktCc7wABIYDzWe/fu3YjFYryO3UknnYS///3vYIVie75CLo9CrnuaQVeUYIl1JxYvXgyTyQSXywW3241EIoFt27Zx5URlGaj2TnecUMtBsDo6OvgJ+Oqrr8ZDDz3En4kxhjlz5sBkMnErgMPhwPLlywEUTZptbW18MYqbm6KgFfQ0ROUiNjBuaWkBYwybN29GLBZDIBBAOByGXq/Hc889161BokeDWIdr7NixWLFiBQqFYsHE7qyF9e8AgNfF8ng8cLlc0Ov1mDZtGhhj3N1PFnrajMTipQoU9BTEjZ2CuKnrAHlRJk2aBKvVCpvNhvr6eng8Huzfv79oCc7nkEynMGbcWHy5a6csQ7Y3ECyGYn/iApOQK5S4RiaTwdy5c6HX6+F2u+H1ejFu3Dgk2zuQy2SLzFL6diHj7/oOKkqwWlpa0NraimHDhsFkMiEWi0Gv1+O+++6TLQi659EquX+XsfQkwSIXgxicT3OYTCY5yTrttNPgcDh4intdXR127drFFy8JA80HjbnSAqygb4PWrhibAID3+/vDH/4AjUbD07lFF3c5LKwkB+l0Gq2trTKXZDnko62tDYwxLFmyBEajEZFIhDeD3rdvH+/VRnNJP49XaStQ0FUApUQT2jeJbN1+++1Qq9W8aK5arcaLL77I951kOlVsOfcNUQGKBgMxU7eaCZYExtvnZXJZiJ+dO3eirq6Ox5tptVo8tuzv3IIF1j2tdCpKsGgyKfYqFAohEokgFArhwIED3CUhmtu7M0OnHDFYNGe0KDOZDA+CpQW7fft2nj7qdrvhcDhw7rnnytwKYtVZWtSVFl4FfR9EsBgrlURgjGHr1q1cVqmJ+TPPPAMAZWsVQ+OiwwdQakDbXTriaCA90NraitGjR8PlcvEaYNOnT5fJfXt7Ox9Xd20gChQcC2LZkGw2y63Ljz32GDQaDSKRCGKxGGpqajB9+nTuHUqlUsgV8mAAMrks7+1Lew/JeDUTrGw+BwmMW7AYYzxjEADmzJnD23qZzWaMOP1HyGWySCdTfcOClcvlkMlk8MMf/hAmkwmBQAAmkwl33nmnjMzQSyciJPYrPB6Uw0VIfxfde7QJ8IUJYMmSJaipqUE4HIbT6YRer8e8efPQ1tbGNxCqE1YuF4wCBYyVYrFEd9fNN98MnU6HhoYGmEwmnHvuuchkMshkMmVbn6STxMBbcseXa27os2bNGgwYMAD19fWwWq0IBoPYvXs3kskkkskkl3/SZQrBUtDTEL0dohV68+bN8Pl8MJvNiEajXH4pRosO8mS9IoIlWmFFMlTNBCsvFbgViw6LlN28e/duHvPt8XhgNpqw8vEVfcdFCABLly6FVquFz+eDxWLBwIED0dzc/K0XIhY4664+Xz1NsDq3CDlw4ADvl0buwubmZnR0dECSJNx00034/ve/j9NOO42XblizZg2A0kmY0sYVBa2gp0HrWWzhJEkStm3bBq/Xy8uMmM1mXveK1nW5YqDoREoyRPLXHTGaxwIp6ra2NnR0dGDUqFGwWCyIRqOwWq2YOXMm33xIR4gn6Eq/XwV9G+K+QbKRTqdx2mmnwWQyobGxETqdDk6nE7t27eIhLXQIyOSyaE92oLm1BYeaDvPvk1el2gmWhCLJIoIl1u8iGVywYAEGDBiAuro6OGx2jD5jFFIdyb5BsFpaWnD66afD7XYjHA7D4XBw61Umk5GletK96ZTcHQqqpwkWnfjJ733eeedhzpw5soVJzyRJkkxJ+3w+2O12xONxbNq0ice90MIoxwai4MQGnfhEd34qlcKMGTOgUql47NXPf/5zdHR0oFAota4pRxahGOQ+fvx4rFy5kh/AyhUDJuqP1atXQ6fT8WSVSCSCTZs2yfQG6QqFYCnoadC+QgaLjo4OXH/99dBoNKirq0M4HIbBYMDTTz8NxuQtYtra2pDJZfHV3j2IxKL4aOO/uKwB4Ikk1UywyPpGBIuuDZS8YPv370csFiuWqPD6YDaasGzpo32DYK1duxYnnXQSgsEgPB4PYrEY9u7d+630UvHvYlPG430B5SBY4qIZPnw4brnlFu7DJnehSJy+/PJL7mKgchVnnHEGWlpauHlTqZOloBwQDwGSVCy98OWXXyIUCsHlciEYDMJgMOCZZ56RrfNykX+g1CQ9Eolg4cKFMldIT9+fnllsVD969GhYrVbEYjGoVCrceeedsixo0qVKDKWCngatTWp6fNddd0Gn08Hv98Pn8+GUU07BzJkzZQcVxljJwgpg+xc74HA58dK6l8FYye1I169mgiWBcYJFdTHT6TTfe0kGZ82ahf79+yMajsDtdGHUyDN6D8ESlZ1IKNra2jBs2DA4HA6Ew2HodDrcdddd3xpIT6KnCRYtImrdMXr0aE6wxKwsqohN87tmzRqo1Wp4vV5EIhE4HA787Gc/4xmV5GYQK8XT2ERBUaDgeNDZ0trR0YEbb7yRZ8xZrVZMmDCBr7329nYwVmoC3dPjo7WfzWZx6qmn4r777uOyUS4CQ4cd2pRWrVqFfv368UNjJBLBnj17uKsGgNJrVEG3QIyxEhM9qDYcFd0FgOeff55brux2O8xmMy655BI0NzcDAFpaWgCUGrPn83lIYNi5excisSjWPvcsgFJHBtGqXc0E62iFx2lv3rdvH6LRKNxOF/zeYgeZ1av+wfdk0ZP2n2ZIi3yp2wlW5wkTA+gef/xxOJ1OXgHa6/Vi3759/IX3BYJF9UYonXvs2LGYP38+nwcKPuy8ke3duxf33nsvNBoNAoEA6urq0K9fP9x8882yRUqKmixb9H2aw0orAAW9G+LJlrJdg8EgHA4HotEoNBoNnnrqKb6G6Xc7y0E5xlhfX4/HHnuMy0I57g9ARiqTySRaWlpw9tln87p2ZrMZt9xyC9/ESK8pLn4FxwugVKSbZDSZTMr2NUmS8Pbbb8Pr9SIYDCKRSMBut2PgwIHYsWMHl1exACmtzWQ6hb1f74PT7cIbb70p2/so9KU3Eyy6Xz6fx8033wytWoNoOAKj3oCfn/8zHvJAh7bvwoF6lGDR74sPk8lk0NbWhokTJ8JgMPD2Grfffjt/wYyVRwH1NMECILNMxWIxrmzF/6NJp8VNynry5Mn4wQ9+gEgkApfLBavVikWLFvFq7mQCppgT8SSjFDJUcLygGCwi8jNmzMBJJ52EUCgEm82GcePGcZkVLaflcmGLWbhutxvLli3j4y7H+ie5pRAGeu6nn34atbW1CIVCMBqNCAaD2LZtm6z1TqXfrYLeDwDc9SzWi6RDfT6fRzKZxJAhQ2AwGHhrGLVajY8//hgAeJY67R8yYgNg5+5d6DegP97b8D6/Nv3s7QRLdHdu2bIFPo8XQX8AHpcbGlWpJphYvYDG1dXx9SjBog/FHNFnzZo1sNvtCIVCsNvtCIfD+Prrr3Ho0CH+QH2BYEmSxLMGU6kUzjjjDEyfPp3HjdCHXIj5fB4dHR38xbe3t2Ps2LEwmUwIh8OIRqNQqVRYtWoV39jEIqZEXrtrgSo4sQGUOhFs374dbrebN0nV6XR47rnn+NojOSLZKAfBoXWeSqUQj8excOFCnuFUjvkhnSZmBbe1tSGTyWDEiBGw2WyIx+MwGAzc+iy2G6r0+1XQuyE2JhbJlbgnjBgxAiaTiRfVFHuFplIpnjwlyjFdUwLD51u3IByN4M2330JbWxtSqRRSqVSvqIPVld7EYl3Km6bdCK1ag8b6BqhrVfjxj38MxkplkcRSUV0tE0UfmotuJ1iUOUMDKxQK+OlPf8pfulqtxowZM/ikk5IuhwIqhwVLPOWuX78eH374IU8Tpd8TXTF0ffq3Q4cO8aBih8PB+0a9/PLLAEonEHrhROYUC5aC4wVQqgJ93XXXwWAwIBKJwGAwYOLEiQAgU9AUn9BdCrIr4yN9sXDhQvzzn//kclUO/fHvukwAwFNPPQWtVouGhgbYbDYEg0Fs3ryZW9cUK5aC4wXtQ2Q5TafTPJYqlUrhkksugclkQjweh16vh8lkwoMPPohMJsP3C6CUUScmZTFWLHGQzefw+MoV2Lf/a1mpFtrbejPBAsAzLNPpNLZt2QqHzY5QIIhQIAir1Yo33ngDjDGeJU3P3tX9tUcJFmNMpvAKhQLefvttmM1mBAIBOBwOBINBfPDBB3xiyVxZDgVdDguWeLIgoaDnJJOj+ALoI/q5//Wvf8FutyMQCPDYjng8jtdeew0A+Munjxg0r0DBdwW5Bv/1r3/BbDYjEonA6/ViwIABWL9+vcx9KGb9lqvOk9jZgVwlogLv6fsDkHVXoFM9HSrHjx8Pk8mEUCgEvV6PKVOmyH630u9XQe8GAE6WaB8AivUWb7jhBtTU1Mgyfq+88krZPkGy29HRwdcxY6V9LJlO8VIHuULJnSbWuqO9qjcSLFF/JZNJgAHXXn0NNCo1YpEoLBYLLr30Upmc/6e6hT50vx4p00DE4eDBg7jqqqtgMBgQjUZhNBpx00038VOwqCT7iouQFj2RLdp86DuiqzCVSsmKodE8ZDIZrF+/nlsQotEoTjnlFAwePBjbt28HULQ00MKnOay0AlDQu5FMJpFOp/GrX/2Kd1pwu90477zzZEoHwLcsOeVcf0RsOjo6ZAWJe/q+tLlQ5hVjxcLBpAeeeuopOJ1OhEIh+Hw++Hw+vPfee2VNAlDQdyHuzxRmsn//fsyePRs1NTWIx+NwOBxQqVS46qqrOJmgfUIkVZ0P+tlstlic85t2OdSLkEqO0Nqnn72RYNEYOOmRGD54fwPCwVAxo9Dvh9PpxIYNGzgH+k8LBYt8qdsJFr00Mp1/+umnMJlMCAaDfPAffvghJzmiib0cJ9CeJlhioUaxQCq1JKBNir5HQkLP3/lk8tBDD/F2OtFoFAaDAcOGDeMkS1Tura2tFVcACno/PvjgA2i1WsTjcVitVlgsFqxfv57rAZJZMWW8XGPrbBUmi1a5LFhEKkk+RZchyfqECRNgMpmQSCSgVqtx7bXXKvGRCroFRHSodAIA3HnnnVDVFBMsgsEg9Ho9zjrrLN51gDEm22fa2tq4/NAexV2A37TKyUsFpDKlUgUiLyCC0hsJFkEcfyGXx+WXXgaLyYxYLAaj0YjJkycjl8tx9ys9c1fGIPKlbiFYNKF0MUobzefzuP7662E0GuH1emG1WnHdddfxkgL0e4zJo/t7Ej1NsGi+6Dt///vf8fbbb8uyEY4GYsqiZeuee+5BbW0t/H4/gsEgtFothg0bhq+//lqm2HO5HMBQbFzJADDwef13m09XF6SCvgFaq7QmKPg6m83ytUclB/x+P3Q6Ha688koe91Tp8ZMMFQoFvPDCC/jiiy9kCr/S48tms3jrrbeg0+kQDodhs9ngdrvx3nvvyfrDiRscPVc59J+C6oa4kdOfJUmClC+AFSSAAdl0pqjbszn86Y4F0Gt1qItEEfD50b9/f5xzzjnYv38/30dEcvPv7kv7d66QRzafwx1/WoA9+/Z+q+dntROsY0GMCxcTxjZt2gSVSsXr2FmtVh4/yRiTlUc6VjhTjxIsMT5iy5Yt8Hg8cLlc3D342muv8e+Jlpty9drraYKVzWZlrpPGxkbceuutvG9aVwWMzLKSJOHw4cO44447eEXeeDwOl8uF4cOH49ChQ5CkYsHHfD6PfDYHKV/gBEvMgjiShUshWCcWxLhHWtsdHR187T399NO8ZVN9fT10Oh3eeecdMMaqgmCJOiMQCOCBBx7gB7ZqCCKnub3iiitgNBp5PMyFF16IQqEgc7G2t7fLrPfVQBAVVBYUViKGjTDGAAZI+QInV5AY5s+dB4vBiJDPj8a6BGoH1GDUyDOwdetWHmskEquj7T98DwfDgUMH8f997//hjbfe5G540SXZmwmWeECj8QDAvn37cOmll0Kn0/FC37feeivnCmKwf0UJFlAKeJ01axav6eTz+TBx4kR+PfHkRsqlqya4453gniRYYtBvoVDAsGHDMH/+/C7Hl4nfBUquiKamJtx6663QarVwOBzclDlo0CC0tLRw9yKdcnKZLF/wFIR7pPlVCNaJBTFriNYtbfaFQgFnn302dDod4vE4amtrcf3113N5KYd8HgtEYDKZDBKJBFasWIF8Pl81hXZJ973//vswGAyIxWLweDwwGAx45ZVX+OYEgKeCizqm0uNXUFmI+xPFTbW0tIAVJJlnYu7sOfC43LBZrHDaHTDrDTht+A/x2eZP+XdoLxFjfo92X0kquge3bt+GSCyKZ59/jo+Hyin1doLFGPtWFxXaH9evXw+j0YhYLAa73Y5IJIKvvvqKH4rIlVpxgtXW1oa9e/ciEolwt5bBYMBLL73EFw+xQjF4rK/EYInWgbPOOgu33nprl10Y4gkdKFoCDx8+zF/w7373O27JCgaDMJvNaGxs5LW00skUCrk8NyHTR7SqyeZDIVgnHMTgTTHl+8knn4Rer0c4HEYgEIDFYsEXX3zBixdWetyMyV0oDQ0NePTRR7mCPJqOKidI1q6++mrodDpZkVaqe9e5H6n4XApOXJDup7VAJHz/vq85uZozazbMRhOC/gD8Xh+8blZ3cz0AACAASURBVA/cdgc+3lhsMi56S2ivo2SyfweRYO36ajfC0Qheff01nnBF7rS+QLCoUjuNRwzLGT9+PPR6PTweD1QqFR544AH+HNxdW0mCRcp6/vz5UKlUqK+vh0ajwciRI0uZCsKDiT7RvmDBYqyUqZHP5zFu3DhMmzaty0G4YsYhzaW4ODOZDKZMmQK9Xg+3283Z9uDBg4uVer/x0be3tgGSPK33SPdXCNaJB1LCtG7JzTx8+HAYjUY0NDTg5JNPxrx583isQrnKMHRl7PSJRqNYvHixTFdVA4jwbd++HS6XC16vF4lEAiqVCitWrABQOvCIsZaKi1CBaKggl3JHRwfAgEwqjdv/OBNGvQGhQBAelxt+rw+hQBDbt24DJCarUUcyTvvI0daXSLD27NsLk8WMN956k8s+uS57O8ESDR3kVSL9ART7ig4YMADRaBQ2mw1Dhw5Fa2urrCZWRQlWoVCs5dTQ0ACPxwO3240BAwbgH//4B59E+pCb8D9NgzzeBdyTBAso1aSiqrqzZs3i1zvW+Ejp0rXFeaGA5Pb2dkydOhUajQZOpxOBQAAajQajRo3Cm6+/wf31uUxWpsyP5IJQCNaJBdEdT+saAO69916o1Wr4fD5eq27Pnj2yuItqIFiiizMcDuORRx7hcWTVMD6SMTpkzZw5EwMGDOCxWEOHDpXVxROtb4oFS4FoJRKtm20trZh52x9h0OnhcbkRCgRhNpoQ8Pmx84svkc/mip6Lb/ZV6nsrHtSPdl8xBmv3nq9gsVnxymuvyirE0xrtzQRL5B+i65TG0dbWhlGjRsFmsyEcDqOmpgZ///vfeQhOxQkWADz66KMwGo08Gn/06NHczChOOL14MtmVQ0H2NMHK5XJc2edyOVx++eW47777SjFSxxgfAE6kgFIzT7oPveT29nZMnjwZer0ewWAQoVAIOp0OQwcPwbqXXgYYwAqSLAvkSGZihWCdWBBbbCSTSWSzWezduxcejwc+nw9+vx92ux333nsvP7mKsl3p8YuBqQMHDsTSpUt5vEk1WIBojoDiQWjnzp1oaGiAXq9HIBCAWq3GwoULueuFMfkmU+nxK6jw+mFAa3MLUh1JrsOz6Qyuvup/oVGpEfD5EYtE4XV7kIjXYctnn6O1uYV7LsTGzyKZoBiqf3dfbiBhEppbW5BoqMfGjzfxvQZAn7BgHemZxT0+m81i8eLF0Gg0CAaDsFgsmDBhQvVkEUqShFGjRsFut8Pj8cBms+Guu+761mTSSwK6ZsLszkklogL0DMGiZ6HUd5FIHmt8dGrpnI1I1e7pWhQIf9ttt2HAgAEIBoOIxWIwGYyIhMJ46okneZkGxv59IUiFYJ1YENc/KY0bbrgBGo0GoVAIXq8XgwYNQnNzM3cLkHKtBgIAlILDt27dynVJtfT6I4ufaNG/9957odPpEAgEuCVLLLEixm1WevwKKgvKAG9vbYOUL6ClqRmXX3oZtGoNAj4/GhL1GNCvPwY1DsSe3V/JMsbzWXm2m2gZPZYVi9ZrrpDnhUapDhZjjB/sezvBko0d8uxdIkL79u1DIpHgPVhramrwzjvvyDrO9CjBIsVLylrMCHz22Weh0Wh4lltDQwMOHz5c9krPR1tIPUmwAHkbG/HkL1ZdP54FwhiTtSuZNWsWNBoN7HY7gv4AAj4/jHoDHly4iN+/qanpW4GP2WwWEhgKTOKtESr9fhR0PzofgIjES5KEf/7znwgEAnA6nQgGg1Cr1Vi5cqWMyGSzWf7nSj8LUOqVSA1oxf+rhvHRn+mAVSgUcNppp8ncDr///e9lmUzVUGJCQXnWB/XCow2efmazWU6YCrk8Dh04iLGjx8BmsSIejcHv9UGn0WL40GH4cscXACu6DilzHNJ3H5cYg9XW0c4P3J3bvvV2gnUskEFk1qxZMBgMcLlccDqdOPPMM2VyStZ9sfm7SKS+M8GijZk+YqB6Pp/HFVdcAavVimg0Cq1Wiz/+8Y9ddo+VAz1NsKiGCZ1MyS3XXWUoyKdOL1SSJCSTSTz88MPFgFq3B26nC7FIFHqtDvPnz8fevXsBFM3Eoosll8shLxU4WBVsUAq6H51jJBkrtndpb2/HZZddxvuE2mw2TJo0iVtX2traZPJSDSSgvb0djJUsxfR8JBOVHh9jJZIlVph/9NFHYbFYuBXL6/Xi7bfflv1eNRBEBT2/Nug9k1yRsYIxxknT7p27MLChETqNFqFAEDaLFXqtDhPPObeYwPTN74EByfaOIsnqBoKVzefQkUqCAUhnM5w8kEelrxMs4jSbN2+Gz+eD2+1GfX09rFYrNmzYAKB08BTrlZHBo/M7/k4WLDHTTQzSfP/992E0GhEOh+HxeOD1evHpp5/yQVfDBPY0waLvkcXuq6++4r9z8ODBblkAR3qxyWQSq1atgsVkRtAfgMflhtftQU1NDSZPnszH09bWJiNZ2XwO7ckOJNMpxUXYR9GZYNHJa926ddBqtbyMgMViwbp16/jaEDNuaK1V+llo3WezWR5XApSsWpUe35FAWbyTJk2Cw+GAz+fjp2LSFWJvQwV9F7QHSlKxEKhYC43qGD7/7HNwO11wO10I+gOIhiPof0o/TJl8PVqamnkBaQCyVi7HOy5JkpDOZsAAfL51CzK54j2oiDXpBFE39DWCJe6N1157LfR6PeLxOPr3749rr70WAHjZJLEAqeihE9/Hf0ywaCJyuRxfHFRxfMqUKVCpVEgkEtDpdLjiiiv4Narh9EsPTJMD9Ewld3JbNDc347LLLsO9994rY7jHuwCI1NK8UlA9ALzz1tuIhiNwOZwI+gOw2+1QqVQ4++yzef9CWR2efO6IPncFfQed4wbosEOZvj6fD0ajEVdffTUYK9XeIcVQzmbKxwIp5Fwuh6uvvhovvvgiJ4zVYiUX40zJig0A69atg9FoRDQahdPphF6vxzPPPMN1UbWMX0HPgayVFNNEa4T2xwXz70A4GMKAfv0R8PkxqHEg9FodJl97HTKpNA9mp8K6tKccbxYt6YdUJo29X+/Dj0aOwLvvv8eJXC6XQ1NTU58nWOTST6VS2LhxI0wmE+x2O7xeL/x+P7Zs2cIbzNO8dA6VOi6C1TmIjrB582aEw2GEw2G43W7YbDa8+uqr/EWUK0uwKwupJwkWUDpdZDIZDB8+HDfffLNMiI5XQInAiTXFGCvGZUn5Avbt2Yv6ugSC/gDq6up4odeGhgasXbuWn/Y7OjooPpKbhSv9fhR0P0SCRcHg99xzD0466SRuTQkGg9i2bRtX+FSDh9ZWtdTBopM/AFitVtx///2yDNtqGJ942if9SHP529/+FiaTibfjOPXUU3HgwAHerkhB3wZ9WltbZckNra2t+O1vfwur2QKDRotBjQMR8Plx0vd/gL/cdz8PZG86dLj4Z5SsJuQ2P54kMdGCtffrfdAbDbwOlkgc+jrBAoreIHovP/vZz6DRaBCPx2E2m/HHP/4RAHg8tbgHUzHm4yJYndk3nXbvvvtuqNVqJBIJ1NbW4ic/+QkYY7zEQLUUA+xpgiXGUgDAyJEjMWPGDL4oj3f8okuWTu0Uh8VYsTN4IZdHR1s7JowbD41GA6/Xi8GDB0On08HtdmPRokX8xCOBgaHYRT2drQ4ro4LuhUiwAGDDhg1wOp28SK3ZbMb8+fP5mhKVhdi2qavtnnoShUKBr926ujqsWLGC/58oh5UcHylcsW4O6cl9+/YhFovx+nX9+/fHjBkzwFh5OlkoqCzE8BFK0vj4449xwQUXYMCAAfA6XQh4vPB5vNCqNXjz9Td4fFU+m+Nt0ADwoqKi6/94xkVB7rv3fAVfwI/1r77CyQQd7Ps6waK5BIoE9sUXX4ROp4PP5+MFg1taWsBY0aAh7undEuTOWIm10WLZuXMnRo8eDavVCp/PB6vVijVr1vBB0uRWQ4xBOVyEjJWCcSdMmICZM2fyVNnjHb9oChazN3n9EwZ8vXcfP/FMmzYN/fv3h8/nQzQahdfrRf/+/TF58uTiQgFwuLlJCXLvwxAJVj6fxwUXXACz2Qyn04lIJILhw4fL1qdYwoE2AZLlSj9LKpXiG1QsFsODDz7IlVi1EBSxVAMFCAPgroUVK1bgv//7v7l1WaVS4csvv+yWLGMF1Y1MJiMr3bN27VqEw2GcdNJJCAaDiAZDMOsNSERj+PyTzUgnU8imM5DyBV48moiMSEqAkiXru0C0YG3ZthVevw/rXlkPxkpeq77SKudY74fGQhXcx48fD7vdDr/fD4PBgMWLF8v0If0+7cvHRbBEJUvZgStXroRWq0VdXR1cLheGDBnCB9h5cis9geVwEdJiB4BRo0bhlltuAWOsW1wYNBbRpUCKWZIk3m29kMsXq/sWCli6dCn0ej3sdjui0SiCwSD0ej3GjRuH1954HQxArpBHNl95F4uC7odIsFasWAGLxQKLxYKBAwdCq9Xi6aef5gpDVHiHDx/mcttdMYTHCyIqQLHQKCm7auqVKLoYstksd8uSRSudTmPSpEnQ6/WIRqMwGo084L3S41fQsxAtxH/84x9hMplgs9kQi8WKNZf6D8DPzjsf6fYOXkCUQ2K8zyytNbre8SZ5iBasg4cPwe504J8ffYj29nZZseq+TrBI14nz+5e//IVnALtcLowePVpW2Z6euUsWLHIX5aUCJDDZL4rmM2ouDAace/Y50Gm0SMTroNFosGjRIh4oJg68GuIMykGwSNlnMhmMGjUKU6dO5cLV088nZkGkUin+97Vr12LYsGE45ZRTEI/HMXDgQBiNRlgsFixZsoTPBwkqPS9QJIuif7lzdpn47JV+vyc6APnJSgyGPXToECKRCEwmE+rq6lBbW4spU6bwtVINCu5YoDXZ1NSESCSCe++9l7vfesP4aaxvvfUWLBYLYrEYEokEampqcP/99/N3JZbDEa1glR5/X0fnwsudkSvkS9Z+FEsZUJJQgZUslrQBix1M6ND9xRdf4KKLLkK/fv0QCoUQDodhs9mgVqsxZ86cYpYaKxWhFVsrleP5t3+xA3qjAa+89iqSySRfs+Ke0FcJViaXlcUk5/N5NDc3I5FIwOl0Ih6PQ6VS4d133y2+DyqPUZCKYMdJsIjN0qQ8t/ZZhIMhOO0O+DxFH+Unn3zCX4CoHKphAnuaYIkmxkKhgCeffBJvvPFG2Z6fgoApNZyeU5Ik7N69G5deeinUajXcbjecTicaGxuh0Whw5ZVX8urdra2taG9vl7ljgFJRvM7CQ++6Gt7viQ6xEB4p9ubmZmSzWfzmN7/hAe1OpxMDBw7E5s2buXWqGlz4xwKVM8hms/jDH/7AFR0FDFd6fMcCyY8kSbj55puh0+lgs9ngdrvh8Xjw2WefyWJdvpXGXwXP0JdxLILFUMy8zuZz/N/yUgG5Qh7prLxvJ8kVkatCoYAnnngCXq8XtbW1GDZsGHw+H1QqFYLBIJ555hkeVyUejsu5riUwpLMZLF7yN+zZt5fvbWLR3L5MsLL5HCfLEkpJZTNmzIBWq4XH44HRaMQll1xS3PPyhWJ2p8RklsXvTLCIaNBkXXLRxdCo1Gisb4C6VoWbbrpJ5pKQJEn2Yio9gT1NsMQGkvR3suSVI4ZFtDICxVMQWSdoTAsWLED//v2RSCTgcDjgdrvhcDhQV1eH9evXyywCJEy0qZHrWHzGakpiONFBCpnkjt7VqlWrYLFY4HA4EIvFUFtbi2XLlgEo1airlhimo0GMByPCARTru1V6bF0BnYgpq3jYsGHwer0IBAKwWCy47LLLkEwmuVuRdAbFslZ6/H0dXSFYBVZqKVNgksyLR7qTPAEkW4cPH8bUqVOh0+ng8XgQCATg8XigVqsxZswYfPnll7KyR62trVyvlrMLCllwWtvbkMqkZc/CWN+v5F5gEidZeanA3fqffvopXC4XfD4frxv48ccfF9sTZXM8Tk58ZpqL/4hgkdCn02ns2LEDAZ8fVrMFjfUNMBtN2Lhxo8ykKE5uNZyQe5pgiQSETtaiJainn0+MdSMLFp3uSWmn02m8++67SCQSMJvNCIfD8Hq9cLlcsFgsuOmmm/hJiuJdSFGIRKqzEJVLCSg4OkTLZTqdxqFDh9DY2AiPx4NYLAaNRoNf/OIXsuy2aolhOhZItkQCQoUQKz22roCsimTxff7552EymeDz+XgbnYULFwIAr6gv1q2r9Pj7Oo5FsMg9KIGV2ot9Q66y+RzP8k6n0/ww8OKLL2LIkCE83T8ajcLlcsFkMmHatGloa2vj8trW1sZdibROOtc+7EmQdS4vFdDa3iaTNbEFXF8lWAzgRbfzUqnmHgBcccUVfL80GAzF6gBCXBxV0hf3wv+YYDFWKlQ4e/ZsXjncqDfgFxdfAqBU6VSMG6CNvtITWI4YLDqdinNAFqByPCPdS4zHorGlUimeXrp3715ccsklqKmpwaBBgxAMBhEIBFBbW4uRI0fiueeek31PtM6RwIj3UDaAykMsEkpWnmuvvRa1tbWIxWJwuVwIBALYtWvXtxR3b3h/na2ptDZ7iwWO3g0A7pKfNm0aVCoVIpEItyZv2rRJFpKhxGBVBzpn5NK7zOfzPH2fNtWOjg7cfPPNUKlUCAQC8Pv9PDQjHA5j+fLl/J0WCgVOoslqQvcspxWLrDdkraN/p/2vrxMsCUxmwWKsZLR49dVXYTQaeaWEgQMH4uD+A0h1JEHNtsVnFtcC/fsxCRbdrKmpCYlEAl63hzehfO2VV2W/QxcXA/UqPoFlIFjt7e1cIT7++OP48MMPwRg7rjTarkJc0LRgyU1JWWLi82cyGfz1r3+FRqPhwc9+vx9+vx82mw033ngjP1F1zpLgDaOlUiPQSr/fEx2iCw0Ali1bBpVKhVgsBovFApVKhYcffpivU9oc6H1WevzHgiifr7/+OrfykHxWenzHQqFQQHNzsyzwOZvN4vTTT4fNZkMikYBer8fo0aNlGw/poEqPX0HJXUtyJh48yaW7bt06NDY2QqfTIRaLQafTwev1wmAwYNKkSTh48KBMBsVwjGw2yw/C4nXLEsMLhmQ6hYUPLsL+gwdknicaH/3siwQrlUlzi2QqU+q9SAkHY8aMgdvtRigUglqtxtKHHynGXhUkWfkM4gTfKQYLAJYuXQqNRoNwMASHzY6zJpyJfDYnC4oGwE+aJwrByufzXGgoxuKGG24o2/OTC080U9PLpbgcKlBKhK9QKGDbtm0455xzYDQaodVqUV9fD5/PB41GgzPPPBMrV67k5SFEIaP3S9ep9PtVUHzXTU1N+OSTTxAMBuFwOLg7+IorrgAA7N+/HwD4Rk9ro9JjPxbItVYoFJBIJPDXv/6VZ0r2hvHTfJN+oL6i69evh81mg91uR319Pf7rv/4L8+fP5/E74uatoHIQrYqMMVmfvqamJjQ1NeGaa67hB9ZoNIpQKASPxwOn04lFixahvb2dh17k83ke40QB1eKeS598Pl8eNz6AHV9+AZPFjBdffkm251NcWF8mWOlshruBU5k03+dJbhcvXgy3283dhBPGje/eIHfaoCdMmACr1YpwMASr2YI7F/yJl/AXW2zQyyF3UqUnsKcJlmjNIcY7e/ZsAOWJczmSy0dMr6V/o7+3tLTwuSgUCliwYAGvkxUMBhEKhaDX62GxWHDdddfh66+/5icrmpfOQe8KKgex990555zD3RPk/j1w4AB/dxQMX02trLryfLRe/X4/li5dytdxpcfWFZAOFWvXkct++vTpsFqtcLvdvD7W6tWrASjkqlpAewcRLSJKBw8exJo1axCJRKDX61FXV4e6ujpYrVZotVqcddZZ2Lp1q8zd19rayq8pNm3O5UqGis4eoZ5+vlQmjf0HD8Dr9+Gtd94GY6U9RUyg6qsEi0pvUAwWcReKV21vb0dDQwPMZjPq6upg0Omx/uV1vIOK+Mw0FzKCVWASb5sioeRyIFOhJEl48803YbPZiorbH0DA50eyvYNH0VczyuEiFBfNmDFjcOONNwKojjpgxwJQrNFzwQUXQK1Ww2q1or6+Hl6vFyqV6v9n77zDo6yyP86zP/fZZ1cBIT2TMimTTDKTSqhKiYIoTaWJIiqirg2Rta6grAqiCBbKorLKAoqiYFnc1bWsgIKK9CKkESAJPT2ZmUx5P78/4rm5ExRY0Q2BeZ/n+ySZzPu+t5xz7rnnnHsOcXFx/O1vf/ML5NdTcejKnX7JZy3dv9YOUZ70QHY9dYrEIz322GOEhoaSlJRERkYGQUFBrFy50u/EZ2s8pKDLo86dO/Pqq69iGE2CuqXb93Ogx/UMGTKEkJAQMjMzSUpKwmazUVJS4sdjcHxMZGvJY3amQyxF+jqhpxkS5Uenw+3btzN27Fg6dOiA1Wr1s/5nZmYyb948v9jIH+PBloZqC3Dw8CHiEuJVqRw9lOBsV7COOzXabHx8Ph9Tp04lJCSErKwsoiJN3HzTWHWMtHnKIkDRk8/na7Rg6YFe0nlZSA3D4KGHHsJkMpGamkpEWDiTH5nUGEnva3lCORVCEsaBX+cUoS4Mc3NzVS3C1hBDoZuDX331VXJycggKCiIlJYXs7Gy6dOlCx44d6dOnD//+978VA+muSSEsGUMRUi3dt7MB4H9wQk8kWlZWBjSmZAgNDSUtLY2MjAzatWvH008/7Reo2ly4txYFS7f4ZGVlsXTpUqDppFNLt+/n9kmwefNm0tPTycjIUAHRw4cPV24kPWdZfX2936LXWvt/JkEuCfWQTTHgF/5iGAZHjhxhypQpxMXFERYWRlpaGgkJCURHRxMWFsatt97Kjh07lAVIwinOZAWr3ungaPkxEpMsfLVurVr79faf6wpWXl6eOk1oT7WREBdPYX4BDU6XUq50l65+aMHPRSjDI18GKCoqUv7k1NRUzDGxfL9jZ2NGU+PMZ/BfW8ESopJ7L7nkEqZOnXrGnKI8GWRsxIVRUFDAvffeq2KzIiIiGuf9h8zD9957L3v27FF11iTo3eVy+Zm5/5e5XM5miHJVVVWlaK+urk65/nbs2EFKSoo6qRQbG8vAgQOVcNMFe2tUsISPABISEnjppZcA/A5btDbo8wGwaNEiIiIiSE5OJjk5mZCQECZNmqRksfDSmZjIubXD5XKpnGqiXOjhFBKD+tprr6kM/FarVZWJM5lM9O7dm0WLFqln6KWSmitXZ8qcNbdgRcVEKwtWc8vVuaxgSR9uuummxvKAmVl0aH8hz0x/uvEkobbGC63ooTRtfBgqi6nX8Cmikwe/8MILqtyK2WxmzOjrmyp9ByxYuN1uKisrMYzGxXDEiBE888wzZ0wesJNBcmbJJcrWhx9+yBVXXKEKBGdkZDSaSKOiiI6O5vHHH/fLTSSXfuKmtSSDPJMhY6mfCPV6vdTW1nL06FEGDBigXExynPjQoUP4fD7q6ur8BPuZINB+DkSpvOyyy3jppZdULFlrUBB/ak4FImsfe+wx2rVrR05OjioyK8qkWLOE3/TfW7ovrR0/tunQy8V8+umn9OvXj6CgIKxWK+np6aSkpBAbG4vZbObBBx9k79696j7DaErBINaNM5H/VJswOHz0CF27d+OL1Y1ZASS+8cCBA+e8gmUYBtXV1Xz11VeEhISQbEkiIy2dLjmdqa2u8TvQJ/fIJsjn8zXGYEkODI/Pq4IyAY4cOULv3r1JSEjAbrcTHh7Ovz78J4bX1xh/5W35AToVQvo1FSydWKBx16MnXm3p/p8MzXdX0jen00llZSUPPPAAKSkpREREEB8fT0pKCunp6cTHx2O1WlmyZIk6gixWFq/Xq4JBW7p/ZwNkbsRiKPw5bNgwLrzwQrp3705ycjIdO3Zk9erVSiHRmf5MEGY/t++yUG3ZskUlxG3NQeDNF13Z4AwePJiIiAhycnJISkoiMTGRjz76CED1u7q6Ws1la53TMwn4DFwOJ25XA25Xg4qtWbNqNaOvvY6YqGhioqKxJiWTZrOTbEkiLCSUKwcPYcP674BGa6psZvQDRnpt3jMNSsF3N+DD4Mixo43Z6rWExaJYncsKlijODQ0NDBw4kMjwCLp16UpwxyDeWvqmkkW6x0DvYxtRriSKXh+Y999/n/DwcDp37ozJZKJbt2446uobjylqmUzPZPwvLFgS1NY8SWBrcBHW1NSofjudTj9rltBBYWEht9xyCyaTSSXPi46OJicnh4iICLp168aiRYvU2EjS04qKiuMWkzN1R3emQne/GkZT+aU77rhD5dyx2+107NiROXPmqLkTpfdsGWOJRZKj7a1h83KiOVUxMD9sxpxOJ0ePHsVut5OQkEBiYiIWi4UuXbrw3Xff+ckwiRc6W+b2fzXWPwYMcDmcKuRl04aN3HXHnViTkok2RZEQF0+nrGxsKamEBAWTk92JRQv/Dgb4PF4/S6LMR319/XHJQ880KPpzOlR4kNfwKY+Gz+ejsrLynFew5G+3280rr7xCtCkKe6qNiLBwRgwbrtZ8kUdiwZJ7VZC7qrP0w8Nqamq4/vrriYqKwm63ExUVxQsvvNAYOf9DqviABaspk7tosvKu1rII6Fq3KEciIETw6+byAQMGEBMTQ1xcHKmpqaSnp6skbBdddBHvvvuu3+mngIJ1+vMj9CVJKqdPn67cgp06daJt27Y89NBDfuWRGhoaTmrlaQ3j39z83tyd3dLt+znQ6V8WYunnN998g9lsJjExkaysLBVce+zYMVVAWORMwAX/3431j8Hr9uBpcLNr5/dMfmQSKclWYqKiSbenYU1KxpaSSmR4BCnJVp5+ajrVlVVq7fN5mhQFPUmo8KsuB1t6HH5qXKRUjLPB1ViX0GjKZC7KwrmsYEkMpMvlorCwkN49exEXaybZkkSyJYlVq1ap+RV5pKe5aGMYjbFXenCfy+Vi3759xMTEqARbNpuNsrIyaqtrwAC3qyGQpqHZfXo9qtYS5C2uJF1wy3jpzKVb6ZYtW8Yll1xCSEiIUrSysrKIUd5kKAAAIABJREFUj48nLCyM/v37s2LFCj9CDShYPx96oPeMGTMICwvDbrero+EjRow4TmCJcPwpnmgt4y+KpR7crdNtS7fv5+C4Rf6HdBtiOfj73/+uKivYbDZiYmLo27evivWUDU9L96M14GTypzC/gL88NoVUawohQcFYEhLJysjElpJKTFQ05phYJoy/h+KiPcp96HY1NMYgG01KiL4RkE2Avhk40+ZL0d4PB9zEiiX/l1Pg57qC1Xwe77z9DsJDw+iUlU1YSCiTJ09WaS30E7+ylraRSHixSsnPSX9+hKhIExlp6USEhTNxwr2q/k6D06W+29IDdCqE9GsqWGIOFKXq1ltv5eWXX241pwhPBhkPITQhotLSUhYtWkSPHj0ICQkhJiaG9PR0bDYb0dHRREVF0a9fP1asWEF5ebl6RkVFhSI+PbePzIW+c5CDAnriNhlzlaftJMVaT4ZfmkF/zvvF6iSxa7rA0s3Nr776KhdeeCEpKSmkpaURExPDFVdcQWFhIdBk0dBTh7Q0/fwS/Cu08+CDD7Jq1SpFC2cDf0nf9IoQXq+Xl156ifbt25Oenq5KrwwYMEApmUIzOp3IeMiuuzWMz8n4QxJgN4e4sxoHwVDKjwpd8foaP//hfz6Ptym0xYDvvl3PA/fdj9VqJSYmBrPZTGZmJjabTeWTGz58OIWFhSopqGEYKvzhRBuY1gDdglVRVckVAwewcfOm4xSKs13BOhn0k/Iej4dt27YRGRmpDAqdsrIp3V/SaM38wd0s9IbPoI1o4l63B2e9A3wGRw8fISe7se6gLSWVhLh4/vPZ54p45WGBNA3+C6DL5eKyyy5j2rRprcaCdSrjJykZZBylzzU1NRQXF/PEE0/QrVs3wsPDiY2NpUuXLiojfFRUFEOHDmXOnDkcPnwYn8+n3JDCgLIg6Iyn5/rR50QEnGpfK1ew/ITXD5cIcBlzh8PB7NmziYuLIyUlBbvdTlxcHOnp6Wzfvt1vDOX7IiRbmn5OFzI+TqeTzMxMXn31VSXwWoOAPhnEeiWXzGFxcTEzZ86kQ4cO2O12lSW8e/fuyvVbXV3t54bSeVMy4Ld0/06Gk/GHy93QGHzt9dDgceP2epr0KAzl4mtwunDU1eOoq28MVteULjEIYMDnn37GTTfcqILVzWYzSUlJpKamEh8fT2JiIqNGjVKHC6qrq/1cZq2lBuZJx11c7g0uKqoqiTBFsvbrdTgcDr98Tue6giWyVfisrq6OoUOHEh0d3SiHY80sePkVRWdioBLlvg0+Q30o2tc7y96m44UdyEzPINoUxeCBg5RGJj8JxGCpv+X3hoYG+vTpw5QpU874IMf/BnqfdTeofAaNte5mzZqF1Wqlffv2WK1WunTpQmxsLNHR0URERNCnTx9mzJjB/v37gcYYhWPHjqnnCyHL4iC+b7EG6pYsiXs4WxQsiZnSx1b6vmDBAkJDQ7FaraSkpBAfH09aWho7duxQY1FbW6tozuFwtJpSOKdCe8KbqampLFiwQNFKa7DQnEr/dCuWPv81NTWMHz+ekJAQzGYzaWlppKamcskll6hFsKKigvr6ejVO4p4Qd2NL9+9kOBULlm6cEkXL2eBqLM4rC1ozGF4fznoHblcDXreHVf/5gptvGos91aZiaLIzs0hPTychIYGoqCgGDRrEBx98oE7/iRta+Ejk0pmWNPRnjbt4CnxeKqurCA0P46t1a/3iiEQ2ncsKlt5WkTfvvPMOwcHBpKenY46JZfDAQbgcTr/DEqJkteEHn7LhbQz4czmcjBg2nIS4eNJsdsJCQnnlpZfVDfpD3K4z3wXxv4jB0o9oDho0iGnTpqkFsqX7f7rQd9dOp9OvTIu4KZxOp3IDHjx4kGnTpmGz2fjDH/6A3W4nPT2drl27kpqaSnBwMDabjUceeYTdu3er8RbFSh//5kwr46/HrrR2BUtXhKTvdXV1SrjPmjVLxVx17tyZ8PBwrFYrW7ZsARqtVbIg6IqH7lptzdB5Mjc3l7/97W9+udtaun2/VP/cbrfKWN9c0brnnnuIiooiOTmZtLQ0wsPDycnJYc+ePUCj212vbacrbC3dv5P2/xR4RJQqcRfK+gU/BJL/4BJscLoarVU/GA3qampZ/vY7XNH/csJCQjFFRGKKiMSeaqNzpxzCQkK54IILGDVqFF988cVxVnO9gkJzxepscRF6fF72l5aQlpHOp59/pmhH6iae6wqWXnvX6XRSXV1NVVUVWVlZJCYmKoX9i8//o6xYnga30pHaiNXKWe8AAzZ+t4GYqGjSbHbMMbFkZWRSVlKqCFcSjPKDn7GlB+BUCEkEGPw6pwj1oNPevXszefJkNTkt3f/TRfMTgTJOzTV7YUBRDCoqKpg3bx7Z2dmYTCZiYmJUNQCLxUJkZCTx8fGMHDmSf/zjH2p+mtdfczgcyn0o46+brlt6fH4p+pTFVRTa6upq7rvvPoKDg1VsiMlkwmq1KsuVpGLQY0JE2OkB4a0Z+jynp6ezYMGCs07B0pPz6q7iuro6VWFh4sSJhIWFkZ6eTnJyMnFxcXTt2pX//Oc/aixEDomSfjaMDzRuVKX2oiz2DodD9VEvpg2we/dunnrqKXr16kVQUBBJSUmqRmfXrl0JDg4mIiKCm266iR07dqgM3HV1der0t1gF9XhQef7ZMK56DNa+kv0kWZP5/Iv/qP6JPD7XFSyhLxkPoblHHnmkkR/taYQGh3Dn7XcoPUqULAx+iMH6wTKFAX9+6GHCQ8Owp9oICQrmT/dOVMHtenoGScrW0gNwKoSkE8yvoWBJThqfz0fv3r2ZMmXKWbPA6Zf8LTtsOTHT0NCgFAPDaIwNkQD2I0eOMHv2bPr27avKgWRmZpKRkUFaWhrJyclERkbSo0cP5s2bR2lpqRKockl8kV7sVpSIlh6fXwLSj+rqarxeL/v27eOWW25Rrta4uDgVc1VQUKBcgjI2onBIgLy+ULd0336JsZGFzmQysWTJEiX0WoOF5mTQlSvDMPwULOEzh8NBbW0tkyZN4rzzziMnJwe73Y7ZbCY1NZWlS5diGE2LgVytodj8yaCHBchC39yqAI3K5SeffMJtt92G1WolLCyMmJgYMjMzyczMJDU1ldDQUGJiYrjnnnvYvHmzcvnpYyb8pF/N3YGt3T2o98Ht9VB6oIyomGi+WreW2tpav1OQ57qCJbKnOY1s3ryZ2NhYUq0pJMTFk5GWzr7ivY1hUxraiFnL5/FSVlJKVkYmloRG01dSooW1X36lfIrqaKrHG1CwtHv0UwazZ8/m448/PmuC3EWxaV78U/4nlz4eOlPK59XV1bz++utce+21mEwmIiIisFgsJCcnY7PZiIuLIzg4GLvdzoQJE1i9erVaXIQRJYu5YRhqTlt6fE4XIuRra2sxDIOPPvpI7bJTU1NV8e1+/fqxd+9eDMNQdQh1xVbGWxdwZ4MCKnxVX1/PXXfdpeiiNdci1KELbl2O6LwlC1V9fT0vvPACHTt2xGazqWSkISEhPPTQQ8plL6V1zgb5o9OwvsmSTcbu3buZO3eu2sCFhoaqGMVOnToRGRmpcsY98cQT5OfnYxjGcW5YPRVKbW2tKqqu06Hf6eWzxEVoAHWOev7yxOPsLy3xswQ2l+XnooKlG0rEUyB8ev311yvlKjY6hnlz5vrFAXrdnsYgd/FZv7fiXWW9Skm2clnffsrsJaVxVIR8IMgdw/BXMpq7086GBU76oi/iotjI/3TzvS4E9aBrfVw+/fRT7r77biwWCyaTCbPZrOp8WSwWwsPDsVgsXHLJJcyfP5+NGzeqcZdg8NbAnKcCWRQ9Hg8zZswgNjZW5Z+z2+0EBwczdOhQysvL/U4HCrMLTTbPYSbz09L9O100D7aVz1tLEPfJIAt684LO0GhBEF4SpcnhcLB06VKioqJISkoiLS2NpKQkIiIiGDZsmF/W95bu2y85//qCXVlZyfvvv8/48eNVuhKTyURqaiqdOnUiJSWFqKgolZPv1Vdf5eDBg0ox0q1WulVcdwP+GI3pBxL077dGqDgyo7FcjiQclTHWU8fIz3NRwZJ5lkt3Fy5btozw0DDSbHaiTVEMGjCQBqdLGZ88DW7aSOyVBLeHBAXTJaczQR06smTR4qZcIlpOEb/TGv+DDp7oOtn9+s4EYOvWrSQkJJCfn+9HQPIsnTi8Xi/Tp0/n0ksvPY4oxPIgn+mp8kUw/hI7nNPt/5nwflHK9Fih6upqysrKeOKJJ8jNzSUoKAiTyUR6ejppaWkkJiZiNpsJDg7GYrEwevRo3nnnHQ4fPnxcG2T8m4+5btoV65sEE8Op1QqTS9ouP+V+ETz65/J93f0jgkUUTomXAVi3bh0DBgygQ4cOKsdVbGws4eHhPProoxw6dEg9U2///2IRbWn608fW6/X6jdup9L+l23+679etCLoFeeXKlfTo0QOz2UxycjIZGRlEREQQGxvLc88950fvQn/CC8IvzdvRnE/l0g+giOVH6P5U2i/vlwLI+tXcPar/Lelc5P6NGzfyl7/8hYsuuoiIiAiCg4NV6pJOnTpht9sJCwvDbDZz2223sXLlyl99fls7/Ukt4mMV5bi9TZZSnfZkbrzexgwCy958i6yMzBMectOVrttvv50xY8b4zfOZ0v//9n7pm8jii3tcpOpUxkbH8O+PPla6knIRVlVU8t2360m1ppCVkUlifAJ9evWmdH/J8QpWM/zaAyQL00/hVAZID87eunUriYmJ5OXl+VljdILQA6mfeeYZ+vbt68f4+iVBb5KTRt99/hIa+un2v6Xf35yQFWNrAd1lZWW89dZbjBw5EpPJRHBwMElJSWRlZZGdnU1CQgIRERHExcXRu3dv7r//fj7++GPKy8uVYtVcudFLkIjSK5fUXDwVC6NOP/rzfyzPkO5C0PstC5RY3+QZ+fn53HfffaSkpBAWFkZqairdu3cnIiKChIQEli1bplwVep4wPQD3TJ//XwIej8fvlJwsvKfS/5Zu/y/BP/I9Xbn2er3s2rWLq666ioiICMLDw+nWrRs2m4327dtz+eWX89lnn/kFb+u0aBiGsoiK1VnnIWm7jLfwgfBPc77+KUi+O51/ZP7q6uoUH+m536RdXq+XsrIy5s6dyyWXXEJ8fDxms5m4uDhsNhs9evQgMzOT0NBQ2rVrR48ePXjmmWfYunWr3zi15vn/td8v1isDVKkcoY3mNCgK1ltL3yQzPQOXw6mUMJFHyjKmKeC6giWK/v/KenW646/3Se+XWEGffPwJwkJCsSYlY4qI5OEHH/Lz8rURU9af7p1IeGgYyZYkQoKCeeC++5vcgHpW3P+xgnWy61Tu1wdl69atWCwW8vLy/BZJGUARJMLw06dPJzc31y8/kwx0c4EE8OGHH6rkj6fSvl+7/y39flFGZOyaH3fWLYxut5uNGzfy1FNPkZubS2hoKNHR0VgsFjIyMrDZbISFhdG2bVvi4+PJzc1l8uTJfPrpp0rR1RVhWVh0160I9v9m/IQRhS70otgSzC80ISeaRNnW3yV9Lykp4YUXXqBHjx6EhoaSlpZGXFwcSUlJREZGMmTIEHbu3Kna7XA4qKysVAJLni3xEmfy/J8u9E3LV199pXJ8iSXwTG//6b7f4/EoSymgclzpNPXMM88QHx9PZGQkKSkppKSkqKDuP/7xj3z55ZfHvVffCMiGsjlvNrdeSCiA8LIc5T9Z/w3DUAqTriTql8hon89HWVkZCxcu5NprryUqKgqz2UxCQgJJSUnYbDZSU1OJiYmhffv2hIeHc8stt/D5559TWVmp2t7Q0KDiGlsSZzz90Ziwdckbr3OsotyPPqBJnuoK1rI331IKlrynucKk09Btt93G6NGjFS3pa26L9/9nPFNXKnft/J7E+ARSkq0kJVrITM9gT2ERPo8Xn8dLGwlYT7enYU+1kWxJIt4cx9dr16mAdh3No+RPpiGeLmSB/Cmc7H6dODweD1u3biUpKYmCggJFSPqgGYa/BWvmzJlcdtllfhOiX16vV+WAamhoYODAgTz99NNql9bS/W/p9+vjpiumMo4VFRWKmXUrTUlJCR988AHXX3892dnZyoWYmZlJTk4OqampJCQkEBYWRnx8PJdeeimTJk1Sgrb5HOm7eLlOpViu3nbdtF1bW6uOdzenCaEh/URSQ0MDeXl5zJ49m27duhEUFITVasVut5OYmEhKSgoJCQlMmTJFPVcE3I8FQut9O5Pn/3QhfXS5XPTr149FixZRUVFxyv1v6fb/Evyjb/7kb7fbrU6OQmMh9p49exIdHa3qF6anpyu34ZgxY1i9erWiSd3C03yXrlvzdWuD/n1p26kuSnpOKT2Y3Ott3CgUFhayePFixowZQ0pKCqGhocqqGx8frw7DREZGEhoayqBBg5gzZw579+5V2db1PH1wai7kM33+f+33G8DBw4ewpqaw7puv/RRg/RShyEAMePutZXTKysbr9vwk7ej0KzFYOr0IHbd0/092/4mULJ/Ph6fBzQ3XjyEhrrFsTnDHIBXsrlyEKz/4B6aISNJsdlKtKfS7tC+G19eU8+on4q9aQwyW19ukLImFxGw2s2vXruMElz7xonhNnz6dSy65xE/YNRd6Es/g8Xjo2bMnjz/+uN/ifKZp4P/r9zdnJN2qJcJXBLle+0men5eXx9y5cxk4cCBxcXFqVxsXF0d2ZhYpyVbMMbFERZqIizXTp1dvHp00mQ//sZIjhw6r/G1ySKOupladiD1Z2/VYFYmt81O2ftiEOOsdjalOhE98Bm5XAzVV1byx5HWuGTFSFZC1JiWTbk8jMT6B6OhowsPDufrqq9m0qbEWmCwSegC8jKO+sLbWHeB/A3EFut1usrOzmTdvnhr/U0nk29LtP933C89IZQNdyRdlR+gEYP78+cqalZ2dTVJSEna7XbnZL774Yp5//nl2795NfX39ceV2hN5E3gGqwoAeh3iq/ZdcXvI8qWdaX19PXl4ez896jtHXXkdCXDzt27YjIiwca1Iy2ZlZdO3chWRLEonxCcRERZORls6990zgy9VrqK2uUe3Sk4/qJXUaPO5fPdFwq6c/oKh4D1Ex0fzjw8aYNZG9UklDPvN4GmsWv/nGUjLTMxqzD/yEgqUr4bfffjvXXnutn+wXxbrF+3+S+08mY71uD++/+x4RYeGk2RpL51x+Wf+mRKP4DMbeeBPmmFgsCYmEh4bxt1cWoKdv+DHLVWuyYOmXBLnn5eVhGE31lsR0KcJMBIooWM1NpjJ5Qiwi8C+99FKeeOIJJRBbuv8t/X4ZM12R1Qnb6/WqZKLyue5ObO7i27x5M48++ig9e/bEYrEQ1KEj5phY0u1pZGVkkpRowRQRSbQpCktCIlkZmdx2y628u3wFZSWlfpUI6mtPnidIFKrmySCF8TwNbr/anJXlFXy9dh1zZ89hwvh7yMnuhD3VRmJ8AvHmOCwJiaQkW0mMTyA8NIzevXuzfPlylVRV3qGfGhNa1MdTvnumz//pQg+u7tSpE4sWLfJzKZ/p7T/d9+tzrAt9faGCJku62+2msLCQu+++m8jISMxmMykpKVitVoWIiAji4+MZMGAAc+fO5b333mPHjh1UVVWpdwnviRwTWpT/ARw7duyUFjg9SePq1auZOXMmI0aMICYmhpCgYGKiokm1ppCdmUWnrGxsKamYIiJpd0FbbCmpXDfqWt5+axmV5RVIBRFnvUPxQr3TQW19HS53Ax6fF7fXo0rsSB3Dn8KZPv+/9vvdXg9lBw9gS7Pz6eefKeVZd+PJ5fV61SnC7Mysxtp7Xv8Ns8638ozbb79dnSLUraGtQX7pffsxYEBtdQ052Z2IjY4hOzOLqEgTWzZtblSwvG4POdmdSLWmkJJsJSsjk8ryCv+0DCdAa9BARVB4vV527NiB1WqloKDAz4rS3OwthPXcc8/Rv39/vxgbXfgJoUhbhwwZokrl/BIa+un2v6Xf33wxaL5gNGc0XXnRM7a73W4/11l1dTXbt2/nmelPc/WVVxEXaybaFIU91Ua6PY2kRAvx5jjS7WkEdehIWEgoKclWRgwbzpwXZze6wE8hhlB/N0B5eTn//Oc/+fvf/87cuXOZ/cKLTHn0McaNvZnLL+tP5045JFuSiIo0ERocgjkmlpioaJItSXTulEOqNYWwkFAGDxzEu8tXHHfKVQ821v8nSp7QX2uZ/9OF8JzP5yMrK4vXX39d/d3QcGqHFFoz/wB+i4F+qlL4pr6+/jgrlM/nIz8/nwkTJtC9e3eioqJITEzEZrOpOK3k5GTatWtHZGQk6enpXHrppYwaNYp77rmHJ598khdffJGFCxfy5ptvsm3bNsWzQpO60vdTcLlcLF68mDvuuIPevXsTERGhTvolJTXWA7SlpGJJSCQmKpqIsHAy0zP4070TWfnBP6irqfUrzSaWZ4wmS6++JPkwaPC4afC41Qm5gAXrpy+Pz8uxinLs6Wms++ZrwN9yJXSn4k59Bu8uX0FOdiel5J6obx6PhzvvvJMbb7xRPU/491Top6XH/2Tfk831pD8/gjkmloy0dMJDw5jy6GM/5MEyIDI8gqyMTEwRkdxy8zgOlh3gQGkZe/cUs6ewiOKiPT+JoqKiXxWFhYUnxMnuLykp8ft9zZo1REREsH79eg4ePEh+fr7fu4qLiykuLmbPnj3s27ePKVOmkJOTQ1lZGfv27aOgoEC9t7i42K8te/fupVevXkyYMIFDhw6xZ8/pj8/p9r+l379v3z41nvK8/Px8NV55eXnk5eVRVFTEnj17KCwsZM+ePRQXF1NQUKDuk5/5+fns3r2bvXv3cuTIESrLK9j9/S5eX7yEm28aS1ZGJglx8epErChcnbKyiYs1k5RooX3bdqTb0yjMLzilBUIYrKamhmeffZagoCDOP/984uPjCQ0OISIsnJioaOLNcSQlWki1ppCRlq4Wjy45nclISycmKppeF/fklZdepmTffmqqqikuLmbv3r3k5+eTn5/P/v372bNnjxoTGQf5n9Dcvn37/Gj3TJ3/08X+/fvZtWsXZWVl2O12ZsyYQXV1Nd9//z2lpaVnfPtP9/3CH3v37mX//v0UFBQovigoKFD0kJ+fT15envo9Pz+fgwcPcuzYMT766CPGjRuH3W5X9QxFwercuTOZmZkkJycTGxtLZGQk4eHhREREKAvY7373O3JzcykqKsIwGpVeSXZ7Mv655557iIyM5MILLyQ5ORm73U5WVhYpKSnY7XalXNlSUhkyaDDPPjODdV+t5UBpGRXHyjlQWta4zhQUsndPMcVFe8jfnUdRQSGlpaXk5eVRUFRI4Z4i9bOoeA8FRYXszs+jcE/RCXGmz/+v/f69+/fx3cYNJCZZeH3pG1RUVKh25efn+8mnoqIijh4+wmt/e5WEuHhK95cct8bt2bPHT9aXl5czZswYlctv7969FBQUsHfvXvbu3dvi/T/Z/Xp/fgwl+/ZzoLSMj/75L6xJySTExassDBjQRmIbMjIyiIyMxGKxkJSURIcOHbBYLJjN5nMaUqbk56Kl23+2w2QyYbFYVP6spKQkNW+JiYlER0cTFxenAmbT0tLIzMykY8eOzJkz56S7Ht1a5Ha76dKlCxaLhW7dumG328lISycjLZ3M9AzSbHYS4uKJCAsnPDSMaFMUifEJxMWaiYs1q4XElpLaGH9limrx8TvTEeCv04PVaiU1NZXU1FSsVitJSUlYLBYSEhIwm81ERUURExNDfHy8Svarl7Lq2rUrNpuN4OBg3nrrLcUPzUv8ND/GLuWupKRPdnY2NpuNiIgIYmJiiI2NxWw2ExsbS0JCAlarFZvNhs1mw2q1kpCQoL4TwK+HAH+dPhISEkhMTCQqKkqlFoqKigKgTV1dHTExMXTo0IEhQ4awceNGdu7cye7du9mwYQObN28OIIAzFkKj27dvZ9u2bWzevJmNGzeyceNGNm3axMaNG3nzzTcZM2YM3bp1Izo6mgsvvJCMjAzWr19/SgqWfspx8uTJREZG0rZtW2JjYzFFRBIZHoEpIpJ4cxw52Z24ZsRInpn+NO+/+x47tm1n25atbN28hW1btrJz+w52bt/Bti1b2bxxU4uPXwBnNzZs2MCmTY10tnHjRjZs2MCGDRtYv34933zzDdOnT+fuu++mf//+pKamEh0djclkIioqiujoaNq3b0+HDh3o06cP27Ztazo95Tlx8WOJ1Zo4caLiF5vNxmWXXcZjjz3GJ598QmFhIRs2bFC8Km0Wvg2sPwGc6di2bRvr1q2jpKSEl19+GbPZTLt27bj44otxOBy0AVixYgUvv/wy+/fvB/wzmZ/rOFmQ28nQ0u0/2yG0qoI2f4hbkiBLsTz5fD4qKytZuXIlf/3rX1m9evVPujiaX/oJrpqaGl5//XWee+45XnrpJV556WVWvLOc775dz6EDB3HWO/A0uP2D37XMvvqhEXy//jHx1o4Af50emh8u0RUi3QLlcDg4dOgQ27dv55NPPmHJkiXMmzePF198kb/+9a+sXbsWaDrR6vU2Bbuf6PmlpaUsWLCA119/naKiIpXDS06Gyvf0uZZ2y3sC+PUQ4K/Tg6w39fX1uN1uVqxYwbx58zh69GijBUuIXK+gXVFRoYJIT3QM81zA6U5AS7f/bIcIcxEWPp9/1XthgOZCxefz/WQerOYWLFGyJJBY3ut2u1W+E0+DuzEvzA8KlJ6uoSkC12hK2vvDZy09fmc6Avx1epAs7T+2eErKD/2Qhc5LMsbCF1KUXJ77UxsUnf/A353ocrmora2lpqZGtfFE9wfw6yLAX6cH2XQILwiNG4ZBbW0tbXy+piPoErio1zpr6Q4EEMCJoO94fb7jK97rliz5W063+Hw/Ltx/bDcui1R5ebnKQSWWM1HCRCFT+Xl8/olVAwtIAC0Bna51upPPvN6m4+zCF7I7F1RVVSnlyudrKuB+Mpqura31K1elW73zvDWwAAAgAElEQVT09CN6O+X9+mnJAAI4EyGWKskpB6gKAgBtGhoa/LLfyo1nQpmBMwGne7V0+892NK+h5vP5lzEyDMOvjp2+MPzU/DS/9Jwuco/OZPq98n79OP2PPdPn++8SNp6rCPDX6aE5nQp96jzyY+Oo85Fh+KdmkP81Tw3RnDfkd/meYRhUVlYqy7G+MQnMb8sgMP6nP36yUdDpXOR7G0DtUvSsrYEFIIDWAF2Y60JBLl3Rqq6uVovLieqo6ZeeVV4YSBQoeb8wl66EycLSXAGTe5q7XwII4NeAvkjK7zrtySZA/icnAHXrkm4NPnr0qNrUnEjBkvdB4+5er58oipWurOnJhX/MqhVAAGcq9EoKVVVVfhuXNvKH7Ow9Ho9f4dyWbnwAAZwIzReN5pfP5/MruAxNCQp/ir6bX/oGRF+MZHGQe3w+n1/R3ObPk3tOZDkIIIBfEkJjzXlCp0E9WFe/hIb1GqHCO/X19X481Jy+5TNRrCRtg/CTrnDp9zW/v6XHL4AATgThGaFtKe0FjRvyNkLE+o4hIPwDCCCAAAIIIIAATozmGwV90x1QsAIIIIAAAggggAB+BgIKVgABBBBAAAEEEMAvjICCFUAAAQQQQAABBPALI6BgBRDArwQfp4eWbn8AAQQQQAA/HwEFK4AAfiUEFKwAAggggHMXAQUrgAB+JQQUrAACCCCAcxcBBSuAAH4lBBSsAAIIIIBzF+ekgqUn06utrfVLlCc1g2Qg9GSUUuLEMAxVN0sfSD1JpQymPKu+vl4l4KutrVXfk/slASU0Ja/US1I4HA7VHmmLXsZIn0R5RkuPcwCtD3pCR6FVydRdX19/XJZ6oTspq+V0OjEMw4/OpZq8YTQVC5ZLviOfS4Z7vZyQXM1LHUltRz0xpZ6oUmroORwOvySwwj8+n0/xpPAc4Mfv8j79HXrWfslqrt9nGIbiTafTqRLd1tXVqffK82RMzib5GsAvA6F5fb2Q3x0Oh1/WfZ0eDaMpyaVOZ/raIXSs36uXFtP5W96hV5/Q2yHPlrJjkslf+uF0OtV9knRTXyt1meBwOBSPyGf63/L9urq6Fp+fU51DffzPOQVLJs7lcilhK1XdhThkUOrr61XGbsNoUoqqqqqU0JWfDodDLUgVFRU/SkBSrd7r9SrCq62txel0+mU3lrZWVlaqhUcX9m6322+B05kqgAD+G/xU1myhxbq6OkVfQos674hAlu9LwVNRRIR/hD/kPXppFb3or55FXBYB/RLeEJ7R+VDf4Mh9TqdTLQ5yvyh/ssAYRtMCopc40nldsvcLn4nAr6ur8yuPUVFR4fcuXe7IvWebfA3gl4G+edCLBMu6InzpcrkUfQv9C13/2CUbGcMwjttMCO8Kb3s8HiorK1WbdH5ovrHQSynJ+4VH3G43tbW16plOp1OtWc3LjUm/fuodrYlH9LaecwqWTNahQ4c4duyYIubKykq/idZLnECTAiaELz/1Xa7OHB6Ph3379lFSUqIIxeVyKeXLMBo1+4qKCiWQhZDr6urU4qQvNvouRH7qnwVq2QXwc6ArV9XV1er33bt389VXX7F//34lOHUh39DQoISmWIFFkOuW1uYLAfhbr4Tf5H55h/Cc8G1lZSV1dXVqJ+/z+fzaJO2uq6tTn1dXV/u9XwQ+NO309QVEvltdXc3evXtVP2QB0hWpY8eOqTaLZUzkiCigsogtXLiQ2bNnKzl6tsnXAH4ZCD2JpdbhcFBeXu63adEtsAcPHlS0rysv1dXV1NbWUl9frxQXWcvE4mwYTcpWcyuT0KOsK/IcUai8Xi81NTXqmbW1tVRVVVFSUoLX68XpdCrrrcPh8FsDAWX5Ej4oLy9Xip4oa9Km8vJyDMPwU/rOZOjjd84pWIZhUFVVxa233orVasVisWA2m+ncuTM33ngju3bt8lsIdIITYjl8+LDfmDSvwyXWpX79+hEfH6+YYerUqaxcudLPpffAAw/wm9/8ho0bNx63uMhzxTwqhGsYTfXA9M90E20AAZwqdAXL7Xbz3nvvcckll9CxY0dMJhOJiYnExcXx4osv4vF4lHAUnhCLr+5CF8VJlBzhI3E7ynf1mpFVVVU4nU7cbreyDsmi0pwf5R5dcNfV1fltlITHANavX8+ECRPU5qikpES9yzAMtYiIQA8KCmL48OG4XC5lRRYer6mpUdYzvX36GNTU1Ch54PF4GDx4MJmZmWp8zjb5GsAvg/r6ekVPtbW1PProoyQlJTFixAg/D0d1dTWPP/44vXr14siRI4p+mvOLXMJPen1WUYKEdoVmZT1xOBzHeVREwXrxxRdZvHgxhmFw4MABAJ577jnatGnDN998Q3V1teIZUcSqq6vVM/U26uunbv0Sw4POXy09P6cCnZ/POQVLiK1r16707NmTjz76iBUrVvDYY49ht9tJS0ujoKAAj8dDbW2tUmQOHToENPmfxWUghCoDqbso/va3vzF37ly16zWZTNx5552qDS6Xi88++4yZM2cqy4FOfDU1NRhGU2yHYTT52YUgZbdzNsxRAC0DXcH65ptvaNu2LUOHDmXNmjV8//33fPzxx9xyyy3YbDa/+AldINbX1ytXte4y1/mhsrJSWY3E9SY0K8Jb/1sEk9frVdZi+Z++2NTU1CjFSt5XUVGhLGANDQ28/PLLXHjhhRQUFPgV+5YxkI2K9GXevHn8/e9/99uh69Zq/X6Px+O3W9fbIDLi2muvpX///uqes02+BvDLAODIkSNKKXnwwQeJiIggODiYZcuW+dH99OnTSU1Npa6ujrq6OuV1kRhj8YA4nU7FH2ItFoXHMAy/DRP4e0YMw1D8LBsSgOjoaO69914Mo2lN+vzzz5k1axb5+fnqWc2fLZe4P/V4R3l2SUmJUrpknZUwhZaen1OdQxm7c07BkgWhT58+jBo1SpklHQ4Ha9as4YILLuDFF19UJlmPx0NeXh7ffvutn2CWnbnEd3z11VcUFhbidruVYgRN1bQPHDhAdnY2Dz74oHIT6q4LWXDkMz3gHRoVMmlTZWUltbW1fP3112zcuBFoXGQkGDmAAP4b6ArW6NGjsdvtVFZWHrdr/f777zl06BAVFRXKJSEKlQjEuro6fD4fBw8eVBaswsJCtm/fDjQFqRcVFbFp0yZF5yKIjx49qqxMeXl57NixQ8khr9fL5s2b2bVrF4bRdOhEdroul4vdu3fz5ZdfsnfvXsVHAK+//jrBwcF8//33+Hw+xUOHDx9WGyBxVeg86HK5/Pi5qKiIb7/9lr179/pZ2Q4fPsyePXvYunUr+fn5fu5Hl8vFTTfdxBVXXKHk6NkmXwP4ZdA83um6664jNzeXsWPHkp2d7ReL9cgjj2CxWPwCyg2jcUP+5ZdfsnnzZr8gdn292bt3L1u2bKG0tBTDaFSyqqqq1LNLSkrYuXMn69evV+uatK+4uJj09HSefPJJoNHiK1Y0sfCKNVnWMIlldrlclJeXqzgyWbO2bNnC119/rUINRJboa67exzMZOj+fcwqWWH26du3K4MGDlcCX/nXu3JmRI0fi8Xj49ttvueqqqwgLCyMqKorIyEj+8pe/+AUSTpo0CZPJRFpaGjExMSQnJ/Pxxx/T0NDAVVddxejRowHIysoiMTGRrKwsLBYLMTExfPzxx7z88sukpaXhcrn405/+REZGhrJkiZBesGABGRkZyn351ltvkZ6eTkJCAhaLhZycHN57771WP0cBtAx03hg4cCBdu3b1i28SJb++vp7vvvuOxMREXnnlFaBxV+twODh27Bg2m40XX3yR8vJy0tLSeP7558nNzeX8888nMjKSe++9l++//57bb7+d4OBgLrjgAsaOHasUpA0bNmC321m4cCH9+/fnwgsvJCQkhD//+c9UVFQwdOhQwsPDOe+885g0aRIAZWVlShkbNmwYNpuN8PBwLBYL999/Px6Ph7fffpv27dvTuXNnMjMzCQoKom/fvni9Xvr168fkyZP55ptvyMzMZODAgQD06NGD+++/X8W1VFRUMGTIECIjI0lKSiIlJYVhw4bhcDj47LPPiI+Px2QyYTKZiIyMJDc3ly+//FItDDfeeCOdO3cOKFgBnBB6bJLH4+GGG25gzJgx7N69m9/+9rd88MEH6v9Tp04lJydHbRAqKipYsGABFouFzMxMoqKi6NSpE2vXrlWWrPr6esaNG0d0dDSRkZFYLBYuuugi+vbtq5StSZMmERoaSnJyMgkJCaSmpnL11VerOKzLL78cm81GQkICNpuN1NRUVq5cyYcffkhMTAwul4u5c+eSlJSkPD+iKH355ZckJCSwdu1aAN577z0yMzNJSEigU6dOmM1mFixY4HePbORaem5OFee0giVuvMsuu4yhQ4eqvlVXV1NXV0dcXBwTJ06kvr4eq9XKxRdfzPbt2zl06BDz5s3j/PPPZ86cOXi9Xv76178SEhLC0qVLKS0tpaioiEmTJvHiiy9iGAbDhg2jT58+eL1e1q5dS1JSEmPGjGHDhg28++671NfXq2eIe+b3v/89//73v4FGU7HX62XIkCH06NEDwzBYvnw5ISEhzJ49m5qaGoqLi7nvvvuIiIigsLCwxcc5gNYHXcGaMWMGbdq04fnnn6e6utrvlK3wTqdOnRg5ciRer1dZs5YvX87vf/979u3bx549e0hMTCQqKopp06ZRWFjIpEmTiI6OpmvXrtx5553s3LmTV199lfbt2zNnzhylYMXExBAZGcnMmTP5/vvvmTRpEjExMXTq1Ik//elP5Ofn8/zzz/Ob3/yGxYsXA43W206dOjFkyBB27NhBeXk5H374IR06dGDWrFm4XC6mTJlCWFgYS5Ys4csvv2T9+vXU1tbSs2dPkpKSyMrKYty4ccyYMQOPx0NWVhY333yzcrP06dOHxMREPv74Y4qLi1m+fDn9+vVj586dfPnll0yfPp3Nmzezf/9+tmzZQkZGBhdffLE6NTx8+PCABSuAk0KUJ/F8/PGPf6Rz5854PB5uvfVW5aYHePLJJ0lJSaGmpgaHw8Fbb73Feeedx7vvvktpaSklJSWMHDmS1NRUDh06hGEYXHfddZhMJpYtW6assddccw3h4eHs378fr9fLq6++yvz589m9ezcFBQW8//77XHjhhdx33300NDSwZs0a4uPjuf322/n6669ZunQpXq+X119/naCgII4cOUJZWRnnn38+CxcuxDAMlU5iwoQJ2O12AD777DPCwsKYMmUKVVVV7Nmzh2nTptGhQwfWr1+vNnXiomwtHppzTsHSFxDRjHv27MmwYcNUX51OJ3/84x/5zW9+Q2FhITNnzsRkMqkdspg0J0yYQFJSEl6vlxtuuIFu3bphGE1xUtBoMvV4PFxzzTVcdtllQONOPy0tjSlTpvjl7XnqqadITEyksrISh8NBVlYW48ePV4K5tLSU4OBgFi9ejNvtpmvXrkyaNMnvnYZhEBcXx+zZs487bh9AAKcCoZmqqipGjRrF+eefT0JCAldffTVPPvkkW7ZsUe7ABQsWEBwcTF5enqKzQYMGMXjwYAB2795NREQE8+fPV/EVFRUVxMXFMWnSJL9j5enp6dxxxx0AbNq0ibCwMBYvXozL5cIwDPbv34/JZGLq1KmKvzweD9nZ2dx9990AzJs3j5iYGPVM4YuHH36YrKwsoNFFGBkZyYEDB/xyXXXv3p0rrriCo0eP+t3buXNn7rzzTjweDwsWLCAoKEhZAgzDUDEk8rcoYnLQZPHixcTExJCfn4/b7ebaa6+lZ8+eAQUrgBOieYqCP/7xj3Tp0gWPx0NBQQEdOnRQp1EnT55McnIyhtG4FlgsFl5++WUMw1CxgE6nk7i4ON577z12797NBRdcwNKlS5Unp6GhgUWLFhEbG6uC1SXGSw9EHz16NH369FHtS01N5eGHH1Z063a7Wbx4MVFRUezbtw+v10v//v0ZNGiQ4tmamhpSUlJ49NFHAejZsyfjx49XMWHynF69ejFx4kS//HfCb60B57SCJYvEkCFDSEtLY8CAAfTs2ROLxUJsbCwvvfQSAFdddRW5ubkqXkqIbtmyZbRt25aSkhKWL19OmzZtuPvuu9mxYwdlZWV+wYFXXnklQ4cOVebe9PR0Jk6cqIi4urqaZ599luTkZIqLi3G73cycOZOQkBB1vPyJJ54gNDQUn8/Hnj17CAsL48EHH2TWrFnMmTOHuXPnMnXqVBITExk3blxAwQrgZ6E53Xz88cc88MAD9OrVi/j4eNq2bcv8+fMB2LVrF/Hx8Tz//PMAbNu2DYvFwsKFC3E4HOzbt08F5ULTjtxqtfLYY4+pY+QAubm5jBw5EofDwc6dO+nYsSMfffSRkjkulwuz2cxzzz1HbW2tWnh69uzJbbfdBsDgwYPp06cPs2bN4q9//SszZsxg1qxZ3HDDDZjNZqqrq3n77bdp164dhYWFKn6srq4Om83Go48+qk5QSrBtRkYG9957Lx6Ph5tvvpkuXbooV6kkMZWYEoAtW7bw9NNPc8MNN9C3b1/S0tJISkqipKQEj8fD2LFj6devX0DBCuCEEBoTWrztttvUOuT1ehk/fjzJycl4vV4effRRMjMz8Xq97Nixg7CwMMaPH88LL7zAnDlzmDNnDvPnz6dt27a89NJLLFq0iLCwMBUvJde8efOIjo6muLhYuRvff/99HnjgAa666iouuugiYmNjGTRokOLl5ORkpk6dqjYshmHw2muvERERwaZNmwB46623CAkJYePGjfh8Pv71r3/RsWNHSktLOXz4MBaLhXHjxjF//nyeeeYZnnnmGZ5//nkyMzO5+uqrgUZjhX5opqXn51RwTitYIhD79euH1WrlgQceYMqUKcyaNYu8vDxlWerbty833njjcUdWv/jiC4KCgvjggw9oaGjgwQcfxGq18vvf/57o6Giuu+46lV/ryiuvZNCgQep0VVpaGhMmTPDLbTV16lQsFosyCe/atYuwsDDeeustvF4vPXv25K677sLj8fD1119jMpnUojR8+HByc3O5+eabuf7663nttdcCClYAPwu6C11OHEls1Pbt2+nVq5cSwl6vl1GjRqmYomeffRaLxaJOMuXl5REREcEbb7yhXIxlZWUkJyer2CnZsFx66aVcd911AGzevJmgoCBWrFihTkNVVlZiNpuZMWOGsg65XC569OjBww8/TH19PcOHDyc5OZnRo0czcOBARo8ezXXXXcc111zDbbfdRl1dHZ988glms5mioiIl2zweD7m5udxzzz0qMBcad9v9+/fntttuw+12M2bMGGV9EreofA/g7bffJjg4mMzMTO6++24WLlzIhAkTiI2N5eDBgzidTkaNGkVubm5AwQrghNDDWHw+H+PGjaNnz56KXnfs2EGHDh1YunQp8+fPp3PnzlRXV/PFF19gNpsZOnQoI0aMYNiwYQwaNIgrrriCIUOG8MUXX/D0008TFhamTuRVVVXhcrl45ZVXCAkJoaioCICJEyfSvn17rr76ah566CHeeOMNRo0aRc+ePVWOqqysLO6//361lnm9XhYsWKB4zOFwcPDgQZKSknjuuefwer2MHj2ayy+/HGi0cicmJtKzZ0+uvPJKrr32WkaMGMGll17KlVdeydNPP+3HE4Cyap/pOKcVLNG2c3NzGTJkiOqbaMly6uKqq66iT58+fv13u9288847hIaGqlQOAPv27WPdunVMmjSJtm3b8uCDDwIwcuRI9Y6jR4+SkZHBY489pt7n8/l4/vnnsVqtlJSUqOD53r17M2zYMIqLi+nYsSNr1qzBMAy2b99OVFSUCnTUk8TJRAYUrAB+DprTTPMcOZ9//jn/93//x/vvv4/X62XlypVccMEFbNq0if79+3PPPfcoPikuLsZkMrFkyRKV262iooK0tDTlVhDX2iWXXMLNN98MwNatW4mJiWHJkiWKR44cOUJGRgZPPfWUer4cUrnnnnswDINLL72UIUOG+OXd0TO3G4bBwoULadeuHZs2bVL/q6mpISMjg/Hjx6u/hf9tNhtjx44FYNy4cfTo0eO4nHiSBsJsNnP99der/1VUVLB69WqCg4PZuXMndXV13HjjjQELVgAnhRy6EqVl7NixXHTRRYouGxoaGD9+PH369OFPf/oTNpsNr9fLunXr6NixI6tWrfJbz8RgUFVVxaxZs4iLi1PJQCWgfsmSJUREROBwONiyZQvt2rVj9uzZGEZTyZubbrqJvn374na7cTgcdOrUiT//+c9AUx6rJUuWEBQUxN69e5Ul7q677uKiiy6irKwMi8XCa6+9Rm1tLWVlZZhMJhYsWHCc7JH2S+oiKX/VWnhE5+dzTsGS/vTp04eBAweqXFdyUkGE51NPPUV4eDiHDh1SuUc8Hg9TpkwhMTGRQ4cOKWLTTxUOHz6cHj160NDQwODBgxk8eLBaqLp27crkyZOprq5WLpLZs2cTHx/Pvn371LuXL19OSkoKt99+OxdddJFfqY+MjAyuueYav6Sk0m6JIwkoWAH8txCaeeedd1TcAzTla5s/fz4xMTF8/fXXQGNMhN1u5+qrr8ZqtbJx40aVcFRcfa+99pra0JSXl2Oz2XjyyScxDINDhw7h9XoZMGAAN910E06nk+3btxMaGsq7774LoI50JyQkMG3aNJXOxOl00qVLF+6++258Ph9Tp04lKiqKkpISDMM/I7tYmxYsWEB8fDxHjhxRQq+mpoauXbsyduxYFcQvx8x79erFfffdB8ALL7zAb3/7WzZs2KDGSaotHDhwgNjYWObOnatisABefvllwsPDKS4uBhot5gELVgAnAzTlj/N4PEyYMIErr7zSr1JHfn4+SUlJ2O12+vTpo2IcLRYLDzzwgMobJ+414ZlvvvmG8847jzfffNMv79QjjzxC27ZtcTqd/POf/+T888+noKDArxTWrbfeSvfu3RVvpaamMnHiRAzDUHmqXn31VSIjIzl69KiqUrJu3Tri4uK4++67ycrKUnFeAJdddhlXXHGFckvq1SFkfRTjgcRwtfT8nOocnrMKlmjFOTk5fgF4EoMhE7tv3z7MZjMjRozgyJEjOJ1OFi9ezG9+8xtmzpxJfX09d9xxB0899RT79u2jtLSUr776ipiYGKZNm4ZhGIwaNUqZRBsaGrj88svJysqitLSUnTt3cvjwYaZMmUJoaKgS8AClpaXk5OTwu9/9jr/85S9q/J1OJ2+88QZt2rThscceY/fu3RQVFbF+/XruuOMOnnvuuYCCFcDPgtBMZmYm/fr14+2332bXrl3s37+fxYsXExwczJAhQ/yqBcyYMYPf/va3XHXVVUqR8vl87Nu3j44dO7JixQqgMfC8srISq9XK5MmTVUA4QPfu3RkxYgTQGMf0hz/8gU8++cQvI3twcDDPP/+8iqGExs3K/fffT1VVFXV1dURHR9O5c2c++eQTysrKKC0tZebMmQwdOhS3201+fj7nnXce06ZN49ixY2zZsoWKigp69OjBfffd55fA0ev1kp2dzZgxY/B6vRw4cACbzUZubi5ff/01hw8fZtu2bQwbNoyvvvqKiy++mC5durBr1y4KCwtVHInFYqGkpASXy8VVV10VOEUYwEnR/EDWqFGjSEtLw+drTN1TVVWFz+fj8ccf54ILLqBXr16Ul5cDjYlHf/e73/HMM8+wc+dOjhw5wrfffsvo0aNZsmQJXq+XkSNHEhISwgMPPMCTTz7JgAEDsNvtSvnZs2cPQUFB3HLLLRw6dIht27bx5z//mQsvvJCrr74aw2hMPDpq1ChycnLYvXs3W7duxe12s3z5ckwmE7t371btd7vdDBo0iPPOO08dSpFKCB9++CG/+93vuOuuu/juu+8oLy8nLy+P2267jWefffa4WqVi9T7TcU4rWKIV9+vXTwXXimKjn+Bwu92sXr2a7Oxs2rVrR3x8PDExMTz++ONKyE+bNg2bzUZmZiY2m424uDjGjRtHZWWlit3QFazNmzeTnZ1NZGQkQUFB/Oc//2Hp0qWkp6erkxeizT/00ENqVy7xKDIHr7zyComJicTHx2O324mKisJut/Ppp58GFKwAfhaEZhYuXEhOTg5RUVGEhISQkpKCyWTihhtuUIk1JQP06tWrCQsL4+233/ZzvxcXFxMREcGyZctUsG55eTlZWVk88cQTKmGuw+Fg2LBhjB8/ntraWrZu3UpYWBiffPKJEq779+/HYrHwwgsvKGEFjbFbEydOVDEgmzdvZuDAgdjtdhISEoiKiiIjI4P7779fKXkPPfQQoaGhhIWFqRQKPXr0YMKECWqDJRav9PR07r33XjUu69evp2fPnkRFRREbG0t8fDy5ubnKMmCxWAgJCSEhIYFhw4bx8MMPY7PZKCoqwu12M3bsWHr16hVQsAI4IUTJF0X/rrvuol+/fn4VPKTObXp6OhdddJEq5eT1epk+fToZGRkq56LJZKJ79+5s2LABl8tFWVkZd955J507dyY9PZ1p06apQ1LHjh3D6/XywgsvYDKZiI+PJygoiNtvv53hw4erwHOv18uqVatITk7GarUSHh7Oe++9x9tvv018fDxbtmxRa63H41ExmqtWrVIeH3H9LVy4kO7duxMVFYXNZsNsNmOz2fjHP/6hymrp9Qlben5OBee0giXKUWlpKUePHlU7adkx67FYUmdt3bp1fPTRRxQVFan7xU9eX1/PqlWr+Pbbb1W2arGIHThwgIqKCqU0yUKzZs0atm3bRk1NDVVVVeTl5QGNvmyZjOLiYsrLy/12Anr9NqfTydq1a1mzZg27d+9Wi0hAwQrg50BoRuh/y5YtfPvtt/z73/+muLjY77vynfnz5xMXF6fM/kJzLpeL0tJSv+LIXq9XlQCBpoLpBw4c4NixY8rlLRsNQFmT9+7dq3jBMBpTJJSWliqXnDzL6XSyZcsWtm/fzurVq/0K5ApPbtu2jfXr11NSUoLD4eDIkSN+RZtFFhw7donE6DYAAB31SURBVIyqqir1PlkUdu7cyapVq9i2bZuSER6Ph2PHjvGvf/2LNWvWKNl59OhRVbf04MGDKumiYZxd8jWAXw7CG0KvlZWVHDp06LjSVB6PhwMHDqgNuB4Yf+TIEVatWsXatWv5/vvv1XplGIbfGiLryuzZs0lMTPSr+bdjxw5WrlzJjh07MIzGBKilpaXKZQeN1QvWrFnD5s2b1QaroKBA8aLwnbjSZW0Tb430t6amhnXr1vHFF1+wfft2NRZ6XcLWtJ7p/HxOKFj/DXQC1K1bcgnByGKkF8OUz08HJ2vf6d4fQAAngp6PRgSlLsDl97q6Orp168a4ceP86F+XFc3z28jvermP5rU1DcCHgcvdgA8Dt9dDnaMer9H0Px0G4PZ6cHs9eI2T85fws14TURYgaYNe81DCCqStJ3u+fsmYBvgzgP8VdDe3rjDV19djGAaff/652tB7vV62bt1KYmKiOqTyv1pfzuZ1K6BgnQDi0hDBL7sGl8vlF8SqC2Y9KO+/JdCAghXAmQShbfnb6XT67STl5+LFi/m///s/VQtT7pGCxy6XSykcuvtQ+EqCeA3DUOVovF4vtfV1Snlq8LgxAANwNrgwgHqngwaPGx8GHp8Xl7sBj8/bpHydgoIlbdX/FquwnutK31z9EpunAH8G8GtDt2SJkqUfwho7dixt2rQhLS2Nbt260bFjRwYPHqwsrQEF6/QRULBOMjgy6W63m/r6ehVcJ7t5n8+nTlg0N92eLtG1dP8DOLcBTdad5lYmcV0AfPrpp6pEhq5giQKmb1CERwzDUM+ura1Vrj1ZFAA8Pq9SmBwuJw6XUylY/9/emUdHUaV/n+PBwQEhCSRASBrIQgJkAdljiEAgsqoYlWFicCDCGEXIwMzIIpoB54DIyyLCwAsK4sGwqKA4GrZRCGFJIJElLEogG5CVLN3p7vRS9Xn/yNxLdX4I+s6E/MSqc76HWF1dVt+69z7fZzfWmlCh3lL1b+uVU1XkfzsU50/6fUKjF8+itb6JDbGqqgpVvUUIRUr73e6vJWwNhcevZQ/V0XTQCnatAiEMB1euXOGLL77g/fffZ/Xq1Rw4cMBF6blXz6kTrF8pwRIB5dpgw4YCQ0xGQcLEGIkgYB06fqkQ5ANu1bcRQaYijkPMdaiPnxBxVSLmQtxLEBet5UvU1dHuKS6kBBWrrQ6HUv+3lkwJQmUy11JrMUurlt3pkNff7feJPU08k/g9wkKldVkCMqBf26HhbvdvKDC0R1O/Xx33N0Q5IeFZEXNOG/qiqqo0HIjzNTU1v5hK6f/boROsnzBAQjiIQHdRaV2MixAYqnqr75M2hV2Hjl8iwDWbVhAsrcVWECptt3uoDw4XVl7hZtdap4SVV2Q9KYoie4wB8jtCcRFkxWg0yvIq2lgnbUKKWLM/5/c5HA5ZggVuFRqtra2ltrZWCpyfQ5B+7Nr7UVPX8b8PWmEu4ohF5XYR4iLmuKjjKNbpr0nGNyZ0gnUHiI1QFB8VhxgLUWlXbPLaKur/6RjpG7COpoaY+yImSVXr17+2q72qqnKjrqurk43KxWdiXYjrhVWrYXagIFVagqQlUFotXEvQqqurXRrSajOi7vb7xPM0XN/ivJZ8aUmeGJefcn/tWDaM82rq96vj/oZQSMRcFZZZqFcgtMqJtlPDvTIQ3C0WuanH778BnWDdZQIYjUa50V67do3jx49z9OhRTp486eI+LCwsZPbs2Rw5ckRmafzcIMGf64vWg2h1NCa0JKOuro5Lly5RUVFBWVkZJSUlstBhw+xak8lEXl4eef+uXK6qqiQ/YuMW2YeiTYc2tkuQOVH6REvWbty4QUZGBqpaby1ev34969atc+m+oN3Q7oSGVq/S0lIXK5vT6aSoqIgzZ84AyJp2ggz+JwHu+vrU0dgQsslut5Obm0taWhrffvstubm5UokxmUysXbuW1atXuyg4wljQmPNXJ1i/coKlDXzdsWMHERERdOjQgS5duuDu7k5AQACvv/46lZWV5Ofn06pVK95//335ncbegPUNXEdjQpCMmpoadu7cSUhICN26dSMoKIjAwED69OnDtGnTOH/+vCRKqqqye/dumjVrxqZNm2T9KRHj0bA0QklJCcuWLWPLli0uZEpbDkJbEiIpKQlPT0+OHTuGqqqMGjWKiIgIF3Il3JY/ZX1AvQZfXl5OUlIS6enpLrFnI0eOlG2yVFWVYQLawPWfs5a1R1O/Xx33NwAuXLjAlClT8PDwwNfXl86dO+Pr60t0dDQXLlzA6XQSHR3N4MGD5ZrRJnnoBOs/fwc6wbrNyxUTTVVV0tPTadu2LRMnTuS7777j0qVLZGdnM2fOHHr37g1ARUUFXbp0Yfv27TKdXWgQ2iB5IXDEeIpUdrHRC+1dVVWXomrCmiDegU6kdDQ2tG1stm3bRrNmzfjwww85ePAgn3zyCW+88QZBQUF4eXmxadMmoN59WFBQwMaNG7l48aKLW0LbqFXrlgsICOCVV16R81qr2IhrBeHJzs7mvffek5l9cXFxjBgxwqU9j7YRs5Z4iQQVQcC0LsCCggJat27Nhg0bJKFTVZXU1FS2bt2KyWRCUW4FvguXqNgLxfXavVJY7ESGpLAKqKqqx2jqaBRo5YLD4SAmJoaAgABSU1O5dOkSOTk5pKSkEBoaKpu1jxs3jqeeespFLmld7aKCOtTHWmq5gNFodEnyaijvbDYb1dXVcq1o45abeqzuBXSCdZcJarFYiI+Pp1evXi6BvCLu5OzZs5jNZi5duoSbmxuff/452nErLy+noKBANsp1Op1cvXqVL7/8kqysLBmDYjKZqKqqktmHIli+qKhI+svFe9C6Z3SCpaOxoN00d+3aRfv27Tl58qRL7KHJZOL555/ngQce4NSpUzJY1mazyXkrzp09e5YjR46Qnp4uN9nc3Fz69+/P1KlTAWRV9NraWq5cuSLraFVXV8usXhFXUldXx7Rp0xg+fDhQ7z786quvuHr1qgzWtdls3Lx5U1aVFocIaq+pqcFut3PkyBFatmxJSkoKRqNRBrwLy5kQGkKg5Obmkp6ezuHDh+U9xf5w/fp1+XdOTg7nzp3jhx9+kPW+7vc9VEfTQSu/vvnmG9zd3dm6daucc1VVVdhsNkpKSmSR0SeffJIRI0bIz61WKyaTiYyMDDnnxbw+evQo6enpXLx4URoLSktLKSwslGtAVes7HhQUFEjSJv69cOECqvrrUTB0gnWHCSoaZ8bFxdGtWzeZpi20V20w7w8//EBoaCgbNmyQ59esWYOnpyf79u2TGvjUqVNp164dkZGRdO7cmUGDBvH999/LBtDPPvusFGA2m434+HjGjRsnCZeqqsTGxhIbG6sTLB2NCmENcjqdbN++HQ8PDzIzM12IisVi4dq1a4SGhjJ+/HisVis5OTm0b9+egwcPoij1DZ+ffvppunbtSo8ePejcuTNRUVEcP36c8ePH07ZtW0JDQwkPD8fDw4Nvv/2WjRs3MmDAAA4fPszUqVPx8PDg5MmTbNmyhfDwcAoLC3E4HEyaNIkRI0aQmJhIcHAwBoOBTp06sWDBAvmMb775JkOGDKG4uNilkGjv3r1ZvHgxpaWlDBgwAH9/f7p27UpoaCgGg4H8/Hzmz5/PwIEDpZCorq4mLi4ONzc3/P39MRgMjBo1SrYIstvtjBgxgsmTJ5OYmEjXrl3x8vKiffv27Nu3T1raxF6iQ8d/E1r5tWfPHh566CH27Nkj56ZWfgslJDY2VlqBAc6fP09YWBhz5syRNd8+/vhjwsPDCQkJoWfPnnTv3p133nkHgI0bNxIUFMTFixclidi9ezf+/v6cP39eWsI3b95MSEiIXLtNPVb3AjrBusMEFYx81apVuLu7M3/+fNlXzW63y1RuVVXJzc2lQ4cObNu2DYDly5fTvHlzWYBRVVUSEhIICgrizJkzlJWVkZuby6OPPir930uWLMHPz0/2Q7t58yZdunTB19eXiooKFEWhtLRUTm6dYOlobAhNc/v27bi7u3P06FHpstPWwnruuecICQkBIC0tDXd3d2ndGT16NGFhYTIxJD8/n5deeomTJ0+Sl5dHaGgoL774IpcuXeLQoUPU1NSwcuVK2rZtS58+fXjmmWdYsGABRUVFrFy5El9fX2khmjhxIm5ubvzxj38kNTWV/Px8ZsyYQdu2bfnkk09QFIX58+fTq1cvWV5FEKU+ffqwcOFCFEVh69ateHt7s3btWjIyMjh+/DhWq5XExEQGDRoEQGVlJePHjyckJITjx49jsVg4deoU4eHhxMTEyPIRUVFRdOzYkenTp5Odnc2ZM2d48skn6datG3n/DvzXswh1NAa08quwsJDg4GD69u3LkSNHZJhJZWUlNptNruEnnnhCKva5ubkYDAbGjx8vO5ZkZGTg4eHB0qVLZdmVJUuW0L59e9LS0rh69Spt27Zl586dck+YNm0azZo149133wXqLcYLFiygb9++LoaJ+x06wbrDBBWCxGKxkJiYSPPmzWnfvj1Dhgxh7ty5fPfdd0C96TMvL482bdqQmprKnj178PLyYvPmzXIzvXjxIoGBgaSnp7sUWMzJySEwMJCjR49y4sQJWrVqxbFjx7Db7WzcuJHHHnuMYcOGsXbtWhwOB2fPnsXPz4+srCydYOloVAitV1VVduzYgYeHh8zgE64/q9WK1WrlnXfeoUOHDhQVFfHdd9/h6enJ/v37sdlshIaGMmPGDGnx0h5Wq5Vu3boxd+5cGZNlNBpZvnw5bR5uTdbJU6CC0+5AcTjZsP7/EuDnT2lxCTZrHQmTpxAzfASo4LDZURxOUCG0Z4h0O7722mt07txZui+gPq4rODiYxYsXS1d8u3bt2Lt3r0vpiISEBAYOHAjUuy8ffPBBPv/8c+laNJvNpKen88ADD5CZmYndbmfYsGG88MILcu1brVZSU1Pp2LEj2dnZLuRUh47/JrTyy263s2XLFoKDg3Fzc+ORRx5h5syZ7NixQ8YFAjz//PM8++yzVFdXExYWRmxsrFz7DoeD6OhokpKSsNvtsggpwPDhw5kzZw5Wq5V+/frxl7/8RSov0dHRTJgwgVGjRsl1MGbMGF5++WXpcm/qsboX0AnWHSao9vc6nU6OHDnCokWLGDduHN7e3jz00EO89dZbMg120KBBTJo0CV9fX1avXi21XqfTyaZNm/D29mbhwoX87W9/4+2332bBggXMnj2b5s2b89lnnwHQpUsX1q5dC9RbBdasWcM777xDVFQUACkpKQQGBlJeXq4TLB2NCm2ihyBYx48f/x8ucqfTydKlS3n44Yeprq7m8uXLPPzww3z66acAPP3007Rp04a5c+eSkZFBaWmpVDKMRiM9evQgOTkZs9ksXelLly4ltGcIN8srUJ0KqGCvs7F82f/Bx7sTFWXloMLECb9jSNRj8nOzqRZU+MOkF/D39wfgrbfeIigoSP4mEXQbERHBn//8Z1RV5fLly7Rp04YNGzZIkldbW8u8efMYMGAAtbW1rFu3TrpCxFFXV8f169fx8fHh3XffxWQy0bNnT6ZPn+4SZnDkyBHatGnDwYMH5fea+v3quP/QMNMP4MqVK2zatIkpU6bQq1cvmjVrRkxMDFVVVSiKwsiRIxk2bBiPPfYYQ4YMcSm7UlFRQWhoKGPGjGHp0qUsXbqUt956i1WrVuHr68uTTz4JwMyZM4mMjERRFLZt28awYcPIzMykR48eFBYWYrFY8PPz4+OPP0ZRFFnK6H6HTrDuMEHFZn/jxg0pTISfuri4mPj4eB588EHy8vIoLy/H29ubfv360bNnTxITE2XVXIAPPviArl27MnHiRKZOnUpcXBwJCQm8+OKLvPrqq1JwjR07loSEBKxWK7169SIjI4OcnBz8/f2x2Wz86U9/Ij4+Xs8i1NHouF2Q+6lTp1DVWxmGInlj8uTJhIaG4nQ6OX36NC1btuTQoUPU1tZSWFjIlClTCAoKws3NDW9vbxYvXoyiKFRVVcl4D6fTiclkwmw2s2zZMgL9A6goK0d1KpI4fbhpM0GB3Si5UQwqvBA/ieihw3DaHYgeOvY6G68kvszAgQOxWq0kJycTEBBASUmJS+2rfv36sXDhQlRVJTs7Gz8/Pz744AOXWlgJCQlEREQAsHjxYjp06MDNmzex2+0yyLeuro7u3btLDX7AgAEkJibKRACHw0FmZibu7u6kpaXphUZ1NBoaemDE/NNm1v7jH/+gXbt2zJ07F4fDweTJkzEYDERERBAREcGZM2dkNvv58+cJDw9n9OjRvPTSS8TFxTFt2jSeeuopZs2axfLly7HZbHz44Yd4eXlRW1vLm2++yWuvvQZA//79SUlJISsri06dOlFcXCytZ009VvcCOsG6wwQF156CYtKKANWDBw/i5eXF3r17KS8vx9PTk6+//pr9+/fTokULli1bJlt+bNmyBYPBQFFREYBsS9CwV1RycjJDhw7ln//8J48++iiqWh8HEx4ezpYtWxg1ahTLli27bQNZHTr+2xAFQlNSUmjdujXp6emyF6FQOm7evImvry8zZszAaDRy4sQJmdyhrSJdXl5OWloar7zyCi1atOCjjz4CICQkhOnTp8t14XQ6WbVqlXQFCtKECkuXvE3P7j0ovn4Dh83OpOfjGRnzuHQRqk6FOouV+LjnGTJkCIqisGjRIoKDg6WQERa44OBgkpOTZWavp6cnKSkpMktYVVWSkpLo1asXDoeDjRs34uPjI7OvhLJ18eJFDAYD7777LhaLhcjISBISEuQ1JpOJEydO0K5dO/bv34+q6p0adDQObueBMZvN0lUt1mz37t353e9+h81mY/To0TzzzDNYLBYGDhzIoEGDqKmpkVn0Pj4+rF+/XpYv0R5CYbl8+TJdu3blm2++ISoqitTUVBwOB9OnT2fixIns2LGD/v37A7dKsTT1WN0L3JFg3e6l/Zo2BrEZf/rppzKbApBB6Js3b8bb25vs7GwKCwvp3LkzKSkpmM1m3n77bVq0aMGOHTsAyMjIwMvLi/fee0+mmAsLmaiVY7fbSUtLIyAggCeeeILXXntN9mObPXs20dHR9OrVi5MnT/6q3oOOpoG2ttSuXbvw9PQkKyvLhVxUVlYSGxtL165dZfHPw4cP07FjRw4cOCCtVOIQliGDwcCKFStwOByEh4czb948ucZqa2tZtmwZPj4+8pzIql23bh0Gg4GSkhIAJkyYQExMjMu9i4qKCAkJ4fXXX8dqtbJw4UKCg4NlLStVVSkuLqZHjx7Mnz8fgLx/x1Bu377dxcI0c+ZMIiIisNls5OTk0Lx5c7744gupgDkcDvbu3UuzZs04fvw4NpuNRx99lClTpkh3JMDBgwfp1KkT//rXv35ys2gdOn4utHL6wIEDnDt3DrhVagHqyyr4+Pgwa9YsAMaOHcuYMWOA+rIpbm5u0ktitVp57rnniIqKQlVVqaSImm5CFtbV1REZGcnYsWOJiYmR50+dOsUjjzzCmDFjmDFjhksdvKYeq6Z4J1q53Uy7CTT88H7YIBr+8IawWCyYTCYiIiKIjIzkgw8+ICcnh/Pnz/P+++9jMBh44oknsFqt5OXl0blzZ9asWSO1hri4OLy9vfnmm2+Aej/1b37zG9577z1yc3PJz89n586dREdHk5aWRl1dHRUVFQwcOBBPT0+ys7Ol0Ni/fz/u7u4MHjyYsrIy3cWgo9Eh3ORms5mPP/6Yjh07snjxYrZs2cL69etJTk7G09OTwMBAdu/eLTfOzMxMfvvb33LgwAHMZjNDhw5lxYoVlJSUkJuby6pVq3BzcyM1NRWz2cwLL7xAUFAQBQUFHDt2jLKyMlavXk1AQABFRUWyMa3NZmP16tUEBgZy7do1oD6+q0+fPmzdupXLly/z/fff8/vf/54OHTrIOjypqak89NBDzJs3j4KCAj766CNiY2Np3bo1S5YsAepr/ERGRjJmzBhyc3PJysrCaDSSlJRE3759AaSw8fX15euvv6asrIy9e/cSFhZGfHy8bP0TGBjIzJkzpYIGcPToUVq3bs3+/ful67Wp36+OXzbE0fC8kF9Lliyhbdu2vPHGGxw6dIirV6/y1VdfERMTg8Fg4OzZswA8/vjjjBw5Ulqrv/zyS1q2bElycjKqqrJnzx7c3NyIjY3lxIkTlJSUkJmZyR/+8Af+/ve/Y7FYqK6u5s0338Td3Z2kpCRprampqSEyMpIHH3yQXbt2AUiFq6nH7168n4bvRPvZXQnW3QjKLx3i2LFjByNGjMBgMNChQwfat2+Pt7c3M2bMkBtoTk4Ovr6+fPvtt1JrvXHjBpGRkYwePVrGa8yaNQs/Pz/8/Pzw9/cnODiYCRMmkKfp2xYXF8fQoUMxGo3SrHv9+nWioqL461//KoMT7/aCm3r8dPyyISw0ADt37iQwMJDg4GBCQ0MJCwsjIiKC2bNny6Dv8vJy7HY7V69epVOnTmRmZmI2m3n55ZcJCwvDYDDg7+/PI488wsqVK6VbPD09nYEDB9KpUye8vLzYuXMn27Ztw9/fn+vXr0uiYrfbWbVqFX379pVKxquvvkpYWBjR0dF069YNLy8v+vTpI12ZopxDcnIyHTt2pFWrVoSGhrJ8+XKioqJYsWKFtCR/8skn+Pr6EhAQgJubG5cvX2bOnDmMHDlSXlNTU8NTTz1FYGAgPXr0wMfHh9jYWPLy8qQyNG7cOKZPny6zpYRrtHfv3hw6dEiSxaZ+vzp+2bgbwSooKCA+Ph4fHx8pc9zc3Hj88cdJT0+XdbASExOJjY2VrkRFUUhKSsJgMLBv3z6gvg7W8OHD6d27N25ubvj5+TF48GA+++wzKQN3796Nh4cHBw4cQFVVuXcsWrSI/v37U1BQgKIosmhwU4/fvXg/dyRYPyaofy0C3GazSbbtcDjIz8/nxIkT5OfnU1xcLGM5xOZvMpkoKiqS3xcTr6amRmb9CUF0/vx5Tp8+LSed0P7tdjtVVVUuNXvERC0vL5cBgj/FgtXU46fjlw2n0yldCxaLhdLSUoxGIxaLRVZTF4qWIBcipvDGjRuYzWZMJhOqqlJdXU1WVhbnzp2TsRxms9nFZZCZmSkJlbi/oiiyMrxYT9evX0dV690VDoeDqqoqTCYT6enpnD592uVa8Wx1dXVcuXKFc+fOSfei1Wqlurpafg5QVlbG6dOnZa0gh8NBYWEhqqpSVlYmN8czZ86Qnp7OhQsXpKATcSs3b97EaDTKOC6xXkVpFUEYm/r96vhl4277vVAKzGYzV69e5ejRo1y8eFGWSBDxWDU1NRQXFwO3Yqqg3kAg5jLUuxYLCgo4d+4chYWF/6MxurZ9lJBjYm2Lda3tN9rU43ev3s+Pnb/vCdZPMfE5nU5pMYJb7TCEti6Ej3ayiUkL9c1sRcsO8T0xucW9jEajDHgXE9BoNEoB5HA45P2EsBHCQ4eOxoZYB+JfAdHGRsxTUfVdxA2Kf7U1d7RaslhjYmMWe4pYI9rkD+3a0zZjFm58IRwE6RLNp0VzZu2ziTUllBTxO0TciM1mc1mfiqJIISPcgKIFj1ir4vOysjIAeX9hgRbrV/wm3YKl4z/F7WRwwwbpZrMZh8NBcXGxJD/aeOLa2lopx27cuCH/FsqNoihyHaiqKoPTtYYHi8Ui2+uIc+I+ok2W9m9FubU33M/QCdZPIFiiF1llZaVL01btZik2WagPgBfnGmr42lRZcWizAcWkFMJDLABFudXLSRyiz5sOHY0FYYERZEMoAYKgiM1UOycb9u6rrKyUGrOi3LLgig1b9EYT602sCa0mLaxiIkZE3EfbbLm0tJTKykr5HNrrGj6nWLcNm7FrLdbiu9r/pyBXgqyJ9SmszWJctG1AhCARa1uM4/2wf+poWvzYHNImaWjXkaIosttASUmJCyHSfkfMYTH/RQykWDuqqroQKO3aFcRMVVUpE7XXizIs4nnuZ9yVYIlBux3xuN35+w1C+xWHiOnQZlKICWoymeSkFBYt4TrUTkZtd3KRTagot7R8ca0YZ0W55csVjTi1C+anvGAdOv5/IOazmLdaZUCsB0VRJGEQR8OeZ6qqyk214YasJVPC2ttws9beT1yvKIrUhrX3E9dYrVYpNATx02rTqqq6WIK1xEqUUBHXCo2/srLSRdhUVFTIcRIuP7EfiOu0zyaq3otzTf1+ddx/uJ0M0HYOEK5AcTT0vijKLYuVdq6Wl5fLkkVaC5W23JBYl+Ia8V2n0ymVqtvtDfcrfux3iuP/AajllEChCtGwAAAAAElFTkSuQmCC)"
      ]
    },
    {
      "cell_type": "code",
      "metadata": {
        "id": "85dbl6McwCj8",
        "colab": {
          "base_uri": "https://localhost:8080/"
        },
        "outputId": "4336326a-3fe7-45f8-ffed-d5702f68de94"
      },
      "source": [
        "df.Total_gols.skew()"
      ],
      "execution_count": null,
      "outputs": [
        {
          "output_type": "execute_result",
          "data": {
            "text/plain": [
              "0.662771077930593"
            ]
          },
          "metadata": {
            "tags": []
          },
          "execution_count": 113
        }
      ]
    },
    {
      "cell_type": "markdown",
      "metadata": {
        "id": "wUM4qoNoxOGC"
      },
      "source": [
        "SUMÁRIO DE ESTATÍSTICA DESCRITIVA"
      ]
    },
    {
      "cell_type": "code",
      "metadata": {
        "id": "jCRZgXgYupLp"
      },
      "source": [
        "#Sumário da Estatística Descritiva\n",
        "df.describe()"
      ],
      "execution_count": null,
      "outputs": []
    }
  ]
}